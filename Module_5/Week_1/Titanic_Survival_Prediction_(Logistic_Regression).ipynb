{
  "nbformat": 4,
  "nbformat_minor": 0,
  "metadata": {
    "colab": {
      "provenance": []
    },
    "kernelspec": {
      "name": "python3",
      "display_name": "Python 3"
    },
    "language_info": {
      "name": "python"
    }
  },
  "cells": [
    {
      "cell_type": "markdown",
      "source": [
        "## Download dataset and import library"
      ],
      "metadata": {
        "id": "Ee-WLLYZC9UU"
      }
    },
    {
      "cell_type": "code",
      "execution_count": 1,
      "metadata": {
        "colab": {
          "base_uri": "https://localhost:8080/"
        },
        "id": "vmFlGLT_CuFa",
        "outputId": "50d1f785-d950-4ca2-da9b-e4f51d11b1ec"
      },
      "outputs": [
        {
          "output_type": "stream",
          "name": "stdout",
          "text": [
            "Downloading...\n",
            "From: https://drive.google.com/uc?id=1SFWQ7Zi83Gff-RVrlHj0z4Llm1Nq4BBA\n",
            "To: /content/titanic_modified_dataset.csv\n",
            "\r  0% 0.00/25.9k [00:00<?, ?B/s]\r100% 25.9k/25.9k [00:00<00:00, 32.8MB/s]\n"
          ]
        }
      ],
      "source": [
        "!gdown 1SFWQ7Zi83Gff-RVrlHj0z4Llm1Nq4BBA"
      ]
    },
    {
      "cell_type": "code",
      "source": [
        "import pandas as pd\n",
        "import numpy as np\n",
        "import matplotlib.pyplot as plt\n",
        "\n",
        "from sklearn.model_selection import train_test_split\n",
        "from sklearn .preprocessing import StandardScaler"
      ],
      "metadata": {
        "id": "5ruSrsSKDCkU"
      },
      "execution_count": 2,
      "outputs": []
    },
    {
      "cell_type": "markdown",
      "source": [
        "## Read datasset"
      ],
      "metadata": {
        "id": "EnvrFESEDS0G"
      }
    },
    {
      "cell_type": "code",
      "source": [
        "PATH = 'titanic_modified_dataset.csv'\n",
        "df = pd.read_csv(PATH, index_col='PassengerId')\n",
        "df.head()"
      ],
      "metadata": {
        "colab": {
          "base_uri": "https://localhost:8080/",
          "height": 257
        },
        "id": "THE0jTJkDUok",
        "outputId": "cf408ba1-9afb-4eb8-89dc-62e76a7c5a5f"
      },
      "execution_count": 3,
      "outputs": [
        {
          "output_type": "execute_result",
          "data": {
            "text/plain": [
              "             Pclass  Sex   Age  SibSp  Parch     Fare  Embarked  Title  \\\n",
              "PassengerId                                                              \n",
              "1                 3    0  22.0      1      0   7.2500         0      0   \n",
              "2                 1    1  38.0      1      0  71.2833         1      1   \n",
              "3                 3    1  26.0      0      0   7.9250         0      2   \n",
              "4                 1    1  35.0      1      0  53.1000         0      1   \n",
              "5                 3    0  35.0      0      0   8.0500         0      0   \n",
              "\n",
              "             Survived  \n",
              "PassengerId            \n",
              "1                   0  \n",
              "2                   1  \n",
              "3                   1  \n",
              "4                   1  \n",
              "5                   0  "
            ],
            "text/html": [
              "\n",
              "  <div id=\"df-378b5425-a2f2-4c06-8b56-c5a498881b17\" class=\"colab-df-container\">\n",
              "    <div>\n",
              "<style scoped>\n",
              "    .dataframe tbody tr th:only-of-type {\n",
              "        vertical-align: middle;\n",
              "    }\n",
              "\n",
              "    .dataframe tbody tr th {\n",
              "        vertical-align: top;\n",
              "    }\n",
              "\n",
              "    .dataframe thead th {\n",
              "        text-align: right;\n",
              "    }\n",
              "</style>\n",
              "<table border=\"1\" class=\"dataframe\">\n",
              "  <thead>\n",
              "    <tr style=\"text-align: right;\">\n",
              "      <th></th>\n",
              "      <th>Pclass</th>\n",
              "      <th>Sex</th>\n",
              "      <th>Age</th>\n",
              "      <th>SibSp</th>\n",
              "      <th>Parch</th>\n",
              "      <th>Fare</th>\n",
              "      <th>Embarked</th>\n",
              "      <th>Title</th>\n",
              "      <th>Survived</th>\n",
              "    </tr>\n",
              "    <tr>\n",
              "      <th>PassengerId</th>\n",
              "      <th></th>\n",
              "      <th></th>\n",
              "      <th></th>\n",
              "      <th></th>\n",
              "      <th></th>\n",
              "      <th></th>\n",
              "      <th></th>\n",
              "      <th></th>\n",
              "      <th></th>\n",
              "    </tr>\n",
              "  </thead>\n",
              "  <tbody>\n",
              "    <tr>\n",
              "      <th>1</th>\n",
              "      <td>3</td>\n",
              "      <td>0</td>\n",
              "      <td>22.0</td>\n",
              "      <td>1</td>\n",
              "      <td>0</td>\n",
              "      <td>7.2500</td>\n",
              "      <td>0</td>\n",
              "      <td>0</td>\n",
              "      <td>0</td>\n",
              "    </tr>\n",
              "    <tr>\n",
              "      <th>2</th>\n",
              "      <td>1</td>\n",
              "      <td>1</td>\n",
              "      <td>38.0</td>\n",
              "      <td>1</td>\n",
              "      <td>0</td>\n",
              "      <td>71.2833</td>\n",
              "      <td>1</td>\n",
              "      <td>1</td>\n",
              "      <td>1</td>\n",
              "    </tr>\n",
              "    <tr>\n",
              "      <th>3</th>\n",
              "      <td>3</td>\n",
              "      <td>1</td>\n",
              "      <td>26.0</td>\n",
              "      <td>0</td>\n",
              "      <td>0</td>\n",
              "      <td>7.9250</td>\n",
              "      <td>0</td>\n",
              "      <td>2</td>\n",
              "      <td>1</td>\n",
              "    </tr>\n",
              "    <tr>\n",
              "      <th>4</th>\n",
              "      <td>1</td>\n",
              "      <td>1</td>\n",
              "      <td>35.0</td>\n",
              "      <td>1</td>\n",
              "      <td>0</td>\n",
              "      <td>53.1000</td>\n",
              "      <td>0</td>\n",
              "      <td>1</td>\n",
              "      <td>1</td>\n",
              "    </tr>\n",
              "    <tr>\n",
              "      <th>5</th>\n",
              "      <td>3</td>\n",
              "      <td>0</td>\n",
              "      <td>35.0</td>\n",
              "      <td>0</td>\n",
              "      <td>0</td>\n",
              "      <td>8.0500</td>\n",
              "      <td>0</td>\n",
              "      <td>0</td>\n",
              "      <td>0</td>\n",
              "    </tr>\n",
              "  </tbody>\n",
              "</table>\n",
              "</div>\n",
              "    <div class=\"colab-df-buttons\">\n",
              "\n",
              "  <div class=\"colab-df-container\">\n",
              "    <button class=\"colab-df-convert\" onclick=\"convertToInteractive('df-378b5425-a2f2-4c06-8b56-c5a498881b17')\"\n",
              "            title=\"Convert this dataframe to an interactive table.\"\n",
              "            style=\"display:none;\">\n",
              "\n",
              "  <svg xmlns=\"http://www.w3.org/2000/svg\" height=\"24px\" viewBox=\"0 -960 960 960\">\n",
              "    <path d=\"M120-120v-720h720v720H120Zm60-500h600v-160H180v160Zm220 220h160v-160H400v160Zm0 220h160v-160H400v160ZM180-400h160v-160H180v160Zm440 0h160v-160H620v160ZM180-180h160v-160H180v160Zm440 0h160v-160H620v160Z\"/>\n",
              "  </svg>\n",
              "    </button>\n",
              "\n",
              "  <style>\n",
              "    .colab-df-container {\n",
              "      display:flex;\n",
              "      gap: 12px;\n",
              "    }\n",
              "\n",
              "    .colab-df-convert {\n",
              "      background-color: #E8F0FE;\n",
              "      border: none;\n",
              "      border-radius: 50%;\n",
              "      cursor: pointer;\n",
              "      display: none;\n",
              "      fill: #1967D2;\n",
              "      height: 32px;\n",
              "      padding: 0 0 0 0;\n",
              "      width: 32px;\n",
              "    }\n",
              "\n",
              "    .colab-df-convert:hover {\n",
              "      background-color: #E2EBFA;\n",
              "      box-shadow: 0px 1px 2px rgba(60, 64, 67, 0.3), 0px 1px 3px 1px rgba(60, 64, 67, 0.15);\n",
              "      fill: #174EA6;\n",
              "    }\n",
              "\n",
              "    .colab-df-buttons div {\n",
              "      margin-bottom: 4px;\n",
              "    }\n",
              "\n",
              "    [theme=dark] .colab-df-convert {\n",
              "      background-color: #3B4455;\n",
              "      fill: #D2E3FC;\n",
              "    }\n",
              "\n",
              "    [theme=dark] .colab-df-convert:hover {\n",
              "      background-color: #434B5C;\n",
              "      box-shadow: 0px 1px 3px 1px rgba(0, 0, 0, 0.15);\n",
              "      filter: drop-shadow(0px 1px 2px rgba(0, 0, 0, 0.3));\n",
              "      fill: #FFFFFF;\n",
              "    }\n",
              "  </style>\n",
              "\n",
              "    <script>\n",
              "      const buttonEl =\n",
              "        document.querySelector('#df-378b5425-a2f2-4c06-8b56-c5a498881b17 button.colab-df-convert');\n",
              "      buttonEl.style.display =\n",
              "        google.colab.kernel.accessAllowed ? 'block' : 'none';\n",
              "\n",
              "      async function convertToInteractive(key) {\n",
              "        const element = document.querySelector('#df-378b5425-a2f2-4c06-8b56-c5a498881b17');\n",
              "        const dataTable =\n",
              "          await google.colab.kernel.invokeFunction('convertToInteractive',\n",
              "                                                    [key], {});\n",
              "        if (!dataTable) return;\n",
              "\n",
              "        const docLinkHtml = 'Like what you see? Visit the ' +\n",
              "          '<a target=\"_blank\" href=https://colab.research.google.com/notebooks/data_table.ipynb>data table notebook</a>'\n",
              "          + ' to learn more about interactive tables.';\n",
              "        element.innerHTML = '';\n",
              "        dataTable['output_type'] = 'display_data';\n",
              "        await google.colab.output.renderOutput(dataTable, element);\n",
              "        const docLink = document.createElement('div');\n",
              "        docLink.innerHTML = docLinkHtml;\n",
              "        element.appendChild(docLink);\n",
              "      }\n",
              "    </script>\n",
              "  </div>\n",
              "\n",
              "\n",
              "<div id=\"df-5d27f92b-b1b5-43ee-a91b-f8f1b55a6bf2\">\n",
              "  <button class=\"colab-df-quickchart\" onclick=\"quickchart('df-5d27f92b-b1b5-43ee-a91b-f8f1b55a6bf2')\"\n",
              "            title=\"Suggest charts\"\n",
              "            style=\"display:none;\">\n",
              "\n",
              "<svg xmlns=\"http://www.w3.org/2000/svg\" height=\"24px\"viewBox=\"0 0 24 24\"\n",
              "     width=\"24px\">\n",
              "    <g>\n",
              "        <path d=\"M19 3H5c-1.1 0-2 .9-2 2v14c0 1.1.9 2 2 2h14c1.1 0 2-.9 2-2V5c0-1.1-.9-2-2-2zM9 17H7v-7h2v7zm4 0h-2V7h2v10zm4 0h-2v-4h2v4z\"/>\n",
              "    </g>\n",
              "</svg>\n",
              "  </button>\n",
              "\n",
              "<style>\n",
              "  .colab-df-quickchart {\n",
              "      --bg-color: #E8F0FE;\n",
              "      --fill-color: #1967D2;\n",
              "      --hover-bg-color: #E2EBFA;\n",
              "      --hover-fill-color: #174EA6;\n",
              "      --disabled-fill-color: #AAA;\n",
              "      --disabled-bg-color: #DDD;\n",
              "  }\n",
              "\n",
              "  [theme=dark] .colab-df-quickchart {\n",
              "      --bg-color: #3B4455;\n",
              "      --fill-color: #D2E3FC;\n",
              "      --hover-bg-color: #434B5C;\n",
              "      --hover-fill-color: #FFFFFF;\n",
              "      --disabled-bg-color: #3B4455;\n",
              "      --disabled-fill-color: #666;\n",
              "  }\n",
              "\n",
              "  .colab-df-quickchart {\n",
              "    background-color: var(--bg-color);\n",
              "    border: none;\n",
              "    border-radius: 50%;\n",
              "    cursor: pointer;\n",
              "    display: none;\n",
              "    fill: var(--fill-color);\n",
              "    height: 32px;\n",
              "    padding: 0;\n",
              "    width: 32px;\n",
              "  }\n",
              "\n",
              "  .colab-df-quickchart:hover {\n",
              "    background-color: var(--hover-bg-color);\n",
              "    box-shadow: 0 1px 2px rgba(60, 64, 67, 0.3), 0 1px 3px 1px rgba(60, 64, 67, 0.15);\n",
              "    fill: var(--button-hover-fill-color);\n",
              "  }\n",
              "\n",
              "  .colab-df-quickchart-complete:disabled,\n",
              "  .colab-df-quickchart-complete:disabled:hover {\n",
              "    background-color: var(--disabled-bg-color);\n",
              "    fill: var(--disabled-fill-color);\n",
              "    box-shadow: none;\n",
              "  }\n",
              "\n",
              "  .colab-df-spinner {\n",
              "    border: 2px solid var(--fill-color);\n",
              "    border-color: transparent;\n",
              "    border-bottom-color: var(--fill-color);\n",
              "    animation:\n",
              "      spin 1s steps(1) infinite;\n",
              "  }\n",
              "\n",
              "  @keyframes spin {\n",
              "    0% {\n",
              "      border-color: transparent;\n",
              "      border-bottom-color: var(--fill-color);\n",
              "      border-left-color: var(--fill-color);\n",
              "    }\n",
              "    20% {\n",
              "      border-color: transparent;\n",
              "      border-left-color: var(--fill-color);\n",
              "      border-top-color: var(--fill-color);\n",
              "    }\n",
              "    30% {\n",
              "      border-color: transparent;\n",
              "      border-left-color: var(--fill-color);\n",
              "      border-top-color: var(--fill-color);\n",
              "      border-right-color: var(--fill-color);\n",
              "    }\n",
              "    40% {\n",
              "      border-color: transparent;\n",
              "      border-right-color: var(--fill-color);\n",
              "      border-top-color: var(--fill-color);\n",
              "    }\n",
              "    60% {\n",
              "      border-color: transparent;\n",
              "      border-right-color: var(--fill-color);\n",
              "    }\n",
              "    80% {\n",
              "      border-color: transparent;\n",
              "      border-right-color: var(--fill-color);\n",
              "      border-bottom-color: var(--fill-color);\n",
              "    }\n",
              "    90% {\n",
              "      border-color: transparent;\n",
              "      border-bottom-color: var(--fill-color);\n",
              "    }\n",
              "  }\n",
              "</style>\n",
              "\n",
              "  <script>\n",
              "    async function quickchart(key) {\n",
              "      const quickchartButtonEl =\n",
              "        document.querySelector('#' + key + ' button');\n",
              "      quickchartButtonEl.disabled = true;  // To prevent multiple clicks.\n",
              "      quickchartButtonEl.classList.add('colab-df-spinner');\n",
              "      try {\n",
              "        const charts = await google.colab.kernel.invokeFunction(\n",
              "            'suggestCharts', [key], {});\n",
              "      } catch (error) {\n",
              "        console.error('Error during call to suggestCharts:', error);\n",
              "      }\n",
              "      quickchartButtonEl.classList.remove('colab-df-spinner');\n",
              "      quickchartButtonEl.classList.add('colab-df-quickchart-complete');\n",
              "    }\n",
              "    (() => {\n",
              "      let quickchartButtonEl =\n",
              "        document.querySelector('#df-5d27f92b-b1b5-43ee-a91b-f8f1b55a6bf2 button');\n",
              "      quickchartButtonEl.style.display =\n",
              "        google.colab.kernel.accessAllowed ? 'block' : 'none';\n",
              "    })();\n",
              "  </script>\n",
              "</div>\n",
              "\n",
              "    </div>\n",
              "  </div>\n"
            ],
            "application/vnd.google.colaboratory.intrinsic+json": {
              "type": "dataframe",
              "variable_name": "df",
              "summary": "{\n  \"name\": \"df\",\n  \"rows\": 891,\n  \"fields\": [\n    {\n      \"column\": \"PassengerId\",\n      \"properties\": {\n        \"dtype\": \"number\",\n        \"std\": 257,\n        \"min\": 1,\n        \"max\": 891,\n        \"num_unique_values\": 891,\n        \"samples\": [\n          710,\n          440,\n          841\n        ],\n        \"semantic_type\": \"\",\n        \"description\": \"\"\n      }\n    },\n    {\n      \"column\": \"Pclass\",\n      \"properties\": {\n        \"dtype\": \"number\",\n        \"std\": 0,\n        \"min\": 1,\n        \"max\": 3,\n        \"num_unique_values\": 3,\n        \"samples\": [\n          3,\n          1,\n          2\n        ],\n        \"semantic_type\": \"\",\n        \"description\": \"\"\n      }\n    },\n    {\n      \"column\": \"Sex\",\n      \"properties\": {\n        \"dtype\": \"number\",\n        \"std\": 0,\n        \"min\": 0,\n        \"max\": 1,\n        \"num_unique_values\": 2,\n        \"samples\": [\n          1,\n          0\n        ],\n        \"semantic_type\": \"\",\n        \"description\": \"\"\n      }\n    },\n    {\n      \"column\": \"Age\",\n      \"properties\": {\n        \"dtype\": \"number\",\n        \"std\": 13.019696550973194,\n        \"min\": 0.42,\n        \"max\": 80.0,\n        \"num_unique_values\": 88,\n        \"samples\": [\n          0.75,\n          22.0\n        ],\n        \"semantic_type\": \"\",\n        \"description\": \"\"\n      }\n    },\n    {\n      \"column\": \"SibSp\",\n      \"properties\": {\n        \"dtype\": \"number\",\n        \"std\": 1,\n        \"min\": 0,\n        \"max\": 8,\n        \"num_unique_values\": 7,\n        \"samples\": [\n          1,\n          0\n        ],\n        \"semantic_type\": \"\",\n        \"description\": \"\"\n      }\n    },\n    {\n      \"column\": \"Parch\",\n      \"properties\": {\n        \"dtype\": \"number\",\n        \"std\": 0,\n        \"min\": 0,\n        \"max\": 6,\n        \"num_unique_values\": 7,\n        \"samples\": [\n          0,\n          1\n        ],\n        \"semantic_type\": \"\",\n        \"description\": \"\"\n      }\n    },\n    {\n      \"column\": \"Fare\",\n      \"properties\": {\n        \"dtype\": \"number\",\n        \"std\": 49.693428597180905,\n        \"min\": 0.0,\n        \"max\": 512.3292,\n        \"num_unique_values\": 248,\n        \"samples\": [\n          11.2417,\n          51.8625\n        ],\n        \"semantic_type\": \"\",\n        \"description\": \"\"\n      }\n    },\n    {\n      \"column\": \"Embarked\",\n      \"properties\": {\n        \"dtype\": \"number\",\n        \"std\": 0,\n        \"min\": -1,\n        \"max\": 2,\n        \"num_unique_values\": 4,\n        \"samples\": [\n          1,\n          -1\n        ],\n        \"semantic_type\": \"\",\n        \"description\": \"\"\n      }\n    },\n    {\n      \"column\": \"Title\",\n      \"properties\": {\n        \"dtype\": \"number\",\n        \"std\": 1,\n        \"min\": 0,\n        \"max\": 16,\n        \"num_unique_values\": 17,\n        \"samples\": [\n          0,\n          1\n        ],\n        \"semantic_type\": \"\",\n        \"description\": \"\"\n      }\n    },\n    {\n      \"column\": \"Survived\",\n      \"properties\": {\n        \"dtype\": \"number\",\n        \"std\": 0,\n        \"min\": 0,\n        \"max\": 1,\n        \"num_unique_values\": 2,\n        \"samples\": [\n          1,\n          0\n        ],\n        \"semantic_type\": \"\",\n        \"description\": \"\"\n      }\n    }\n  ]\n}"
            }
          },
          "metadata": {},
          "execution_count": 3
        }
      ]
    },
    {
      "cell_type": "markdown",
      "source": [
        "## Split X, y"
      ],
      "metadata": {
        "id": "mL_OcocbDqPR"
      }
    },
    {
      "cell_type": "code",
      "source": [
        "dataset_arr = df.to_numpy().astype(np.float64)\n",
        "X, y = dataset_arr[:, :-1], dataset_arr[:, -1]"
      ],
      "metadata": {
        "id": "HNw9nCqeDmRY"
      },
      "execution_count": 4,
      "outputs": []
    },
    {
      "cell_type": "markdown",
      "source": [
        "## Add bias to X"
      ],
      "metadata": {
        "id": "RSSTNQ7LEmek"
      }
    },
    {
      "cell_type": "code",
      "source": [
        "intercept = np.ones((X.shape[0], 1))\n",
        "X_b = np.concatenate((intercept, X), axis=1)"
      ],
      "metadata": {
        "id": "pk3veF8JEqSM"
      },
      "execution_count": 5,
      "outputs": []
    },
    {
      "cell_type": "markdown",
      "source": [
        "## Split train, val, test"
      ],
      "metadata": {
        "id": "NlGfroQxE-Lu"
      }
    },
    {
      "cell_type": "code",
      "source": [
        "val_size = 0.2\n",
        "test_size = 0.125\n",
        "random_state = 2\n",
        "is_shuffle = True\n",
        "\n",
        "X_train, X_val, y_train, y_val = train_test_split(\n",
        "    X_b, y,\n",
        "    test_size=val_size,\n",
        "    random_state=random_state,\n",
        "    shuffle=is_shuffle\n",
        ")\n",
        "\n",
        "X_train, X_test, y_train, y_test = train_test_split(\n",
        "    X_train, y_train,\n",
        "    test_size=test_size,\n",
        "    random_state=random_state,\n",
        "    shuffle=is_shuffle\n",
        ")"
      ],
      "metadata": {
        "id": "uByrnVOcFBKf"
      },
      "execution_count": 6,
      "outputs": []
    },
    {
      "cell_type": "markdown",
      "source": [
        "## Normalize dataset"
      ],
      "metadata": {
        "id": "i1kt_uYbFcAe"
      }
    },
    {
      "cell_type": "code",
      "source": [
        "normalizer = StandardScaler()\n",
        "X_train[:, 1:] = normalizer.fit_transform(X_train[:, 1:])\n",
        "X_val[:, 1:] = normalizer.transform(X_val[:, 1:])\n",
        "X_test[:, 1:] = normalizer.transform(X_test[:, 1:])"
      ],
      "metadata": {
        "id": "Re7-UZoIFazT"
      },
      "execution_count": 7,
      "outputs": []
    },
    {
      "cell_type": "markdown",
      "source": [
        "## Define functions"
      ],
      "metadata": {
        "id": "7YTIm5pEF56C"
      }
    },
    {
      "cell_type": "code",
      "source": [
        "def sigmoid(z):\n",
        "  return 1 / (1 + np.exp(-z))"
      ],
      "metadata": {
        "id": "zkdC1BrLF4cb"
      },
      "execution_count": 8,
      "outputs": []
    },
    {
      "cell_type": "code",
      "source": [
        "def predict(X, theta):\n",
        "  dot_product = np.dot(X, theta)\n",
        "  return sigmoid(dot_product)"
      ],
      "metadata": {
        "id": "2vjfiYZAGBYR"
      },
      "execution_count": 9,
      "outputs": []
    },
    {
      "cell_type": "code",
      "source": [
        "def compute_loss(y_hat, y):\n",
        "  y_hat = np.clip(y_hat, 1e-7, 1-1e-7)\n",
        "  return (-y * np.log(y_hat) - (1 - y) * np.log(1 - y_hat)).mean()"
      ],
      "metadata": {
        "id": "EfxeETNTGNyw"
      },
      "execution_count": 10,
      "outputs": []
    },
    {
      "cell_type": "code",
      "source": [
        "def compute_gradient(X, y, y_hat):\n",
        "  return np.dot(X.T, (y_hat - y)) / y.size"
      ],
      "metadata": {
        "id": "RIJGusOHGfxj"
      },
      "execution_count": 11,
      "outputs": []
    },
    {
      "cell_type": "code",
      "source": [
        "def update_theta(theta, gradient, lr):\n",
        "  return theta - lr*gradient"
      ],
      "metadata": {
        "id": "dzJzvZGgG388"
      },
      "execution_count": 12,
      "outputs": []
    },
    {
      "cell_type": "code",
      "source": [
        "def compute_accuracy(X, y, theta):\n",
        "  y_hat = predict(X, theta).round()\n",
        "  acc = (y_hat == y).mean()\n",
        "  return acc"
      ],
      "metadata": {
        "id": "YGkMZVtqG_2w"
      },
      "execution_count": 13,
      "outputs": []
    },
    {
      "cell_type": "markdown",
      "source": [
        "## Initialize hyperparameters and weights"
      ],
      "metadata": {
        "id": "7MVA2P8nHQ3u"
      }
    },
    {
      "cell_type": "code",
      "source": [
        "lr = 0.01\n",
        "epochs = 100\n",
        "batch_size = 16\n",
        "\n",
        "np.random.seed(random_state)\n",
        "theta = np.random.uniform(size=X_train.shape[1])"
      ],
      "metadata": {
        "id": "h_47EOw9HiuG"
      },
      "execution_count": 14,
      "outputs": []
    },
    {
      "cell_type": "markdown",
      "source": [
        "## Train model"
      ],
      "metadata": {
        "id": "IjigqotGHuVw"
      }
    },
    {
      "cell_type": "code",
      "source": [
        "train_accs = []\n",
        "train_losses = []\n",
        "val_accs = []\n",
        "val_losses = []\n",
        "\n",
        "for epoch in range(epochs):\n",
        "  train_batch_losses = []\n",
        "  train_batch_accs = []\n",
        "  val_batch_losses = []\n",
        "  val_batch_accs = []\n",
        "\n",
        "  for i in range(0, X_train.shape[0], batch_size):\n",
        "    X_i = X_train[i:i+batch_size]\n",
        "    y_i = y_train[i:i+batch_size]\n",
        "\n",
        "    y_hat = predict(X_i, theta)\n",
        "\n",
        "    train_loss = compute_loss(y_hat, y_i)\n",
        "\n",
        "    gradient = compute_gradient(X_i, y_i, y_hat)\n",
        "\n",
        "    theta = update_theta(theta, gradient, lr)\n",
        "\n",
        "\n",
        "    train_batch_losses.append(train_loss)\n",
        "\n",
        "    train_acc = compute_accuracy(X_train, y_train, theta)\n",
        "    train_batch_accs.append(train_acc)\n",
        "\n",
        "    y_val_hat = predict(X_val, theta)\n",
        "    val_loss = compute_loss(y_val_hat, y_val)\n",
        "    val_batch_losses.append(val_loss)\n",
        "\n",
        "    val_acc = compute_accuracy(X_val, y_val, theta)\n",
        "    val_batch_accs.append(val_acc)\n",
        "\n",
        "  train_batch_loss = sum(train_batch_losses) / len(train_batch_losses)\n",
        "  val_batch_loss = sum(val_batch_losses) / len(val_batch_losses)\n",
        "  train_batch_acc = sum(train_batch_accs) / len(train_batch_accs)\n",
        "  val_batch_acc = sum(val_batch_accs) / len(val_batch_accs)\n",
        "\n",
        "  train_losses.append(train_batch_loss)\n",
        "  val_losses.append(val_batch_loss)\n",
        "  train_accs.append(train_batch_acc)\n",
        "  val_accs.append(val_batch_acc)\n",
        "\n",
        "  print(f'\\nEPOCH {epoch+1}:\\tTraining loss: {train_batch_loss:.3f}\\tValidation loss: {val_batch_loss:.3f}')"
      ],
      "metadata": {
        "colab": {
          "base_uri": "https://localhost:8080/"
        },
        "id": "9KKhLRH-Hv7U",
        "outputId": "34abc3aa-7c9a-486d-e0ce-d3ed7eee4d46"
      },
      "execution_count": 15,
      "outputs": [
        {
          "output_type": "stream",
          "name": "stdout",
          "text": [
            "\n",
            "EPOCH 1:\tTraining loss: 0.703\tValidation loss: 0.599\n",
            "\n",
            "EPOCH 2:\tTraining loss: 0.670\tValidation loss: 0.582\n",
            "\n",
            "EPOCH 3:\tTraining loss: 0.640\tValidation loss: 0.567\n",
            "\n",
            "EPOCH 4:\tTraining loss: 0.614\tValidation loss: 0.555\n",
            "\n",
            "EPOCH 5:\tTraining loss: 0.592\tValidation loss: 0.544\n",
            "\n",
            "EPOCH 6:\tTraining loss: 0.572\tValidation loss: 0.535\n",
            "\n",
            "EPOCH 7:\tTraining loss: 0.554\tValidation loss: 0.528\n",
            "\n",
            "EPOCH 8:\tTraining loss: 0.539\tValidation loss: 0.522\n",
            "\n",
            "EPOCH 9:\tTraining loss: 0.526\tValidation loss: 0.517\n",
            "\n",
            "EPOCH 10:\tTraining loss: 0.514\tValidation loss: 0.513\n",
            "\n",
            "EPOCH 11:\tTraining loss: 0.504\tValidation loss: 0.509\n",
            "\n",
            "EPOCH 12:\tTraining loss: 0.495\tValidation loss: 0.507\n",
            "\n",
            "EPOCH 13:\tTraining loss: 0.487\tValidation loss: 0.505\n",
            "\n",
            "EPOCH 14:\tTraining loss: 0.480\tValidation loss: 0.503\n",
            "\n",
            "EPOCH 15:\tTraining loss: 0.474\tValidation loss: 0.502\n",
            "\n",
            "EPOCH 16:\tTraining loss: 0.468\tValidation loss: 0.501\n",
            "\n",
            "EPOCH 17:\tTraining loss: 0.463\tValidation loss: 0.500\n",
            "\n",
            "EPOCH 18:\tTraining loss: 0.459\tValidation loss: 0.500\n",
            "\n",
            "EPOCH 19:\tTraining loss: 0.455\tValidation loss: 0.500\n",
            "\n",
            "EPOCH 20:\tTraining loss: 0.452\tValidation loss: 0.500\n",
            "\n",
            "EPOCH 21:\tTraining loss: 0.449\tValidation loss: 0.499\n",
            "\n",
            "EPOCH 22:\tTraining loss: 0.446\tValidation loss: 0.500\n",
            "\n",
            "EPOCH 23:\tTraining loss: 0.443\tValidation loss: 0.500\n",
            "\n",
            "EPOCH 24:\tTraining loss: 0.441\tValidation loss: 0.500\n",
            "\n",
            "EPOCH 25:\tTraining loss: 0.439\tValidation loss: 0.500\n",
            "\n",
            "EPOCH 26:\tTraining loss: 0.437\tValidation loss: 0.500\n",
            "\n",
            "EPOCH 27:\tTraining loss: 0.435\tValidation loss: 0.501\n",
            "\n",
            "EPOCH 28:\tTraining loss: 0.434\tValidation loss: 0.501\n",
            "\n",
            "EPOCH 29:\tTraining loss: 0.432\tValidation loss: 0.502\n",
            "\n",
            "EPOCH 30:\tTraining loss: 0.431\tValidation loss: 0.502\n",
            "\n",
            "EPOCH 31:\tTraining loss: 0.430\tValidation loss: 0.502\n",
            "\n",
            "EPOCH 32:\tTraining loss: 0.429\tValidation loss: 0.503\n",
            "\n",
            "EPOCH 33:\tTraining loss: 0.428\tValidation loss: 0.503\n",
            "\n",
            "EPOCH 34:\tTraining loss: 0.427\tValidation loss: 0.504\n",
            "\n",
            "EPOCH 35:\tTraining loss: 0.426\tValidation loss: 0.504\n",
            "\n",
            "EPOCH 36:\tTraining loss: 0.425\tValidation loss: 0.504\n",
            "\n",
            "EPOCH 37:\tTraining loss: 0.424\tValidation loss: 0.505\n",
            "\n",
            "EPOCH 38:\tTraining loss: 0.424\tValidation loss: 0.505\n",
            "\n",
            "EPOCH 39:\tTraining loss: 0.423\tValidation loss: 0.506\n",
            "\n",
            "EPOCH 40:\tTraining loss: 0.422\tValidation loss: 0.506\n",
            "\n",
            "EPOCH 41:\tTraining loss: 0.422\tValidation loss: 0.506\n",
            "\n",
            "EPOCH 42:\tTraining loss: 0.421\tValidation loss: 0.507\n",
            "\n",
            "EPOCH 43:\tTraining loss: 0.421\tValidation loss: 0.507\n",
            "\n",
            "EPOCH 44:\tTraining loss: 0.420\tValidation loss: 0.507\n",
            "\n",
            "EPOCH 45:\tTraining loss: 0.420\tValidation loss: 0.508\n",
            "\n",
            "EPOCH 46:\tTraining loss: 0.420\tValidation loss: 0.508\n",
            "\n",
            "EPOCH 47:\tTraining loss: 0.419\tValidation loss: 0.509\n",
            "\n",
            "EPOCH 48:\tTraining loss: 0.419\tValidation loss: 0.509\n",
            "\n",
            "EPOCH 49:\tTraining loss: 0.418\tValidation loss: 0.509\n",
            "\n",
            "EPOCH 50:\tTraining loss: 0.418\tValidation loss: 0.510\n",
            "\n",
            "EPOCH 51:\tTraining loss: 0.418\tValidation loss: 0.510\n",
            "\n",
            "EPOCH 52:\tTraining loss: 0.417\tValidation loss: 0.510\n",
            "\n",
            "EPOCH 53:\tTraining loss: 0.417\tValidation loss: 0.510\n",
            "\n",
            "EPOCH 54:\tTraining loss: 0.417\tValidation loss: 0.511\n",
            "\n",
            "EPOCH 55:\tTraining loss: 0.417\tValidation loss: 0.511\n",
            "\n",
            "EPOCH 56:\tTraining loss: 0.416\tValidation loss: 0.511\n",
            "\n",
            "EPOCH 57:\tTraining loss: 0.416\tValidation loss: 0.512\n",
            "\n",
            "EPOCH 58:\tTraining loss: 0.416\tValidation loss: 0.512\n",
            "\n",
            "EPOCH 59:\tTraining loss: 0.416\tValidation loss: 0.512\n",
            "\n",
            "EPOCH 60:\tTraining loss: 0.416\tValidation loss: 0.512\n",
            "\n",
            "EPOCH 61:\tTraining loss: 0.415\tValidation loss: 0.513\n",
            "\n",
            "EPOCH 62:\tTraining loss: 0.415\tValidation loss: 0.513\n",
            "\n",
            "EPOCH 63:\tTraining loss: 0.415\tValidation loss: 0.513\n",
            "\n",
            "EPOCH 64:\tTraining loss: 0.415\tValidation loss: 0.513\n",
            "\n",
            "EPOCH 65:\tTraining loss: 0.415\tValidation loss: 0.514\n",
            "\n",
            "EPOCH 66:\tTraining loss: 0.415\tValidation loss: 0.514\n",
            "\n",
            "EPOCH 67:\tTraining loss: 0.415\tValidation loss: 0.514\n",
            "\n",
            "EPOCH 68:\tTraining loss: 0.414\tValidation loss: 0.514\n",
            "\n",
            "EPOCH 69:\tTraining loss: 0.414\tValidation loss: 0.514\n",
            "\n",
            "EPOCH 70:\tTraining loss: 0.414\tValidation loss: 0.515\n",
            "\n",
            "EPOCH 71:\tTraining loss: 0.414\tValidation loss: 0.515\n",
            "\n",
            "EPOCH 72:\tTraining loss: 0.414\tValidation loss: 0.515\n",
            "\n",
            "EPOCH 73:\tTraining loss: 0.414\tValidation loss: 0.515\n",
            "\n",
            "EPOCH 74:\tTraining loss: 0.414\tValidation loss: 0.515\n",
            "\n",
            "EPOCH 75:\tTraining loss: 0.414\tValidation loss: 0.516\n",
            "\n",
            "EPOCH 76:\tTraining loss: 0.414\tValidation loss: 0.516\n",
            "\n",
            "EPOCH 77:\tTraining loss: 0.413\tValidation loss: 0.516\n",
            "\n",
            "EPOCH 78:\tTraining loss: 0.413\tValidation loss: 0.516\n",
            "\n",
            "EPOCH 79:\tTraining loss: 0.413\tValidation loss: 0.516\n",
            "\n",
            "EPOCH 80:\tTraining loss: 0.413\tValidation loss: 0.517\n",
            "\n",
            "EPOCH 81:\tTraining loss: 0.413\tValidation loss: 0.517\n",
            "\n",
            "EPOCH 82:\tTraining loss: 0.413\tValidation loss: 0.517\n",
            "\n",
            "EPOCH 83:\tTraining loss: 0.413\tValidation loss: 0.517\n",
            "\n",
            "EPOCH 84:\tTraining loss: 0.413\tValidation loss: 0.517\n",
            "\n",
            "EPOCH 85:\tTraining loss: 0.413\tValidation loss: 0.517\n",
            "\n",
            "EPOCH 86:\tTraining loss: 0.413\tValidation loss: 0.517\n",
            "\n",
            "EPOCH 87:\tTraining loss: 0.413\tValidation loss: 0.518\n",
            "\n",
            "EPOCH 88:\tTraining loss: 0.413\tValidation loss: 0.518\n",
            "\n",
            "EPOCH 89:\tTraining loss: 0.413\tValidation loss: 0.518\n",
            "\n",
            "EPOCH 90:\tTraining loss: 0.413\tValidation loss: 0.518\n",
            "\n",
            "EPOCH 91:\tTraining loss: 0.413\tValidation loss: 0.518\n",
            "\n",
            "EPOCH 92:\tTraining loss: 0.413\tValidation loss: 0.518\n",
            "\n",
            "EPOCH 93:\tTraining loss: 0.413\tValidation loss: 0.518\n",
            "\n",
            "EPOCH 94:\tTraining loss: 0.412\tValidation loss: 0.519\n",
            "\n",
            "EPOCH 95:\tTraining loss: 0.412\tValidation loss: 0.519\n",
            "\n",
            "EPOCH 96:\tTraining loss: 0.412\tValidation loss: 0.519\n",
            "\n",
            "EPOCH 97:\tTraining loss: 0.412\tValidation loss: 0.519\n",
            "\n",
            "EPOCH 98:\tTraining loss: 0.412\tValidation loss: 0.519\n",
            "\n",
            "EPOCH 99:\tTraining loss: 0.412\tValidation loss: 0.519\n",
            "\n",
            "EPOCH 100:\tTraining loss: 0.412\tValidation loss: 0.519\n"
          ]
        }
      ]
    },
    {
      "cell_type": "code",
      "source": [
        "fig, ax = plt.subplots(2, 2, figsize=(12, 10))\n",
        "\n",
        "ax[0, 0].plot(train_losses)\n",
        "ax[0, 0].set(xlabel='Epoch', ylabel='Loss')\n",
        "ax[0, 0].set_title('Training loss')\n",
        "\n",
        "ax[0, 1].plot(val_losses, 'orange')\n",
        "ax[0, 1].set(xlabel='Epoch', ylabel='Loss')\n",
        "ax[0, 1].set_title('Validation loss')\n",
        "\n",
        "ax[1, 0].plot(train_accs)\n",
        "ax[1, 0].set(xlabel='Epoch', ylabel='Accuracy')\n",
        "ax[1, 0].set_title('Training accuracy')\n",
        "\n",
        "ax[1, 1].plot(val_accs, 'orange')\n",
        "ax[1, 1].set(xlabel='Epoch', ylabel='Accuracy')\n",
        "ax[1, 1].set_title('Validation accuracy')\n",
        "\n",
        "plt.show()"
      ],
      "metadata": {
        "colab": {
          "base_uri": "https://localhost:8080/",
          "height": 550
        },
        "id": "-8OVL0PLKJwf",
        "outputId": "2ce2ea0b-5530-4f70-cbd3-f8a60985a758"
      },
      "execution_count": 16,
      "outputs": [
        {
          "output_type": "display_data",
          "data": {
            "text/plain": [
              "<Figure size 1200x1000 with 4 Axes>"
            ],
            "image/png": "[encoded data removed]"
          },
          "metadata": {}
        }
      ]
    },
    {
      "cell_type": "markdown",
      "source": [
        "## Evaluate model"
      ],
      "metadata": {
        "id": "2s-P6txJLsVZ"
      }
    },
    {
      "cell_type": "code",
      "source": [
        "val_set_acc = compute_accuracy(X_val, y_val, theta)\n",
        "test_set_acc = compute_accuracy(X_test, y_test, theta)\n",
        "print('Evaluation on validatetion and test set:')\n",
        "print(f'Accuracy: {val_set_acc}')\n",
        "print(f'Accuracy: {test_set_acc}')"
      ],
      "metadata": {
        "colab": {
          "base_uri": "https://localhost:8080/"
        },
        "id": "PgeOZGBMLvF8",
        "outputId": "423e0c18-3bc1-410f-b147-20fcb6d7e364"
      },
      "execution_count": 17,
      "outputs": [
        {
          "output_type": "stream",
          "name": "stdout",
          "text": [
            "Evaluation on validatetion and test set:\n",
            "Accuracy: 0.770949720670391\n",
            "Accuracy: 0.7752808988764045\n"
          ]
        }
      ]
    }
  ]
}
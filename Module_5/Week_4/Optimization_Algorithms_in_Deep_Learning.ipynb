{
  "nbformat": 4,
  "nbformat_minor": 0,
  "metadata": {
    "colab": {
      "provenance": []
    },
    "kernelspec": {
      "name": "python3",
      "display_name": "Python 3"
    },
    "language_info": {
      "name": "python"
    }
  },
  "cells": [
    {
      "cell_type": "code",
      "source": [
        "import numpy as np"
      ],
      "metadata": {
        "id": "poze3psnHVoF"
      },
      "execution_count": null,
      "outputs": []
    },
    {
      "cell_type": "markdown",
      "source": [
        "## Gradient Descent"
      ],
      "metadata": {
        "id": "nm8gQfwfWO6L"
      }
    },
    {
      "cell_type": "markdown",
      "source": [
        "### Epoch=1:\n",
        "\n",
        "- ${dw_1 = 0.2w_1 = 0.2 * (-5) = -1}$\n",
        "- ${dw_2 = 4w_2 = 4 * (-2) = -8}$\n",
        "- ${w_1 = w_1 - α * dw_1 = -5 - 0.4*(-1) = -4.6}$\n",
        "- ${w_2 = w_2 - α*dw_2 = -2 - 0.4*(-8) = 1.2}$\n",
        "\n",
        "### Epoch=2:\n",
        "- ${dw_1 = 0.2w_1 = 0.2*(-4.6) = -0.92}$\n",
        "- ${dw_2 = 4w_2 = 4*1.2 = 4.8}$\n",
        "- ${w_1 = w_1 - α*dw_1 = -4.6 - 0.4 * (-0.92) = -4.232}$\n",
        "- ${w_2 = w_2 - α*dw_2 = 1.2 - 0.4*4.8 = -0.72}$"
      ],
      "metadata": {
        "id": "ETM8wWLNE-aK"
      }
    },
    {
      "cell_type": "code",
      "execution_count": null,
      "metadata": {
        "id": "jZEdOlZaFlvj"
      },
      "outputs": [],
      "source": [
        "def df_w(W):\n",
        "  \"\"\"\n",
        "  Thực hiện tính gradient của dw1 và dw2\n",
        "  Arguments:\n",
        "  W -- np.array [w1, w2]\n",
        "  Returns:\n",
        "  dW -- np.array [dw1, dw2], array chứa giá trị đạo hàm theo w1 và w2\n",
        "  \"\"\"\n",
        "  w1, w2 = W\n",
        "  dw1 = 0.2 * w1\n",
        "  dw2 = 4 * w2\n",
        "  dW = np.array([dw1, dw2])\n",
        "  return dW"
      ]
    },
    {
      "cell_type": "code",
      "source": [
        "def sgd(W, dW, lr):\n",
        "  \"\"\"\n",
        "  Thực hiện thuật toán Gradient Descent để update w1 và w2\n",
        "  Arguments:\n",
        "  W -- np.array [w1, w2]\n",
        "  dW -- np.array [dw1, dw2], array chứa giá trị đạo hàm theo w1 và w2\n",
        "  lr -- float: learning rate\n",
        "  Returns:\n",
        "  W -- np.array [w1, w2] w1 và w2 sau khi update\n",
        "  \"\"\"\n",
        "  W = W - lr * dW\n",
        "  return W"
      ],
      "metadata": {
        "id": "vC2IbEU-G1kP"
      },
      "execution_count": null,
      "outputs": []
    },
    {
      "cell_type": "code",
      "source": [
        "def train_p1(optimizer, lr, epochs):\n",
        "  \"\"\"\n",
        "  Thực hiện tìm điểm minium của function (1) dựa vào thuật toán được\n",
        "  truyền vào từ optimizer\n",
        "  Arguments:\n",
        "  optimize: function thực hiện thuật toán optimization cụ thể\n",
        "  lr -- float: learning rate\n",
        "  epochs -- int: số lượng lần (epoch) lặp để tìm minium\n",
        "  Returns:\n",
        "  results -- list: list các cặp điểm [w1, w2] sau mỗi epoch (mỗi lần cập nhật)\n",
        "  \"\"\"\n",
        "\n",
        "  # initial point\n",
        "  W = np.array([-5, -2], dtype=np.float32)\n",
        "  # list of results\n",
        "  results = [W]\n",
        "\n",
        "  # Tạo vòng lặp theo số epochs\n",
        "  # Tìm gradient dW gồm dw1 và dw2\n",
        "  # dùng thuật toán optimization cập nhật w1, w2\n",
        "  # append cặp [w1, w2] vào list results\n",
        "  for i in range(epochs):\n",
        "    dW = df_w(W)\n",
        "    W = optimizer(W, dW, lr)\n",
        "    results.append(W)\n",
        "    print(f'Epoch {i + 1}: w1 = {W[0]}, w2 = {W[1]}')\n",
        "  return results"
      ],
      "metadata": {
        "id": "sDP_r_8KG44b"
      },
      "execution_count": null,
      "outputs": []
    },
    {
      "cell_type": "code",
      "source": [
        "train_sgd = train_p1(sgd, 0.4, 30)"
      ],
      "metadata": {
        "colab": {
          "base_uri": "https://localhost:8080/"
        },
        "id": "CZ_pQ638JNXP",
        "outputId": "d190ec73-04f2-4be7-d475-acb34547c24c"
      },
      "execution_count": null,
      "outputs": [
        {
          "output_type": "stream",
          "name": "stdout",
          "text": [
            "Epoch 1: w1 = -4.6, w2 = 1.2000000000000002\n",
            "Epoch 2: w1 = -4.231999999999999, w2 = -0.7200000000000002\n",
            "Epoch 3: w1 = -3.893439999999999, w2 = 0.43200000000000016\n",
            "Epoch 4: w1 = -3.5819647999999993, w2 = -0.2592000000000001\n",
            "Epoch 5: w1 = -3.2954076159999994, w2 = 0.1555200000000001\n",
            "Epoch 6: w1 = -3.0317750067199993, w2 = -0.09331200000000006\n",
            "Epoch 7: w1 = -2.7892330061823993, w2 = 0.05598720000000004\n",
            "Epoch 8: w1 = -2.5660943656878072, w2 = -0.03359232000000004\n",
            "Epoch 9: w1 = -2.360806816432783, w2 = 0.020155392000000022\n",
            "Epoch 10: w1 = -2.1719422711181604, w2 = -0.012093235200000017\n",
            "Epoch 11: w1 = -1.9981868894287076, w2 = 0.007255941120000012\n",
            "Epoch 12: w1 = -1.838331938274411, w2 = -0.0043535646720000085\n",
            "Epoch 13: w1 = -1.691265383212458, w2 = 0.0026121388032000056\n",
            "Epoch 14: w1 = -1.5559641525554613, w2 = -0.0015672832819200039\n",
            "Epoch 15: w1 = -1.4314870203510244, w2 = 0.0009403699691520025\n",
            "Epoch 16: w1 = -1.3169680587229424, w2 = -0.0005642219814912016\n",
            "Epoch 17: w1 = -1.211610614025107, w2 = 0.00033853318889472107\n",
            "Epoch 18: w1 = -1.1146817649030984, w2 = -0.00020311991333683268\n",
            "Epoch 19: w1 = -1.0255072237108505, w2 = 0.00012187194800209963\n",
            "Epoch 20: w1 = -0.9434666458139824, w2 = -7.312316880125978e-05\n",
            "Epoch 21: w1 = -0.8679893141488638, w2 = 4.387390128075587e-05\n",
            "Epoch 22: w1 = -0.7985501690169547, w2 = -2.6324340768453522e-05\n",
            "Epoch 23: w1 = -0.7346661554955983, w2 = 1.5794604461072116e-05\n",
            "Epoch 24: w1 = -0.6758928630559504, w2 = -9.476762676643271e-06\n",
            "Epoch 25: w1 = -0.6218214340114744, w2 = 5.686057605985963e-06\n",
            "Epoch 26: w1 = -0.5720757192905565, w2 = -3.4116345635915786e-06\n",
            "Epoch 27: w1 = -0.526309661747312, w2 = 2.046980738154947e-06\n",
            "Epoch 28: w1 = -0.484204888807527, w2 = -1.2281884428929686e-06\n",
            "Epoch 29: w1 = -0.44546849770292485, w2 = 7.36913065735781e-07\n",
            "Epoch 30: w1 = -0.40983101788669085, w2 = -4.4214783944146867e-07\n"
          ]
        }
      ]
    },
    {
      "cell_type": "markdown",
      "source": [
        "## Gradient Descent + Momentum"
      ],
      "metadata": {
        "id": "9ejLKSpXAnWD"
      }
    },
    {
      "cell_type": "markdown",
      "source": [
        "### epoch=1\n",
        "- ${dw_1 = 0.2w_1 = 0.2*(-5) = -1}$\n",
        "- ${dw_1 = 4w_2 = 4*(-2) = -8}$\n",
        "- ${v_1 = β * v_1 + (1 - β)*dw_1 = 0.5*0 + (1-0.5)*(-1) = -0.5}$\n",
        "- ${v_2 = β * v_2 + (1 - β)*dw_2 = 0.5*0 + (1-0.5)*(-8) = -4}$\n",
        "- ${w_1 = w_1 - α*dw_1 = -5 - 0.6 * (-0.5) = -4.7}$\n",
        "- ${w_2 = w_2 - α*dw_2 = -2 - 0.6 * (-4) = 0.4}$\n",
        "\n",
        "### epoch=2\n",
        "- ${dw_1 = 0.2w_1 = 0.2*(-4.7) = -0.94}$\n",
        "- ${dw_1 = 4w_2 = 4*(-0.4) = -1.6}$\n",
        "- ${v_1 = β * v_1 + (1 - β)*dw_1 = 0.5*(-0.5) + (1-0.5)*(-0.94) = -0.72}$\n",
        "- ${v_2 = β * v_2 + (1 - β)*dw_2 = 0.5*(-4) + (1-0.5)*1.6 = -1.2}$\n",
        "- ${w_1 = w_1 - α*dw_1 = -4.7 - 0.6 * (-0.72) = -4.268}$\n",
        "- ${w_2 = w_2 - α*dw_2 = 0.4 - 0.6 * (-1.2) = 1.12}$"
      ],
      "metadata": {
        "id": "45pCrOonK0vf"
      }
    },
    {
      "cell_type": "code",
      "source": [
        "def df_w(W):\n",
        "  w1, w2 = W\n",
        "  dw1 = 0.2 * w1\n",
        "  dw2 = 4 * w2\n",
        "  dW = np.array([dw1, dw2])\n",
        "  return dW"
      ],
      "metadata": {
        "id": "BDH937evAq-f"
      },
      "execution_count": 32,
      "outputs": []
    },
    {
      "cell_type": "code",
      "source": [
        "def sgd_momentum(W, dW, lr, beta, V):\n",
        "  V = beta * V + (1 - beta) * dW\n",
        "  W = W - lr * V\n",
        "  return W, V"
      ],
      "metadata": {
        "id": "X1JewsPSM_5F"
      },
      "execution_count": 38,
      "outputs": []
    },
    {
      "cell_type": "code",
      "source": [
        "def train_p2(optimizer, lr, beta, epochs):\n",
        "  W = np.array([-5, -2], dtype=np.float32)\n",
        "  V = np.zeros_like(W)\n",
        "  results = [W]\n",
        "  for i in range(epochs):\n",
        "      dW = df_w(W)\n",
        "      W, V = optimizer(W, dW, lr, beta, V)\n",
        "      results.append(W)\n",
        "      print(f'Epoch {i + 1}: w1 = {W[0]}, w2 = {W[1]}')\n",
        "  return results"
      ],
      "metadata": {
        "id": "9XUpJQPcNpBv"
      },
      "execution_count": 39,
      "outputs": []
    },
    {
      "cell_type": "code",
      "source": [
        "train_sgd_momentum = train_p2(sgd_momentum, 0.6, 0.5, 30)"
      ],
      "metadata": {
        "colab": {
          "base_uri": "https://localhost:8080/"
        },
        "id": "vmAoob8LNzhb",
        "outputId": "d92d48a6-8883-46e5-8778-238f8c698adc"
      },
      "execution_count": 40,
      "outputs": [
        {
          "output_type": "stream",
          "name": "stdout",
          "text": [
            "Epoch 1: w1 = -4.7, w2 = 0.3999999999999999\n",
            "Epoch 2: w1 = -4.268, w2 = 1.12\n",
            "Epoch 3: w1 = -3.7959199999999997, w2 = 0.13600000000000012\n",
            "Epoch 4: w1 = -3.3321248, w2 = -0.5192\n",
            "Epoch 5: w1 = -2.900299712, w2 = -0.22376000000000013\n",
            "Epoch 6: w1 = -2.5103691852799996, w2 = 0.19247199999999992\n",
            "Epoch 7: w1 = -2.1647817708031996, w2 = 0.16962160000000004\n",
            "Epoch 8: w1 = -1.8621011573166075, w2 = -0.04534951999999995\n",
            "Epoch 9: w1 = -1.599034781134315, w2 = -0.09841565599999999\n",
            "Epoch 10: w1 = -1.3715595061751098, w2 = -0.0068499368000000255\n",
            "Epoch 11: w1 = -1.1755282983250006, w2 = 0.04715284695999999\n",
            "Epoch 12: w1 = -1.006980996500446, w2 = 0.01757082248800001\n",
            "Epoch 13: w1 = -0.8622884857981419, w2 = -0.018305176733599993\n",
            "Epoch 14: w1 = -0.7382049212991013, w2 = -0.01427696426408\n",
            "Epoch 15: w1 = -0.6318708437716349, w2 = 0.004869499087575998\n",
            "Epoch 16: w1 = -0.5407915543816036, w2 = 0.0085993318583128\n",
            "Epoch 17: w1 = -0.4628044164236918, w2 = 0.00014505001370584102\n",
            "Epoch 18: w1 = -0.39604258245931434, w2 = -0.004256150925044647\n",
            "Epoch 19: w1 = -0.3388991105295668, w2 = -0.0013493702843663147\n",
            "Epoch 20: w1 = -0.289993427932919, w2 = 0.0017232643772124292\n",
            "Epoch 21: w1 = -0.24814098095861994, w2 = 0.0011916644553468863\n",
            "Epoch 22: w1 = -0.21232629861395325, w2 = -0.0005041328520021488\n",
            "Epoch 23: w1 = -0.1816793795247827, w2 = -0.0007470720832740878\n",
            "Epoch 24: w1 = -0.15545515720871045, w2 = 2.7944801018848055e-05\n",
            "Epoch 25: w1 = -0.1330157366181517, w2 = 0.00038191948194269836\n",
            "Epoch 26: w1 = -0.11381508212578322, w2 = 0.00010060344407338548\n",
            "Epoch 27: w1 = -0.09738584995205199, w2 = -0.00016077870774933352\n",
            "Epoch 28: w1 = -0.08332808286806326, w2 = -9.853533436149282e-05\n",
            "Epoch 29: w1 = -0.0712995143539851, w2 = 5.08287535662189e-05\n",
            "Epoch 30: w1 = -0.061007259235706914, w2 = 6.451629325061208e-05\n"
          ]
        }
      ]
    },
    {
      "cell_type": "markdown",
      "source": [
        "## RMSProp"
      ],
      "metadata": {
        "id": "JXn9QbNtOfJS"
      }
    },
    {
      "cell_type": "markdown",
      "source": [
        "### epoch=1\n",
        "- ${dw_1 = 0.2w_1 = 0.2*(-0.5) = -1}$\n",
        "- ${dw_2 = 4w_2 = 4*(-2) = -8}$\n",
        "- ${s_1 = γ*s_1 + (1 -γ) * dw_1^2 = 0.9*0 + (1-0.9) * (-1)^2 = 0.1}$\n",
        "- ${s_2 = γ*s_2 + (1 -γ) * dw_2^2 = 0.9*0 + (1-0.9) * (-8)^2 = 6.4}$\n",
        "- ${w_1 = w_1 - α * \\frac{dw_1}{\\sqrt{s_1 + ϵ}} = -5 - 0.3 * \\frac{-8}{\\sqrt{0.1 + 10^-6}} = -4.051}$\n",
        "- ${w_2 = w_2 - α * \\frac{dw_2}{\\sqrt{s_2 + ϵ}} = -2 - 0.3 * \\frac{-8}{\\sqrt{6.4 + 10^-6}} = -1.051}$\n",
        "\n",
        "### epoch=2\n",
        "- ${dw_1 = 0.2w_1 = 0.2*(-4.051) = -0.8102}$\n",
        "- ${dw_2 = 4w_2 = 4*(-1.051) = -4.204}$\n",
        "- ${s_1 = γ*s_1 + (1 -γ) * dw_1^2 = 0.9*0.1 + (1-0.9) * (-0.8102)^2 = 0.156}$\n",
        "- ${s_2 = γ*s_2 + (1 -γ) * dw_2^2 = 0.9*6.4 + (1-0.9) * (-4.204)^2 = 7.527}$\n",
        "- ${w_1 = w_1 - α * \\frac{dw_1}{\\sqrt{s_1 + ϵ}} = -4.051 - 0.3 * \\frac{-0.8102}{\\sqrt{0.156 + 10^-6}} = -3.436}$\n",
        "- ${w_2 = w_2 - α * \\frac{dw_2}{\\sqrt{s_2 + ϵ}} = -1.051 - 0.3 * \\frac{-4.204}{\\sqrt{7.527 + 10^-6}} = -0.591}$"
      ],
      "metadata": {
        "id": "m4q388OCIdtd"
      }
    },
    {
      "cell_type": "code",
      "source": [
        "def df_w(W):\n",
        "  w1, w2 = W\n",
        "  dw1 = 0.2 * w1\n",
        "  dw2 = 4 * w2\n",
        "  dW = np.array([dw1, dw2])\n",
        "  return dW"
      ],
      "metadata": {
        "id": "HggFvgFwOlcR"
      },
      "execution_count": 41,
      "outputs": []
    },
    {
      "cell_type": "code",
      "source": [
        "def RMSProp(W, dW, lr, S, gamma):\n",
        "  epsilon = 1e-6\n",
        "  S = gamma * S + (1 - gamma) * dW ** 2\n",
        "  adapt_lr = lr / np.sqrt(S + epsilon)\n",
        "  W = W - adapt_lr * dW\n",
        "  return W, S"
      ],
      "metadata": {
        "id": "AGRe0K-YNfPI"
      },
      "execution_count": 42,
      "outputs": []
    },
    {
      "cell_type": "code",
      "source": [
        "def train_p3(optimizer, lr, epoch):\n",
        "  W = np.array([-5, -2], dtype=np.float32)\n",
        "  S = np.array([0, 0], dtype=np.float32)\n",
        "  results = [W]\n",
        "  for i in range(epoch):\n",
        "    dW = df_w(W)\n",
        "    W, S = optimizer(W, dW, lr, S, 0.9)\n",
        "    results.append(W)\n",
        "    print(f'Epoch {i + 1}: w1 = {W[0]}, w2 = {W[1]}')\n",
        "  return results"
      ],
      "metadata": {
        "id": "cZhfnRauNyFv"
      },
      "execution_count": 43,
      "outputs": []
    },
    {
      "cell_type": "code",
      "source": [
        "train_RMSProp = train_p3(RMSProp, 0.3, 30)"
      ],
      "metadata": {
        "colab": {
          "base_uri": "https://localhost:8080/"
        },
        "id": "R-Evg-KHOEur",
        "outputId": "2de35002-e6ea-43cd-dbf9-d8595644ff82"
      },
      "execution_count": 44,
      "outputs": [
        {
          "output_type": "stream",
          "name": "stdout",
          "text": [
            "Epoch 1: w1 = -4.051321445330401, w2 = -1.0513167760653601\n",
            "Epoch 2: w1 = -3.435197540710313, w2 = -0.59152342591607\n",
            "Epoch 3: w1 = -2.9589369293489796, w2 = -0.32943940499816177\n",
            "Epoch 4: w1 = -2.5654628900149308, w2 = -0.1775648185723558\n",
            "Epoch 5: w1 = -2.22920552377513, w2 = -0.09163256127358084\n",
            "Epoch 6: w1 = -1.9362675156207105, w2 = -0.044944986580951356\n",
            "Epoch 7: w1 = -1.6781768574274967, w2 = -0.020814229601575286\n",
            "Epoch 8: w1 = -1.4493498477990567, w2 = -0.009035585595074875\n",
            "Epoch 9: w1 = -1.245881993508816, w2 = -0.003645905472988451\n",
            "Epoch 10: w1 = -1.0649030085077547, w2 = -0.0013535098945501255\n",
            "Epoch 11: w1 = -0.9042022597717997, w2 = -0.00045644443087383875\n",
            "Epoch 12: w1 = -0.7619964948529878, w2 = -0.0001375629281105624\n",
            "Epoch 13: w1 = -0.6367784991349715, w2 = -3.62601019486888e-05\n",
            "Epoch 14: w1 = -0.5272152373016314, w2 = -8.113374556116922e-06\n",
            "Epoch 15: w1 = -0.4320785049217716, w2 = -1.47473411837664e-06\n",
            "Epoch 16: w1 = -0.3501985066951055, w2 = -2.0278399084030024e-07\n",
            "Epoch 17: w1 = -0.2804346489488741, w2 = -1.842311869185962e-08\n",
            "Epoch 18: w1 = -0.22165983448068366, w2 = -7.677427476337743e-10\n",
            "Epoch 19: w1 = -0.1727555124949996, w2 = 7.804519979765185e-12\n",
            "Epoch 20: w1 = -0.1326151335054371, w2 = -5.057948000728944e-13\n",
            "Epoch 21: w1 = -0.1001537791926479, w2 = 6.191235006401474e-14\n",
            "Epoch 22: w1 = -0.07432177081518393, w2 = -1.1337378100969915e-14\n",
            "Epoch 23: w1 = -0.0541201278463423, w2 = 2.801667022532451e-15\n",
            "Epoch 24: w1 = -0.03861591574158471, w2 = -8.813411907873668e-16\n",
            "Epoch 25: w1 = -0.02695580661604302, w2 = 3.3992111677872574e-16\n",
            "Epoch 26: w1 = -0.018376563327480284, w2 = -1.565817306327013e-16\n",
            "Epoch 27: w1 = -0.012211609286904186, w2 = 8.449949845599074e-17\n",
            "Epoch 28: w1 = -0.007893317940141477, w2 = -5.2637659507219454e-17\n",
            "Epoch 29: w1 = -0.004951102607005797, w2 = 3.741079952361897e-17\n",
            "Epoch 30: w1 = -0.003005770808471415, w2 = -3.0050608426117974e-17\n"
          ]
        }
      ]
    },
    {
      "cell_type": "markdown",
      "source": [
        "## Adam"
      ],
      "metadata": {
        "id": "6AASQ2l5Osx6"
      }
    },
    {
      "cell_type": "markdown",
      "source": [
        "### epoch=1\n",
        "- ${dw_1 = 0.2w_1 = 0.2 * (-5) = -1}$\n",
        "- ${dw_2 = 4w_2 = 4 * (-2) = -8}$\n",
        "- ${v_1 = β_1 * v_1 + (1 - β_1) * dw_1 = 0.9*0 + (1-0.9) * (-1) = -0.1}$\n",
        "- ${v_2 = β_2 * v_2 + (1 - β_2) * dw_2 = 0.9*0 + (1-0.9) * (-8) = -0.8}$\n",
        "- ${s_1 = β_1 * s_1 + (1 - β_2) * dw_1^2 = 0.999*0 + (1 - 0.999) * (-1)^2 = 0.001}$\n",
        "- ${s_2 = β_2 * s_2 + (1 - β_2) * dw_2^2 = 0.999*0 + (1 - 0.999) * (-8)^2 = 0.064}$\n",
        "- ${v_{corr1} = \\frac{v_1}{1-β_1^t} = \\frac{-0.1}{1-0.9^1} = -1}$\n",
        "- ${v_{corr2} = \\frac{v_2}{1-β_1^t} = \\frac{-0.8}{1-0.9^1} = -8}$\n",
        "- ${s_{corr1} = \\frac{s_1}{1-β_1^t} = \\frac{0.001}{1-0.999^1} = 1}$\n",
        "- ${s_{corr2} = \\frac{s_2}{1-β_2^t} = \\frac{0.064}{1-0.999^1} = 64}$\n",
        "- ${w_1 = w_1 - α * \\frac{v_{corr1}}{\\sqrt{s_{corr1} + ϵ}} = -5 - 0.2 * \\frac{-1}{\\sqrt{1} + 10^{-6}} = -4.8}$\n",
        "- ${w_2 = w_2 - α * \\frac{v_{corr2}}{\\sqrt{s_{corr2} + ϵ}} = -2 - 0.2 * \\frac{-8}{\\sqrt{64} + 10^{-6}} = -1.8}$\n",
        "\n",
        "### epoch=2\n",
        "- ${dw_1 = 0.2w_1 = 0.2 * (-4.8) = -0.96}$\n",
        "- ${dw_2 = 4w_2 = 4 * (-1.8) = -7.2}$\n",
        "- ${v_1 = β_1 * v_1 + (1 - β_1) * dw_1 = 0.9*(-0.1) + (1-0.9) * (-0.86) = -0.186}$\n",
        "- ${v_2 = β_2 * v_2 + (1 - β_2) * dw_2 = 0.9*(-0.8) + (1-0.9) * (-7.2) = -1.44}$\n",
        "- ${s_1 = β_1 * s_1 + (1 - β_2) * dw_1^2 = 0.999*0.001 + (1 - 0.999) * (-0.96)^2 = 0.0019206}$\n",
        "- ${s_2 = β_2 * s_2 + (1 - β_2) * dw_2^2 = 0.999*0.064 + (1 - 0.999) * (-7.2)^2 = 0.115776}$\n",
        "- ${v_{corr1} = \\frac{v_1}{1-β_1^t} = \\frac{-0.186}{1-0.9^1} = -0.9789474}$\n",
        "- ${v_{corr2} = \\frac{v_2}{1-β_1^t} = \\frac{-1.44}{1-0.9^1} = -7.5789474}$\n",
        "- ${s_{corr1} = \\frac{s_1}{1-β_1^t} = \\frac{0.0019206}{1-0.999^2} = 0.9607804}$\n",
        "- ${s_{corr2} = \\frac{s_2}{1-β_2^t} = \\frac{0.115776}{1-0.999^2} = 57.9169585}$\n",
        "- ${w_1 = w_1 - α * \\frac{v_{corr1}}{\\sqrt{s_{corr1} + ϵ}} = -4.8 - 0.2 * \\frac{-0.9789474}{\\sqrt{0.9607804} + 10^{-6}} = -4.6002546}$\n",
        "- ${w_2 = w_2 - α * \\frac{v_{corr2}}{\\sqrt{s_{corr2} + ϵ}} = -1.8 - 0.2 * \\frac{-7.5789474}{\\sqrt{57.9169585} + 10^{-6}} = -1.6008245}$"
      ],
      "metadata": {
        "id": "9Ylf37FZOukF"
      }
    },
    {
      "cell_type": "code",
      "source": [
        "def df_w(W):\n",
        "  w1, w2 = W\n",
        "  dw1 = 0.2 * w1\n",
        "  dw2 = 4 * w2\n",
        "  dW = np.array([dw1, dw2])\n",
        "  return dW"
      ],
      "metadata": {
        "id": "tXXk-7McOuH7"
      },
      "execution_count": null,
      "outputs": []
    },
    {
      "cell_type": "code",
      "source": [
        "def adam(W, dW, lr, V, S, t, beta1=0.9, beta2=0.999):\n",
        "  epsilon = 1e-6\n",
        "  V = beta1 * V + (1 - beta1) * dW\n",
        "  S = beta2 * S + (1 - beta2) * (dW ** 2)\n",
        "  v_corr = V / (1 - beta1**t)\n",
        "  s_corr = S / (1 - beta2**t)\n",
        "  W = W - lr * (v_corr / (np.sqrt(s_corr) + epsilon))\n",
        "  return W, V, S"
      ],
      "metadata": {
        "id": "nCdHtMxkUsDy"
      },
      "execution_count": null,
      "outputs": []
    },
    {
      "cell_type": "code",
      "source": [
        "def train_p4(optimizer, lr, epochs):\n",
        "  W = np.array([-5, -2], dtype=np.float32)\n",
        "  V = np.array([0, 0], dtype=np.float32)\n",
        "  S = np.array([0, 0], dtype=np.float32)\n",
        "  results = [W]\n",
        "  for i in range(epochs):\n",
        "    dW = df_w(W)\n",
        "    W, V, S = optimizer(W, dW, lr, V, S, i+1)\n",
        "    results.append(W)\n",
        "    print(f'Epoch {i + 1}: w1 = {W[0]}, w2 = {W[1]}')\n",
        "  return results"
      ],
      "metadata": {
        "id": "wEEVjJ8IVKBi"
      },
      "execution_count": null,
      "outputs": []
    },
    {
      "cell_type": "code",
      "source": [
        "train_adam = train_p4(adam, 0.2, 30)"
      ],
      "metadata": {
        "colab": {
          "base_uri": "https://localhost:8080/"
        },
        "id": "as6pLJyuVMu1",
        "outputId": "cb4f9961-ff85-423c-a2ec-614ca73d20fe"
      },
      "execution_count": null,
      "outputs": [
        {
          "output_type": "stream",
          "name": "stdout",
          "text": [
            "Epoch 1: w1 = -4.8000001999998, w2 = -1.8000000249999968\n",
            "Epoch 2: w1 = -4.600254779434054, w2 = -1.6008245063697515\n",
            "Epoch 3: w1 = -4.400948476628311, w2 = -1.4031726206945152\n",
            "Epoch 4: w1 = -4.2022776366594705, w2 = -1.2078782223488431\n",
            "Epoch 5: w1 = -4.004450327821214, w2 = -1.015927446346848\n",
            "Epoch 6: w1 = -3.807686378997748, w2 = -0.8284730661322335\n",
            "Epoch 7: w1 = -3.6122173226091405, w2 = -0.6468415893870743\n",
            "Epoch 8: w1 = -3.4182862261081466, w2 = -0.4725276521059605\n",
            "Epoch 9: w1 = -3.2261473934546006, w2 = -0.3071693439456018\n",
            "Epoch 10: w1 = -3.036065916693978, w2 = -0.15249855183024877\n",
            "Epoch 11: w1 = -2.848317056874701, w2 = -0.010263256257146358\n",
            "Epoch 12: w1 = -2.663185433233414, w2 = 0.11787552325788148\n",
            "Epoch 13: w1 = -2.4809640000598776, w2 = 0.23046161354014214\n",
            "Epoch 14: w1 = -2.301952792136848, w2 = 0.32635870212860313\n",
            "Epoch 15: w1 = -2.126457422346911, w2 = 0.404841946592144\n",
            "Epoch 16: w1 = -1.9547873191379472, w2 = 0.4656496111781283\n",
            "Epoch 17: w1 = -1.7872536971852042, w2 = 0.5089879942906521\n",
            "Epoch 18: w1 = -1.6241672618485605, w2 = 0.5354944186093761\n",
            "Epoch 19: w1 = -1.4658356568594801, w2 = 0.5461714353253214\n",
            "Epoch 20: w1 = -1.3125606749085668, w2 = 0.542308123651489\n",
            "Epoch 21: w1 = -1.1646352621090186, w2 = 0.525402057025836\n",
            "Epoch 22: w1 = -1.0223403591835882, w2 = 0.49709059750650125\n",
            "Epoch 23: w1 = -0.8859416340040318, w2 = 0.45909510392164704\n",
            "Epoch 24: w1 = -0.7556861710156256, w2 = 0.41317780979225216\n",
            "Epoch 25: w1 = -0.6317991922453273, w2 = 0.3611089043383209\n",
            "Epoch 26: w1 = -0.5144808911644565, w2 = 0.3046404828404245\n",
            "Epoch 27: w1 = -0.4039034638949965, w2 = 0.24548408953076975\n",
            "Epoch 28: w1 = -0.3002084215436735, w2 = 0.1852891816627655\n",
            "Epoch 29: w1 = -0.20350426252765802, w2 = 0.12562074192655373\n",
            "Epoch 30: w1 = -0.11386457466501028, w2 = 0.06793529370574175\n"
          ]
        }
      ]
    }
  ]
}
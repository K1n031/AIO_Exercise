{
  "nbformat": 4,
  "nbformat_minor": 0,
  "metadata": {
    "colab": {
      "provenance": [],
      "gpuType": "T4"
    },
    "kernelspec": {
      "name": "python3",
      "display_name": "Python 3"
    },
    "language_info": {
      "name": "python"
    },
    "accelerator": "GPU"
  },
  "cells": [
    {
      "cell_type": "markdown",
      "source": [
        "## Download dataset"
      ],
      "metadata": {
        "id": "pmdlFv58hXTJ"
      }
    },
    {
      "cell_type": "code",
      "execution_count": null,
      "metadata": {
        "id": "i0NiHvGQg7C9",
        "colab": {
          "base_uri": "https://localhost:8080/"
        },
        "outputId": "db9e135b-cdb8-4e4a-d943-1b091a15bdf9"
      },
      "outputs": [
        {
          "output_type": "stream",
          "name": "stdout",
          "text": [
            "Downloading...\n",
            "From: https://drive.google.com/uc?id=1SqSn_8rxkk-Qvu4JLMcN_3ZFGDNa6P_V\n",
            "To: /content/NonLinear_data.npy\n",
            "\r  0% 0.00/5.57k [00:00<?, ?B/s]\r100% 5.57k/5.57k [00:00<00:00, 20.6MB/s]\n"
          ]
        }
      ],
      "source": [
        "!gdown 1SqSn_8rxkk-Qvu4JLMcN_3ZFGDNa6P_V"
      ]
    },
    {
      "cell_type": "markdown",
      "source": [
        "## Import libraries"
      ],
      "metadata": {
        "id": "DPOYdXGlhiag"
      }
    },
    {
      "cell_type": "code",
      "source": [
        "import numpy as np\n",
        "import pandas as pd\n",
        "import matplotlib.pyplot as plt\n",
        "import torch\n",
        "import torch.nn as nn\n",
        "import torch.nn.functional as F\n",
        "from torch.utils.data import Dataset, DataLoader\n",
        "\n",
        "from sklearn.model_selection import train_test_split\n",
        "from sklearn.preprocessing import StandardScaler"
      ],
      "metadata": {
        "id": "3F0JH4_xhlKB"
      },
      "execution_count": null,
      "outputs": []
    },
    {
      "cell_type": "markdown",
      "source": [
        "## Set fixed random values and computing device"
      ],
      "metadata": {
        "id": "ocOuCd8Dhltr"
      }
    },
    {
      "cell_type": "code",
      "source": [
        "device = torch.device('cuda:0' if torch.cuda.is_available() else 'cpu')\n",
        "random_state = 59\n",
        "np.random.seed(random_state)\n",
        "torch.manual_seed(random_state)\n",
        "if torch.cuda.is_available():\n",
        "    torch.cuda.manual_seed(random_state)"
      ],
      "metadata": {
        "id": "xGWWbWDNhvSM"
      },
      "execution_count": null,
      "outputs": []
    },
    {
      "cell_type": "markdown",
      "source": [
        "## Read the dataset"
      ],
      "metadata": {
        "id": "iOAYK-fKiRJe"
      }
    },
    {
      "cell_type": "code",
      "source": [
        "data_path = '/content/NonLinear_data.npy'\n",
        "data = np.load(data_path, allow_pickle=True).item()\n",
        "X, y = data['X'], data ['labels']\n",
        "\n",
        "print(X.shape, y.shape)"
      ],
      "metadata": {
        "id": "tKA0ALLgiTs1",
        "colab": {
          "base_uri": "https://localhost:8080/"
        },
        "outputId": "4bcf09c2-559d-444d-b31a-d96912b152f9"
      },
      "execution_count": null,
      "outputs": [
        {
          "output_type": "stream",
          "name": "stdout",
          "text": [
            "(300, 2) (300,)\n"
          ]
        }
      ]
    },
    {
      "cell_type": "markdown",
      "source": [
        "## Split train/val/test set"
      ],
      "metadata": {
        "id": "bTYuGG_viqeo"
      }
    },
    {
      "cell_type": "code",
      "source": [
        "val_size = 0.2\n",
        "test_size = 0.125\n",
        "is_shuffle = True\n",
        "\n",
        "X_train, X_val, y_train, y_val = train_test_split(\n",
        "    X, y,\n",
        "    test_size=val_size,\n",
        "    random_state=random_state,\n",
        "    shuffle=is_shuffle\n",
        ")\n",
        "\n",
        "X_train, X_test, y_train, y_test = train_test_split(\n",
        "    X_train, y_train,\n",
        "    test_size=test_size,\n",
        "    random_state=random_state,\n",
        "    shuffle=is_shuffle\n",
        ")"
      ],
      "metadata": {
        "id": "jKWJEl_civxT"
      },
      "execution_count": null,
      "outputs": []
    },
    {
      "cell_type": "markdown",
      "source": [
        "## Normalizing input features"
      ],
      "metadata": {
        "id": "F1lVjqr9jpUh"
      }
    },
    {
      "cell_type": "code",
      "source": [
        "normalizer = StandardScaler()\n",
        "X_train = normalizer.fit_transform(X_train)\n",
        "X_val = normalizer.transform(X_val)\n",
        "X_test = normalizer.transform(X_test)\n",
        "\n",
        "X_train = torch.tensor(X_train, dtype=torch.float32)\n",
        "X_val = torch.tensor(X_val, dtype=torch.float32)\n",
        "X_test = torch.tensor(X_test, dtype=torch.float32)\n",
        "y_train = torch.tensor(y_train, dtype=torch.long)\n",
        "y_val = torch.tensor(y_val, dtype=torch.long)\n",
        "y_test = torch.tensor(y_test, dtype=torch.long)"
      ],
      "metadata": {
        "id": "Gf-Yg5LfjtH9"
      },
      "execution_count": null,
      "outputs": []
    },
    {
      "cell_type": "markdown",
      "source": [
        "## Bulding DataLoader"
      ],
      "metadata": {
        "id": "gyFC-qfOj5zU"
      }
    },
    {
      "cell_type": "code",
      "source": [
        "class CustomDataset(Dataset):\n",
        "  def __init__(self, X, y):\n",
        "    self.X = X\n",
        "    self.y = y\n",
        "\n",
        "  def __len__(self):\n",
        "    return len(self.y)\n",
        "\n",
        "  def __getitem__(self, idx):\n",
        "    return self.X[idx], self.y[idx]"
      ],
      "metadata": {
        "id": "ngq10JjHj8Wy"
      },
      "execution_count": null,
      "outputs": []
    },
    {
      "cell_type": "code",
      "source": [
        "batch_size = 32\n",
        "train_dataset = CustomDataset(X_train, y_train)\n",
        "val_dataset = CustomDataset(X_val, y_val)\n",
        "test_dataset = CustomDataset(X_test, y_test)\n",
        "\n",
        "train_loader = DataLoader(train_dataset,\n",
        "                          batch_size=batch_size,\n",
        "                          shuffle=True)\n",
        "\n",
        "val_loader = DataLoader(val_dataset,\n",
        "                        batch_size=batch_size,\n",
        "                        shuffle=False)\n",
        "\n",
        "test_loader = DataLoader(test_dataset,\n",
        "                         batch_size=batch_size,\n",
        "                         shuffle=False)"
      ],
      "metadata": {
        "id": "NUvfP-VYkCTM"
      },
      "execution_count": null,
      "outputs": []
    },
    {
      "cell_type": "markdown",
      "source": [
        "## Building MLP network"
      ],
      "metadata": {
        "id": "oEqDDvyKkNPT"
      }
    },
    {
      "cell_type": "code",
      "source": [
        "class MLP(nn.Module):\n",
        "  def __init__(self, input_dims, hidden_dims, output_dims):\n",
        "    super(MLP, self).__init__()\n",
        "    self.linear1 = nn.Linear(input_dims, hidden_dims)\n",
        "    self.output = nn.Linear(hidden_dims, output_dims)\n",
        "    self.relu = nn.ReLU()\n",
        "\n",
        "  def forward(self, x):\n",
        "    x = self.linear1(x)\n",
        "    x = self.relu(x)\n",
        "    out = self.output(x)\n",
        "    return out.squeeze(1)"
      ],
      "metadata": {
        "id": "AvuwQTCUkQJP"
      },
      "execution_count": null,
      "outputs": []
    },
    {
      "cell_type": "code",
      "source": [
        "input_dims = X_train.shape[1]\n",
        "output_dims = torch.unique(y_train).shape[0]\n",
        "hidden_dims = 128\n",
        "\n",
        "model = MLP(input_dims=input_dims,\n",
        "            hidden_dims=hidden_dims,\n",
        "            output_dims=output_dims).to(device)"
      ],
      "metadata": {
        "id": "2X3lx9Jwk_bd"
      },
      "execution_count": null,
      "outputs": []
    },
    {
      "cell_type": "markdown",
      "source": [
        "## Declare loss function and optimizer"
      ],
      "metadata": {
        "id": "7-AjX2jmlbba"
      }
    },
    {
      "cell_type": "code",
      "source": [
        "lr = 1e-1\n",
        "criterion = nn.CrossEntropyLoss()\n",
        "optimizer = torch.optim.SGD(model.parameters(), lr=lr)"
      ],
      "metadata": {
        "id": "pnG8_idflhIS"
      },
      "execution_count": null,
      "outputs": []
    },
    {
      "cell_type": "markdown",
      "source": [
        "## Build a function to calculate accuracy"
      ],
      "metadata": {
        "id": "ruVtF4wCmJ_u"
      }
    },
    {
      "cell_type": "code",
      "source": [
        "def compute_accuracy(y_hat, y_true):\n",
        "  _, y_hat = torch.max(y_hat, dim=1)\n",
        "  correct = (y_hat == y_true).sum().item()\n",
        "  accuracy = correct / len(y_true)\n",
        "  return accuracy"
      ],
      "metadata": {
        "id": "Dbzs4jjyoRuh"
      },
      "execution_count": null,
      "outputs": []
    },
    {
      "cell_type": "markdown",
      "source": [
        "## Training model"
      ],
      "metadata": {
        "id": "hXKbHsybomEd"
      }
    },
    {
      "cell_type": "code",
      "source": [
        "epochs = 100\n",
        "train_losses = []\n",
        "val_losses = []\n",
        "train_accs = []\n",
        "val_accs = []\n",
        "\n",
        "for epoch in range(epochs):\n",
        "  train_loss = 0.0\n",
        "  train_target = []\n",
        "  train_predict = []\n",
        "  model.train()\n",
        "\n",
        "  for X_samples, y_samples in train_loader:\n",
        "    X_samples = X_samples.to(device)\n",
        "    y_samples = y_samples.to(device)\n",
        "    optimizer.zero_grad()\n",
        "    outputs = model(X_samples)\n",
        "    loss = criterion(outputs, y_samples)\n",
        "    loss.backward()\n",
        "    optimizer.step()\n",
        "    train_loss += loss.item()\n",
        "\n",
        "    train_predict.append(outputs.cpu().detach().cpu())\n",
        "    train_target.append(y_samples.cpu())\n",
        "\n",
        "  train_loss /= len(train_loader)\n",
        "  train_losses.append(train_loss)\n",
        "\n",
        "  train_predict = torch.cat(train_predict)\n",
        "  train_target = torch.cat(train_target)\n",
        "  train_acc = compute_accuracy(train_predict, train_target)\n",
        "  train_accs.append(train_acc)\n",
        "\n",
        "  val_loss = 0.0\n",
        "  val_target = []\n",
        "  val_predict = []\n",
        "  model.eval()\n",
        "\n",
        "  with torch.no_grad():\n",
        "    for X_samples, y_samples in val_loader:\n",
        "      X_samples = X_samples.to(device)\n",
        "      y_samples = y_samples.to(device)\n",
        "      outputs = model(X_samples)\n",
        "      val_loss += criterion(outputs, y_samples).item()\n",
        "\n",
        "      val_predict.append(outputs.cpu())\n",
        "      val_target.append(y_samples.cpu())\n",
        "\n",
        "  val_loss /= len(val_loader)\n",
        "  val_losses.append(val_loss)\n",
        "\n",
        "  val_predict = torch.cat(val_predict)\n",
        "  val_target = torch.cat(val_target)\n",
        "  val_acc = compute_accuracy(val_predict, val_target)\n",
        "  val_accs.append(val_acc)\n",
        "\n",
        "  print(f'\\nEPOCH {epoch+1}: \\t Training loss: {train_loss:.3f}\\t Validation loss: {val_loss:.3f}')"
      ],
      "metadata": {
        "id": "eUXqXpIqon5b",
        "colab": {
          "base_uri": "https://localhost:8080/"
        },
        "outputId": "998e26e7-f50e-4020-bc65-ea6161bb5108"
      },
      "execution_count": null,
      "outputs": [
        {
          "output_type": "stream",
          "name": "stdout",
          "text": [
            "\n",
            "EPOCH 1: \t Training loss: 0.939\t Validation loss: 0.864\n",
            "\n",
            "EPOCH 2: \t Training loss: 0.750\t Validation loss: 0.815\n",
            "\n",
            "EPOCH 3: \t Training loss: 0.715\t Validation loss: 0.799\n",
            "\n",
            "EPOCH 4: \t Training loss: 0.689\t Validation loss: 0.791\n",
            "\n",
            "EPOCH 5: \t Training loss: 0.670\t Validation loss: 0.780\n",
            "\n",
            "EPOCH 6: \t Training loss: 0.654\t Validation loss: 0.747\n",
            "\n",
            "EPOCH 7: \t Training loss: 0.646\t Validation loss: 0.724\n",
            "\n",
            "EPOCH 8: \t Training loss: 0.616\t Validation loss: 0.704\n",
            "\n",
            "EPOCH 9: \t Training loss: 0.616\t Validation loss: 0.694\n",
            "\n",
            "EPOCH 10: \t Training loss: 0.610\t Validation loss: 0.666\n",
            "\n",
            "EPOCH 11: \t Training loss: 0.577\t Validation loss: 0.666\n",
            "\n",
            "EPOCH 12: \t Training loss: 0.596\t Validation loss: 0.642\n",
            "\n",
            "EPOCH 13: \t Training loss: 0.556\t Validation loss: 0.625\n",
            "\n",
            "EPOCH 14: \t Training loss: 0.537\t Validation loss: 0.608\n",
            "\n",
            "EPOCH 15: \t Training loss: 0.521\t Validation loss: 0.604\n",
            "\n",
            "EPOCH 16: \t Training loss: 0.530\t Validation loss: 0.587\n",
            "\n",
            "EPOCH 17: \t Training loss: 0.511\t Validation loss: 0.566\n",
            "\n",
            "EPOCH 18: \t Training loss: 0.498\t Validation loss: 0.569\n",
            "\n",
            "EPOCH 19: \t Training loss: 0.493\t Validation loss: 0.540\n",
            "\n",
            "EPOCH 20: \t Training loss: 0.480\t Validation loss: 0.542\n",
            "\n",
            "EPOCH 21: \t Training loss: 0.482\t Validation loss: 0.520\n",
            "\n",
            "EPOCH 22: \t Training loss: 0.462\t Validation loss: 0.501\n",
            "\n",
            "EPOCH 23: \t Training loss: 0.443\t Validation loss: 0.488\n",
            "\n",
            "EPOCH 24: \t Training loss: 0.441\t Validation loss: 0.475\n",
            "\n",
            "EPOCH 25: \t Training loss: 0.420\t Validation loss: 0.473\n",
            "\n",
            "EPOCH 26: \t Training loss: 0.420\t Validation loss: 0.459\n",
            "\n",
            "EPOCH 27: \t Training loss: 0.424\t Validation loss: 0.449\n",
            "\n",
            "EPOCH 28: \t Training loss: 0.399\t Validation loss: 0.437\n",
            "\n",
            "EPOCH 29: \t Training loss: 0.387\t Validation loss: 0.429\n",
            "\n",
            "EPOCH 30: \t Training loss: 0.386\t Validation loss: 0.419\n",
            "\n",
            "EPOCH 31: \t Training loss: 0.380\t Validation loss: 0.411\n",
            "\n",
            "EPOCH 32: \t Training loss: 0.369\t Validation loss: 0.403\n",
            "\n",
            "EPOCH 33: \t Training loss: 0.359\t Validation loss: 0.397\n",
            "\n",
            "EPOCH 34: \t Training loss: 0.351\t Validation loss: 0.389\n",
            "\n",
            "EPOCH 35: \t Training loss: 0.354\t Validation loss: 0.382\n",
            "\n",
            "EPOCH 36: \t Training loss: 0.344\t Validation loss: 0.374\n",
            "\n",
            "EPOCH 37: \t Training loss: 0.335\t Validation loss: 0.374\n",
            "\n",
            "EPOCH 38: \t Training loss: 0.336\t Validation loss: 0.365\n",
            "\n",
            "EPOCH 39: \t Training loss: 0.336\t Validation loss: 0.354\n",
            "\n",
            "EPOCH 40: \t Training loss: 0.317\t Validation loss: 0.346\n",
            "\n",
            "EPOCH 41: \t Training loss: 0.314\t Validation loss: 0.340\n",
            "\n",
            "EPOCH 42: \t Training loss: 0.307\t Validation loss: 0.341\n",
            "\n",
            "EPOCH 43: \t Training loss: 0.309\t Validation loss: 0.336\n",
            "\n",
            "EPOCH 44: \t Training loss: 0.290\t Validation loss: 0.327\n",
            "\n",
            "EPOCH 45: \t Training loss: 0.288\t Validation loss: 0.327\n",
            "\n",
            "EPOCH 46: \t Training loss: 0.286\t Validation loss: 0.318\n",
            "\n",
            "EPOCH 47: \t Training loss: 0.290\t Validation loss: 0.310\n",
            "\n",
            "EPOCH 48: \t Training loss: 0.285\t Validation loss: 0.305\n",
            "\n",
            "EPOCH 49: \t Training loss: 0.268\t Validation loss: 0.302\n",
            "\n",
            "EPOCH 50: \t Training loss: 0.274\t Validation loss: 0.299\n",
            "\n",
            "EPOCH 51: \t Training loss: 0.270\t Validation loss: 0.293\n",
            "\n",
            "EPOCH 52: \t Training loss: 0.267\t Validation loss: 0.288\n",
            "\n",
            "EPOCH 53: \t Training loss: 0.255\t Validation loss: 0.290\n",
            "\n",
            "EPOCH 54: \t Training loss: 0.262\t Validation loss: 0.284\n",
            "\n",
            "EPOCH 55: \t Training loss: 0.245\t Validation loss: 0.284\n",
            "\n",
            "EPOCH 56: \t Training loss: 0.247\t Validation loss: 0.277\n",
            "\n",
            "EPOCH 57: \t Training loss: 0.248\t Validation loss: 0.271\n",
            "\n",
            "EPOCH 58: \t Training loss: 0.240\t Validation loss: 0.269\n",
            "\n",
            "EPOCH 59: \t Training loss: 0.240\t Validation loss: 0.263\n",
            "\n",
            "EPOCH 60: \t Training loss: 0.241\t Validation loss: 0.261\n",
            "\n",
            "EPOCH 61: \t Training loss: 0.237\t Validation loss: 0.270\n",
            "\n",
            "EPOCH 62: \t Training loss: 0.230\t Validation loss: 0.262\n",
            "\n",
            "EPOCH 63: \t Training loss: 0.233\t Validation loss: 0.260\n",
            "\n",
            "EPOCH 64: \t Training loss: 0.226\t Validation loss: 0.253\n",
            "\n",
            "EPOCH 65: \t Training loss: 0.231\t Validation loss: 0.250\n",
            "\n",
            "EPOCH 66: \t Training loss: 0.222\t Validation loss: 0.246\n",
            "\n",
            "EPOCH 67: \t Training loss: 0.220\t Validation loss: 0.246\n",
            "\n",
            "EPOCH 68: \t Training loss: 0.216\t Validation loss: 0.243\n",
            "\n",
            "EPOCH 69: \t Training loss: 0.215\t Validation loss: 0.239\n",
            "\n",
            "EPOCH 70: \t Training loss: 0.213\t Validation loss: 0.243\n",
            "\n",
            "EPOCH 71: \t Training loss: 0.210\t Validation loss: 0.239\n",
            "\n",
            "EPOCH 72: \t Training loss: 0.203\t Validation loss: 0.239\n",
            "\n",
            "EPOCH 73: \t Training loss: 0.203\t Validation loss: 0.236\n",
            "\n",
            "EPOCH 74: \t Training loss: 0.210\t Validation loss: 0.237\n",
            "\n",
            "EPOCH 75: \t Training loss: 0.204\t Validation loss: 0.232\n",
            "\n",
            "EPOCH 76: \t Training loss: 0.200\t Validation loss: 0.227\n",
            "\n",
            "EPOCH 77: \t Training loss: 0.200\t Validation loss: 0.226\n",
            "\n",
            "EPOCH 78: \t Training loss: 0.195\t Validation loss: 0.227\n",
            "\n",
            "EPOCH 79: \t Training loss: 0.186\t Validation loss: 0.222\n",
            "\n",
            "EPOCH 80: \t Training loss: 0.186\t Validation loss: 0.220\n",
            "\n",
            "EPOCH 81: \t Training loss: 0.194\t Validation loss: 0.214\n",
            "\n",
            "EPOCH 82: \t Training loss: 0.189\t Validation loss: 0.214\n",
            "\n",
            "EPOCH 83: \t Training loss: 0.183\t Validation loss: 0.212\n",
            "\n",
            "EPOCH 84: \t Training loss: 0.188\t Validation loss: 0.212\n",
            "\n",
            "EPOCH 85: \t Training loss: 0.181\t Validation loss: 0.210\n",
            "\n",
            "EPOCH 86: \t Training loss: 0.180\t Validation loss: 0.211\n",
            "\n",
            "EPOCH 87: \t Training loss: 0.178\t Validation loss: 0.216\n",
            "\n",
            "EPOCH 88: \t Training loss: 0.181\t Validation loss: 0.206\n",
            "\n",
            "EPOCH 89: \t Training loss: 0.178\t Validation loss: 0.202\n",
            "\n",
            "EPOCH 90: \t Training loss: 0.171\t Validation loss: 0.201\n",
            "\n",
            "EPOCH 91: \t Training loss: 0.180\t Validation loss: 0.213\n",
            "\n",
            "EPOCH 92: \t Training loss: 0.172\t Validation loss: 0.201\n",
            "\n",
            "EPOCH 93: \t Training loss: 0.166\t Validation loss: 0.195\n",
            "\n",
            "EPOCH 94: \t Training loss: 0.173\t Validation loss: 0.196\n",
            "\n",
            "EPOCH 95: \t Training loss: 0.169\t Validation loss: 0.194\n",
            "\n",
            "EPOCH 96: \t Training loss: 0.165\t Validation loss: 0.193\n",
            "\n",
            "EPOCH 97: \t Training loss: 0.163\t Validation loss: 0.192\n",
            "\n",
            "EPOCH 98: \t Training loss: 0.161\t Validation loss: 0.193\n",
            "\n",
            "EPOCH 99: \t Training loss: 0.162\t Validation loss: 0.188\n",
            "\n",
            "EPOCH 100: \t Training loss: 0.162\t Validation loss: 0.190\n"
          ]
        }
      ]
    },
    {
      "cell_type": "code",
      "source": [
        "fig, ax = plt.subplots(2, 2, figsize=(12, 10))\n",
        "ax[0, 0].plot(train_losses, color='green')\n",
        "ax[0, 0].set(xlabel='Epoch', ylabel='Loss')\n",
        "ax[0, 0].set_title('Training loss')\n",
        "\n",
        "ax[0, 1].plot(val_losses, color='red')\n",
        "ax[0, 1].set(xlabel='Epoch', ylabel='Loss')\n",
        "ax[0, 1].set_title('Validation loss')\n",
        "\n",
        "ax[1, 0].plot(train_accs, color='green')\n",
        "ax[1, 0].set(xlabel='Epoch', ylabel='Accuracy')\n",
        "ax[1, 0].set_title('Training accuracy')\n",
        "\n",
        "ax[1, 1].plot(val_accs, color='red')\n",
        "ax[1, 1].set(xlabel='Epoch', ylabel='Accuracy')\n",
        "ax[1, 1].set_title('Validation accuracy')\n",
        "\n",
        "plt.show()"
      ],
      "metadata": {
        "colab": {
          "base_uri": "https://localhost:8080/",
          "height": 555
        },
        "id": "pANXih3GqTdO",
        "outputId": "211aa73a-4783-4d24-c0cd-a55e704ea5da"
      },
      "execution_count": null,
      "outputs": [
        {
          "output_type": "display_data",
          "data": {
            "text/plain": [
              "<Figure size 1200x1000 with 4 Axes>"
            ],
            "image/png": "[encoded data removed]"
          },
          "metadata": {}
        }
      ]
    },
    {
      "cell_type": "markdown",
      "source": [
        "## Evaluate model"
      ],
      "metadata": {
        "id": "F1FDMP2jqw2m"
      }
    },
    {
      "cell_type": "code",
      "source": [
        "test_target = []\n",
        "test_predict = []\n",
        "model.eval()\n",
        "\n",
        "with torch.no_grad():\n",
        "  for X_samples, y_samples in test_loader:\n",
        "    X_samples = X_samples.to(device)\n",
        "    y_samples = y_samples.to(device)\n",
        "    outputs = model(X_samples)\n",
        "\n",
        "    test_predict.append(outputs.cpu())\n",
        "    test_target.append(y_samples.cpu())\n",
        "\n",
        "  test_predict = torch.cat(test_predict)\n",
        "  test_target = torch.cat(test_target)\n",
        "  test_acc = compute_accuracy(test_predict, test_target)\n",
        "\n",
        "  print('Evaluate on test set:')\n",
        "  print(f'Test accuracy: {test_acc:.3f}')"
      ],
      "metadata": {
        "colab": {
          "base_uri": "https://localhost:8080/"
        },
        "id": "mDXixu6mqyyq",
        "outputId": "79fc6c10-7f23-41b9-d0f2-be3d1da93dc4"
      },
      "execution_count": null,
      "outputs": [
        {
          "output_type": "stream",
          "name": "stdout",
          "text": [
            "Evaluate on test set:\n",
            "Test accuracy: 0.933\n"
          ]
        }
      ]
    }
  ]
}
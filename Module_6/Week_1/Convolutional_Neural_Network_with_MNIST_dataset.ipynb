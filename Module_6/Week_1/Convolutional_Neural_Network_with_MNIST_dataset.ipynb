{
  "nbformat": 4,
  "nbformat_minor": 0,
  "metadata": {
    "colab": {
      "provenance": []
    },
    "kernelspec": {
      "name": "python3",
      "display_name": "Python 3"
    },
    "language_info": {
      "name": "python"
    }
  },
  "cells": [
    {
      "cell_type": "markdown",
      "source": [
        "## 1. Download dataset"
      ],
      "metadata": {
        "id": "_ANgZYj1anfH"
      }
    },
    {
      "cell_type": "code",
      "execution_count": null,
      "metadata": {
        "id": "2nLngQYjaTw8"
      },
      "outputs": [],
      "source": [
        "# Import libraries\n",
        "import os\n",
        "import random\n",
        "import time\n",
        "import numpy as np\n",
        "\n",
        "import torch\n",
        "import torch.nn as nn\n",
        "import torch.optim as optim\n",
        "import torch.nn.functional as F\n",
        "import torch.utils.data as data\n",
        "\n",
        "import torchvision.transforms as transforms\n",
        "import torchvision.datasets as datasets\n",
        "\n",
        "from torchsummary import summary\n",
        "\n",
        "import matplotlib.pyplot as plt\n",
        "from PIL import Image\n",
        "\n",
        "ROOT = './data'\n",
        "train_data = datasets.MNIST(\n",
        "    root = ROOT,\n",
        "    train = True,\n",
        "    download = True\n",
        ")\n",
        "test_data = datasets.MNIST(\n",
        "    root = ROOT,\n",
        "    train = False,\n",
        "    download = True\n",
        ")"
      ]
    },
    {
      "cell_type": "markdown",
      "source": [
        "## 2. Pre-processing dataset"
      ],
      "metadata": {
        "id": "XHOYBfIubNAh"
      }
    },
    {
      "cell_type": "code",
      "source": [
        "# Split training: validation = 0.9:0.1\n",
        "VALID_RATIO = 0.9\n",
        "\n",
        "n_train_examples = int(len(train_data) * VALID_RATIO)\n",
        "n_valid_examples = len(train_data) - n_train_examples\n",
        "\n",
        "train_data, valid_data = data.random_split(\n",
        "    train_data,\n",
        "    [n_train_examples, n_valid_examples]\n",
        ")\n",
        "\n",
        "# Compute mean and std for normalization\n",
        "mean = train_data.dataset.data.float().mean() / 255\n",
        "std = train_data.dataset.data.float().std() / 255\n",
        "\n",
        "train_transforms = transforms.Compose([\n",
        "    transforms.ToTensor(),\n",
        "    transforms.Normalize(mean=[mean], std=[std])\n",
        "])\n",
        "test_transforms = transforms.Compose([\n",
        "    transforms.ToTensor(),\n",
        "    transforms.Normalize(mean=[mean], std=[std])\n",
        "])\n",
        "\n",
        "train_data.dataset.transform = train_transforms\n",
        "valid_data.dataset.transform = test_transforms\n",
        "\n",
        "# Create dataloader\n",
        "BATCH_SIZE = 256\n",
        "\n",
        "train_dataloader = data.DataLoader(\n",
        "    train_data,\n",
        "    shuffle=True,\n",
        "    batch_size=BATCH_SIZE\n",
        ")\n",
        "\n",
        "valid_dataloader = data.DataLoader(\n",
        "    valid_data,\n",
        "    batch_size=BATCH_SIZE\n",
        ")"
      ],
      "metadata": {
        "id": "Lf_N_sZ2bQRI"
      },
      "execution_count": null,
      "outputs": []
    },
    {
      "cell_type": "markdown",
      "source": [
        "## 3. Build LeNet model"
      ],
      "metadata": {
        "id": "aGvbLT8acTEu"
      }
    },
    {
      "cell_type": "code",
      "source": [
        "class LeNetClassifier(nn.Module):\n",
        "  def __init__(self, num_classes):\n",
        "    super().__init__()\n",
        "    self.conv1 = nn.Conv2d(\n",
        "        in_channels=1,\n",
        "        out_channels=6,\n",
        "        kernel_size=5,\n",
        "        padding='same'\n",
        "    )\n",
        "    self.avgpool1 = nn.AvgPool2d(kernel_size=2)\n",
        "    self.conv2 = nn.Conv2d(\n",
        "        in_channels=6,\n",
        "        out_channels=16,\n",
        "        kernel_size=5)\n",
        "    self.avgpool2 = nn.AvgPool2d(kernel_size=2)\n",
        "    self.flatten = nn.Flatten()\n",
        "    self.fc_1 = nn.Linear(16*5*5, 120)\n",
        "    self.fc_2 = nn.Linear(120, 84)\n",
        "    self.fc_3 = nn.Linear(84, num_classes)\n",
        "\n",
        "  def forward(self, inputs):\n",
        "    outputs = self.conv1(inputs)\n",
        "    outputs = self.avgpool1(outputs)\n",
        "    outputs = F.relu(outputs)\n",
        "    outputs = self.conv2(outputs)\n",
        "    outputs = self.avgpool2(outputs)\n",
        "    outputs = F.relu(outputs)\n",
        "    outputs = self.flatten(outputs)\n",
        "    outputs = self.fc_1(outputs)\n",
        "    outputs = self.fc_2(outputs)\n",
        "    outputs = self.fc_3(outputs)\n",
        "    return outputs"
      ],
      "metadata": {
        "id": "bTfA0aeNcXf5"
      },
      "execution_count": null,
      "outputs": []
    },
    {
      "cell_type": "markdown",
      "source": [
        "## 4. Train model"
      ],
      "metadata": {
        "id": "4VZ6xNBHdabC"
      }
    },
    {
      "cell_type": "code",
      "source": [
        "# Training function\n",
        "def train(model, optimizer, criterion, train_dataloader, device, epoch=0, log_interval=100):\n",
        "  model.train()\n",
        "  total_acc, total_count = 0, 0\n",
        "  losses = []\n",
        "  start_time = time.time()\n",
        "\n",
        "  for idx, (inputs, labels) in enumerate(train_dataloader):\n",
        "    inputs = inputs.to(device)\n",
        "    labels = labels.to(device)\n",
        "\n",
        "    optimizer.zero_grad()\n",
        "\n",
        "    predictions = model(inputs)\n",
        "\n",
        "    # Compute loss\n",
        "    loss = criterion(predictions, labels)\n",
        "    losses.append(loss.item())\n",
        "\n",
        "    # Backward\n",
        "    loss.backward()\n",
        "    torch.nn.utils.clip_grad_norm_(model.parameters(), 0.1)\n",
        "    optimizer.step()\n",
        "    total_acc += (predictions.argmax(1) == labels).sum().item()\n",
        "    total_count += labels.size(0)\n",
        "    if idx % log_interval == 0 and idx > 0:\n",
        "      elapsed = time.time() -  start_time\n",
        "      print(\n",
        "          \"| epoch {:3d} | {:5d}/{:5d} batches \"\n",
        "          \"| accuracy {:8.3f}\".format(\n",
        "              epoch, idx, len(train_dataloader), total_acc / total_count\n",
        "          )\n",
        "      )\n",
        "      total_acc, total_count = 0, 0\n",
        "      start_time = time.time()\n",
        "\n",
        "  epoch_acc = total_acc / total_count\n",
        "  epoch_loss = sum(losses) / len(losses)\n",
        "  return epoch_acc, epoch_loss\n",
        "\n",
        "# Evaluation function\n",
        "def evaluate(model, criterion, valid_dataloader):\n",
        "  model.eval()\n",
        "  total_acc, total_count = 0, 0\n",
        "  losses = []\n",
        "\n",
        "  with torch.no_grad():\n",
        "    for idx, (inputs, labels) in enumerate(valid_dataloader):\n",
        "      inputs = inputs.to(device)\n",
        "      labels = labels.to(device)\n",
        "\n",
        "      predictions = model(inputs)\n",
        "\n",
        "      loss = criterion(predictions, labels)\n",
        "      losses.append(loss.item())\n",
        "\n",
        "      total_acc += (predictions.argmax(1) == labels).sum().item()\n",
        "      total_count += labels.size(0)\n",
        "\n",
        "  epoch_acc = total_acc / total_count\n",
        "  epoch_loss = sum(losses) / len(losses)\n",
        "  return epoch_acc, epoch_loss"
      ],
      "metadata": {
        "id": "WcWcZw1cdcSu"
      },
      "execution_count": null,
      "outputs": []
    },
    {
      "cell_type": "code",
      "source": [
        "num_classes = len(train_data.dataset.classes)\n",
        "\n",
        "device = torch.device(\"cuda\" if torch.cuda.is_available() else \"cpu\")\n",
        "\n",
        "lenet_model = LeNetClassifier(num_classes).to(device)\n",
        "\n",
        "criterion = torch.nn.CrossEntropyLoss()\n",
        "optimizer = torch.optim.Adam(lenet_model.parameters())\n",
        "\n",
        "num_epochs = 10\n",
        "save_model = './model'\n",
        "\n",
        "train_accs, train_losses = [], []\n",
        "eval_accs, eval_losses = [], []\n",
        "best_loss_eval = 100\n",
        "\n",
        "for epoch in range(1, num_epochs + 1):\n",
        "  epoch_start_time = time.time()\n",
        "  # Training\n",
        "  train_acc, train_loss = train(\n",
        "      lenet_model,\n",
        "      optimizer,\n",
        "      criterion,\n",
        "      train_dataloader,\n",
        "      device,\n",
        "      epoch\n",
        "  )\n",
        "  train_accs.append(train_acc)\n",
        "  train_losses.append(train_loss)\n",
        "\n",
        "  # Evaluation\n",
        "  eval_acc, eval_loss = evaluate(\n",
        "      lenet_model,\n",
        "      criterion,\n",
        "      valid_dataloader\n",
        "  )\n",
        "  eval_accs.append(eval_acc)\n",
        "  eval_losses.append(eval_loss)\n",
        "\n",
        "  # Save model\n",
        "  os.makedirs(save_model, exist_ok=True)\n",
        "  if eval_loss < best_loss_eval:\n",
        "    torch.save(lenet_model.state_dict(), save_model + '/lenet_model.pth')\n",
        "\n",
        "  # Print loss, acc and epoch\n",
        "  print('-' * 59)\n",
        "  print(\n",
        "      '| End of epoch {:3d} | Time: {:5.2f}s | Train Accuracy {:8.3f} | Train Loss {:8.3f}'\n",
        "      '| Valid Accuracy {:8.3f} | Valid Loss {:8.3f} '.format(\n",
        "          epoch,\n",
        "          time.time() - epoch_start_time,\n",
        "          train_acc,\n",
        "          train_loss,\n",
        "          eval_acc,\n",
        "          eval_loss\n",
        "      )\n",
        "  )\n",
        "  print('-' * 59)\n",
        "\n",
        "  # Load best model\n",
        "  lenet_model.load_state_dict(torch.load(save_model + '/lenet_model.pth'))\n",
        "  lenet_model.eval()"
      ],
      "metadata": {
        "colab": {
          "base_uri": "https://localhost:8080/"
        },
        "id": "MCrKwkrmfrQL",
        "outputId": "51b28254-e9ab-4a18-f1d1-b81167c065c5"
      },
      "execution_count": null,
      "outputs": [
        {
          "output_type": "stream",
          "name": "stdout",
          "text": [
            "| epoch   1 |   100/  211 batches | accuracy    0.790\n",
            "| epoch   1 |   200/  211 batches | accuracy    0.946\n",
            "-----------------------------------------------------------\n",
            "| End of epoch   1 | Time: 29.35s | Train Accuracy    0.959 | Train Loss    0.437| Valid Accuracy    0.958 | Valid Loss    0.140 \n",
            "-----------------------------------------------------------\n"
          ]
        },
        {
          "output_type": "stream",
          "name": "stderr",
          "text": [
            "<ipython-input-29-4118d0b15cf8>:61: FutureWarning: You are using `torch.load` with `weights_only=False` (the current default value), which uses the default pickle module implicitly. It is possible to construct malicious pickle data which will execute arbitrary code during unpickling (See https://github.com/pytorch/pytorch/blob/main/SECURITY.md#untrusted-models for more details). In a future release, the default value for `weights_only` will be flipped to `True`. This limits the functions that could be executed during unpickling. Arbitrary objects will no longer be allowed to be loaded via this mode unless they are explicitly allowlisted by the user via `torch.serialization.add_safe_globals`. We recommend you start setting `weights_only=True` for any use case where you don't have full control of the loaded file. Please open an issue on GitHub for any issues related to this experimental feature.\n",
            "  lenet_model.load_state_dict(torch.load(save_model + '/lenet_model.pth'))\n"
          ]
        },
        {
          "output_type": "stream",
          "name": "stdout",
          "text": [
            "| epoch   2 |   100/  211 batches | accuracy    0.964\n",
            "| epoch   2 |   200/  211 batches | accuracy    0.971\n",
            "-----------------------------------------------------------\n",
            "| End of epoch   2 | Time: 29.34s | Train Accuracy    0.972 | Train Loss    0.106| Valid Accuracy    0.968 | Valid Loss    0.101 \n",
            "-----------------------------------------------------------\n",
            "| epoch   3 |   100/  211 batches | accuracy    0.975\n",
            "| epoch   3 |   200/  211 batches | accuracy    0.977\n",
            "-----------------------------------------------------------\n",
            "| End of epoch   3 | Time: 30.05s | Train Accuracy    0.980 | Train Loss    0.078| Valid Accuracy    0.979 | Valid Loss    0.077 \n",
            "-----------------------------------------------------------\n",
            "| epoch   4 |   100/  211 batches | accuracy    0.978\n",
            "| epoch   4 |   200/  211 batches | accuracy    0.979\n",
            "-----------------------------------------------------------\n",
            "| End of epoch   4 | Time: 29.32s | Train Accuracy    0.985 | Train Loss    0.068| Valid Accuracy    0.978 | Valid Loss    0.074 \n",
            "-----------------------------------------------------------\n",
            "| epoch   5 |   100/  211 batches | accuracy    0.983\n",
            "| epoch   5 |   200/  211 batches | accuracy    0.981\n",
            "-----------------------------------------------------------\n",
            "| End of epoch   5 | Time: 29.23s | Train Accuracy    0.984 | Train Loss    0.058| Valid Accuracy    0.981 | Valid Loss    0.068 \n",
            "-----------------------------------------------------------\n",
            "| epoch   6 |   100/  211 batches | accuracy    0.984\n",
            "| epoch   6 |   200/  211 batches | accuracy    0.984\n",
            "-----------------------------------------------------------\n",
            "| End of epoch   6 | Time: 29.02s | Train Accuracy    0.985 | Train Loss    0.052| Valid Accuracy    0.982 | Valid Loss    0.062 \n",
            "-----------------------------------------------------------\n",
            "| epoch   7 |   100/  211 batches | accuracy    0.987\n",
            "| epoch   7 |   200/  211 batches | accuracy    0.984\n",
            "-----------------------------------------------------------\n",
            "| End of epoch   7 | Time: 30.19s | Train Accuracy    0.985 | Train Loss    0.047| Valid Accuracy    0.982 | Valid Loss    0.059 \n",
            "-----------------------------------------------------------\n",
            "| epoch   8 |   100/  211 batches | accuracy    0.988\n",
            "| epoch   8 |   200/  211 batches | accuracy    0.986\n",
            "-----------------------------------------------------------\n",
            "| End of epoch   8 | Time: 28.76s | Train Accuracy    0.985 | Train Loss    0.044| Valid Accuracy    0.982 | Valid Loss    0.064 \n",
            "-----------------------------------------------------------\n",
            "| epoch   9 |   100/  211 batches | accuracy    0.987\n",
            "| epoch   9 |   200/  211 batches | accuracy    0.988\n",
            "-----------------------------------------------------------\n",
            "| End of epoch   9 | Time: 28.93s | Train Accuracy    0.988 | Train Loss    0.039| Valid Accuracy    0.987 | Valid Loss    0.051 \n",
            "-----------------------------------------------------------\n",
            "| epoch  10 |   100/  211 batches | accuracy    0.989\n",
            "| epoch  10 |   200/  211 batches | accuracy    0.986\n",
            "-----------------------------------------------------------\n",
            "| End of epoch  10 | Time: 29.03s | Train Accuracy    0.987 | Train Loss    0.039| Valid Accuracy    0.985 | Valid Loss    0.051 \n",
            "-----------------------------------------------------------\n"
          ]
        }
      ]
    },
    {
      "cell_type": "markdown",
      "source": [
        "## 5. Evaluate model on test set"
      ],
      "metadata": {
        "id": "s6A9t1KQhghW"
      }
    },
    {
      "cell_type": "code",
      "source": [
        "test_data.transform = test_transforms\n",
        "\n",
        "test_dataloader = data.DataLoader(\n",
        "    test_data,\n",
        "    batch_size=BATCH_SIZE\n",
        ")\n",
        "\n",
        "test_acc, test_loss = evaluate(\n",
        "    lenet_model,\n",
        "    criterion,\n",
        "    test_dataloader\n",
        ")\n",
        "test_acc, test_loss"
      ],
      "metadata": {
        "id": "FAon7KibhYpJ",
        "colab": {
          "base_uri": "https://localhost:8080/"
        },
        "outputId": "262d8ccc-33a1-44a8-e2b8-143f72d35ae9"
      },
      "execution_count": null,
      "outputs": [
        {
          "output_type": "execute_result",
          "data": {
            "text/plain": [
              "(0.9884, 0.038193513163787426)"
            ]
          },
          "metadata": {},
          "execution_count": 30
        }
      ]
    },
    {
      "cell_type": "code",
      "source": [
        "epochs = range(1, num_epochs + 1)\n",
        "\n",
        "plt.figure(figsize=(12, 5))\n",
        "\n",
        "plt.subplot(1, 2, 1)\n",
        "plt.plot(epochs, train_accs, label='Training Accuracy')\n",
        "plt.plot(epochs, eval_accs, label='Validation Accuracy')\n",
        "plt.xlabel('Epochs')\n",
        "plt.ylabel('Accuracy')\n",
        "plt.title('Training and Validation Accuracy')\n",
        "plt.legend()\n",
        "\n",
        "plt.subplot(1, 2, 2)\n",
        "plt.plot(epochs, train_losses, label='Training Loss')\n",
        "plt.plot(epochs, eval_losses, label='Validation Loss')\n",
        "plt.xlabel('Epochs')\n",
        "plt.ylabel('Loss')\n",
        "plt.title('Training and Validation Loss')\n",
        "plt.legend()\n",
        "\n",
        "plt.tight_layout()\n",
        "plt.show()"
      ],
      "metadata": {
        "colab": {
          "base_uri": "https://localhost:8080/",
          "height": 507
        },
        "id": "tu9oFMernmm1",
        "outputId": "403d9a50-8314-4ec4-817b-1d9cdef66710"
      },
      "execution_count": null,
      "outputs": [
        {
          "output_type": "display_data",
          "data": {
            "text/plain": [
              "<Figure size 1200x500 with 2 Axes>"
            ],
            "image/png": "[encoded data removed]"
          },
          "metadata": {}
        }
      ]
    }
  ]
}
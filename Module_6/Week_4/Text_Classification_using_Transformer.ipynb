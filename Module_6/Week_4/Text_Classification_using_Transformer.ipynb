{
  "cells": [
    {
      "cell_type": "code",
      "source": [
        "!pip install -q torchtext==0.17.2"
      ],
      "metadata": {
        "colab": {
          "base_uri": "https://localhost:8080/"
        },
        "id": "DCRFsElFWPEm",
        "outputId": "773cad84-789a-4ee8-f85d-7fc3cfbdd613"
      },
      "execution_count": 1,
      "outputs": [
        {
          "output_type": "stream",
          "name": "stdout",
          "text": [
            "\u001b[31mERROR: pip's dependency resolver does not currently take into account all the packages that are installed. This behaviour is the source of the following dependency conflicts.\n",
            "torchaudio 2.5.1+cu121 requires torch==2.5.1, but you have torch 2.2.2 which is incompatible.\n",
            "torchvision 0.20.1+cu121 requires torch==2.5.1, but you have torch 2.2.2 which is incompatible.\u001b[0m\u001b[31m\n",
            "\u001b[0m"
          ]
        }
      ]
    },
    {
      "cell_type": "code",
      "source": [
        "import torchtext\n",
        "import torch\n",
        "import torch.nn as nn\n",
        "from torch.nn import functional as F"
      ],
      "metadata": {
        "id": "I0WMgdZcapXN"
      },
      "execution_count": 2,
      "outputs": []
    },
    {
      "cell_type": "code",
      "source": [
        "class TokenAndPositionEmbedding(nn.Module):\n",
        "    def __init__(self, vocab_size, embed_dim, max_length, device='cpu'):\n",
        "        super().__init__()\n",
        "        self.device = device\n",
        "        self.word_emb = nn.Embedding(\n",
        "            num_embeddings=vocab_size,\n",
        "            embedding_dim=embed_dim\n",
        "        )\n",
        "        self.pos_emb = nn.Embedding(\n",
        "            num_embeddings=max_length,\n",
        "            embedding_dim=embed_dim\n",
        "        )\n",
        "\n",
        "    def forward(self, x):\n",
        "        N, seq_len = x.size()\n",
        "        positions = torch.arange(0, seq_len).expand(N, seq_len).to(self.device)\n",
        "        output1 = self.word_emb(x)\n",
        "        output2 = self.pos_emb(positions)\n",
        "        output = output1 + output2\n",
        "        return output"
      ],
      "metadata": {
        "id": "6M7VbrQsaqD9"
      },
      "execution_count": 3,
      "outputs": []
    },
    {
      "cell_type": "code",
      "source": [
        "class TransformerEncoderBlock(nn.Module):\n",
        "    def __init__(self, embed_dim, num_heads, ff_dim, dropout=0.1):\n",
        "        super().__init__()\n",
        "        self.attn = nn.MultiheadAttention(\n",
        "            embed_dim=embed_dim,\n",
        "            num_heads=num_heads,\n",
        "            batch_first=True\n",
        "        )\n",
        "        self.ffn = nn.Sequential(\n",
        "            nn.Linear(in_features=embed_dim, out_features=ff_dim, bias=True),\n",
        "            nn.ReLU(),\n",
        "            nn.Linear(in_features=ff_dim, out_features=embed_dim, bias=True)\n",
        "        )\n",
        "        self.layernorm_1 = nn.LayerNorm(normalized_shape=embed_dim, eps=1e-6)\n",
        "        self.layernorm_2 = nn.LayerNorm(normalized_shape=embed_dim, eps=1e-6)\n",
        "        self.dropout_1 = nn.Dropout(p=dropout)\n",
        "        self.dropout_2 = nn.Dropout(p=dropout)\n",
        "\n",
        "    def forward(self, query, key, value):\n",
        "        attn_output, _ = self.attn(query, key, value)\n",
        "        attn_output = self.dropout_1(attn_output)\n",
        "        out_1 = self.layernorm_1(query + attn_output)\n",
        "        ffn_output = self.ffn(out_1)\n",
        "        ffn_output = self.dropout_2(ffn_output)\n",
        "        out_2 = self.layernorm_2(out_1 + ffn_output)\n",
        "        return out_2"
      ],
      "metadata": {
        "id": "Btojax8_asPr"
      },
      "execution_count": 4,
      "outputs": []
    },
    {
      "cell_type": "code",
      "source": [
        "class TransformerEncoder(nn.Module):\n",
        "  def __init__(self, src_vocab_size, max_length, num_layers, embed_dim, num_heads, ff_dim, dropout=0.1, device='cpu'):\n",
        "    super().__init__()\n",
        "    self.embedding = TokenAndPositionEmbedding(\n",
        "        src_vocab_size, embed_dim, max_length, device)\n",
        "    self.layers = nn.ModuleList([\n",
        "        TransformerEncoderBlock(embed_dim, num_heads, ff_dim, dropout)\n",
        "        for i in range(num_layers)\n",
        "    ])\n",
        "\n",
        "  def forward(self, x):\n",
        "    output = self.embedding(x)\n",
        "    for layer in self.layers:\n",
        "      output = layer(output, output, output)\n",
        "    return output"
      ],
      "metadata": {
        "id": "djp1H1RDa4L0"
      },
      "execution_count": 5,
      "outputs": []
    },
    {
      "cell_type": "code",
      "source": [
        "class TransformerDecoderBlock(nn.Module):\n",
        "    def __init__(self, embed_dim, num_heads, ff_dim, dropout=0.1):\n",
        "        super().__init__()\n",
        "        self.attn = nn.MultiheadAttention(\n",
        "            embed_dim=embed_dim,\n",
        "            num_heads=num_heads,\n",
        "            batch_first=True\n",
        "        )\n",
        "        self.cross_attn = nn.MultiheadAttention(\n",
        "            embed_dim=embed_dim,\n",
        "            num_heads=num_heads,\n",
        "            batch_first=True\n",
        "        )\n",
        "        self.ffn = nn.Sequential(\n",
        "            nn.Linear(in_features=embed_dim, out_features=ff_dim, bias=True),\n",
        "            nn.ReLU(),\n",
        "            nn.Linear(in_features=ff_dim, out_features=embed_dim, bias=True)\n",
        "        )\n",
        "        self.layernorm_1 = nn.LayerNorm(normalized_shape=embed_dim, eps=1e-6)\n",
        "        self.layernorm_2 = nn.LayerNorm(normalized_shape=embed_dim, eps=1e-6)\n",
        "        self.layernorm_3 = nn.LayerNorm(normalized_shape=embed_dim, eps=1e-6)\n",
        "        self.dropout_1 = nn.Dropout(p=dropout)\n",
        "        self.dropout_2 = nn.Dropout(p=dropout)\n",
        "        self.dropout_3 = nn.Dropout(p=dropout)\n",
        "\n",
        "    def forward(self, x, enc_output, src_mask, tgt_mask):\n",
        "        attn_output, _ = self.attn(x, x, x, attn_mask=tgt_mask)\n",
        "        attn_output = self.dropout_1(attn_output)\n",
        "        out_1 = self.layernorm_1(x + attn_output)\n",
        "\n",
        "        attn_output, _ = self.cross_attn(\n",
        "            out_1, enc_output, enc_output, attn_mask=src_mask\n",
        "        )\n",
        "        attn_output = self.dropout_2(attn_output)\n",
        "        out_2 = self.layernorm_2(out_1 + attn_output)\n",
        "\n",
        "        ffn_output = self.ffn(out_2)\n",
        "        ffn_output = self.dropout_2(ffn_output)\n",
        "        out_3 = self.layernorm_2(out_2 + ffn_output)\n",
        "        return out_3"
      ],
      "metadata": {
        "id": "XH8T3Sexatvd"
      },
      "execution_count": 6,
      "outputs": []
    },
    {
      "cell_type": "code",
      "source": [
        "class TransformerDecoder(nn.Module):\n",
        "  def __init__(self, tgt_vocab_size, embed_dim, max_length, num_layers,\n",
        "               num_heads, ff_dim, dropout=0.1, device='cpu'):\n",
        "    super().__init__()\n",
        "    self.embedding = TokenAndPositionEmbedding(\n",
        "        tgt_vocab_size, embed_dim, max_length, device)\n",
        "    self.layers = nn.ModuleList([\n",
        "        TransformerDecoderBlock(embed_dim, num_heads, ff_dim, dropout)\n",
        "        for i in range(num_layers)\n",
        "    ])\n",
        "  def forward(self, x, enc_output, src_mask, tgt_mask):\n",
        "    output = self.embedding(x)\n",
        "    for layer in self.layers:\n",
        "      output = layer(output, enc_output, src_mask, tgt_mask)\n",
        "    return output"
      ],
      "metadata": {
        "id": "1VJParxda42j"
      },
      "execution_count": 7,
      "outputs": []
    },
    {
      "cell_type": "code",
      "source": [
        "class Transformer(nn.Module):\n",
        "  def __init__(self, src_vocab_size, tgt_vocab_size, embed_dim, max_length,\n",
        "               num_layers, num_heads, ff_dim, dropout=0.1, device='cpu'):\n",
        "    super().__init__()\n",
        "    self.device = device\n",
        "    self.encoder = TransformerEncoder(\n",
        "        src_vocab_size, max_length, num_layers, embed_dim, num_heads, ff_dim, dropout, device)\n",
        "    self.decoder = TransformerDecoder(\n",
        "        tgt_vocab_size, embed_dim, max_length, num_layers, num_heads, ff_dim, dropout, device)\n",
        "    self.fc = nn.Linear(in_features=embed_dim, out_features=tgt_vocab_size)\n",
        "\n",
        "  def generate_square_subsequent_mask(self, sz):\n",
        "    src_seq_len = src.shape[1]\n",
        "    tgt_seq_len = tgt.shape[1]\n",
        "\n",
        "    src_mask = torch.zeros((src_seq_len, src_seq_len), device=self.device).type(torch.bool)\n",
        "    tgt_mask = (torch.triu(torch.ones(tgt_seq_len, tgt_seq_len), device=self.device)==1).transpose(0, 1)\n",
        "    tgt_mask = tgt_mask.float().masked_fill(tgt_mask == 0, float('-inf')).masked_fill(tgt_mask == 1, float(0.0))\n",
        "    return src_mask, tgt_mask\n",
        "\n",
        "  def forward(self, src, tgt):\n",
        "    src_mask, tgt_mask = self.generate_mask(src, tgt)\n",
        "    enc_output = self.encoder(src)\n",
        "    dec_output = self.decoder(tgt, enc_output, src_mask, tgt_mask)\n",
        "    output = self.fc(dec_output)\n",
        "    return output"
      ],
      "metadata": {
        "id": "gGF1kPlYa9Ix"
      },
      "execution_count": 8,
      "outputs": []
    },
    {
      "cell_type": "markdown",
      "metadata": {
        "id": "Apje_0G_6qqY"
      },
      "source": [
        "#**Text Classification using Transformer-Encoder**"
      ]
    },
    {
      "cell_type": "markdown",
      "metadata": {
        "id": "ira_hi4X6vfH"
      },
      "source": [
        "###**Load Dataset**"
      ]
    },
    {
      "cell_type": "code",
      "source": [
        "!pip install datasets"
      ],
      "metadata": {
        "id": "awqQeoUzYemW",
        "colab": {
          "base_uri": "https://localhost:8080/"
        },
        "outputId": "92b6de7a-3e42-441e-8cce-46701508cd75"
      },
      "execution_count": 9,
      "outputs": [
        {
          "output_type": "stream",
          "name": "stdout",
          "text": [
            "Requirement already satisfied: datasets in /usr/local/lib/python3.10/dist-packages (3.2.0)\n",
            "Requirement already satisfied: filelock in /usr/local/lib/python3.10/dist-packages (from datasets) (3.16.1)\n",
            "Requirement already satisfied: numpy>=1.17 in /usr/local/lib/python3.10/dist-packages (from datasets) (1.26.4)\n",
            "Requirement already satisfied: pyarrow>=15.0.0 in /usr/local/lib/python3.10/dist-packages (from datasets) (17.0.0)\n",
            "Requirement already satisfied: dill<0.3.9,>=0.3.0 in /usr/local/lib/python3.10/dist-packages (from datasets) (0.3.8)\n",
            "Requirement already satisfied: pandas in /usr/local/lib/python3.10/dist-packages (from datasets) (2.2.2)\n",
            "Requirement already satisfied: requests>=2.32.2 in /usr/local/lib/python3.10/dist-packages (from datasets) (2.32.3)\n",
            "Requirement already satisfied: tqdm>=4.66.3 in /usr/local/lib/python3.10/dist-packages (from datasets) (4.67.1)\n",
            "Requirement already satisfied: xxhash in /usr/local/lib/python3.10/dist-packages (from datasets) (3.5.0)\n",
            "Requirement already satisfied: multiprocess<0.70.17 in /usr/local/lib/python3.10/dist-packages (from datasets) (0.70.16)\n",
            "Requirement already satisfied: fsspec<=2024.9.0,>=2023.1.0 in /usr/local/lib/python3.10/dist-packages (from fsspec[http]<=2024.9.0,>=2023.1.0->datasets) (2024.9.0)\n",
            "Requirement already satisfied: aiohttp in /usr/local/lib/python3.10/dist-packages (from datasets) (3.11.10)\n",
            "Requirement already satisfied: huggingface-hub>=0.23.0 in /usr/local/lib/python3.10/dist-packages (from datasets) (0.27.0)\n",
            "Requirement already satisfied: packaging in /usr/local/lib/python3.10/dist-packages (from datasets) (24.2)\n",
            "Requirement already satisfied: pyyaml>=5.1 in /usr/local/lib/python3.10/dist-packages (from datasets) (6.0.2)\n",
            "Requirement already satisfied: aiohappyeyeballs>=2.3.0 in /usr/local/lib/python3.10/dist-packages (from aiohttp->datasets) (2.4.4)\n",
            "Requirement already satisfied: aiosignal>=1.1.2 in /usr/local/lib/python3.10/dist-packages (from aiohttp->datasets) (1.3.2)\n",
            "Requirement already satisfied: async-timeout<6.0,>=4.0 in /usr/local/lib/python3.10/dist-packages (from aiohttp->datasets) (4.0.3)\n",
            "Requirement already satisfied: attrs>=17.3.0 in /usr/local/lib/python3.10/dist-packages (from aiohttp->datasets) (24.3.0)\n",
            "Requirement already satisfied: frozenlist>=1.1.1 in /usr/local/lib/python3.10/dist-packages (from aiohttp->datasets) (1.5.0)\n",
            "Requirement already satisfied: multidict<7.0,>=4.5 in /usr/local/lib/python3.10/dist-packages (from aiohttp->datasets) (6.1.0)\n",
            "Requirement already satisfied: propcache>=0.2.0 in /usr/local/lib/python3.10/dist-packages (from aiohttp->datasets) (0.2.1)\n",
            "Requirement already satisfied: yarl<2.0,>=1.17.0 in /usr/local/lib/python3.10/dist-packages (from aiohttp->datasets) (1.18.3)\n",
            "Requirement already satisfied: typing-extensions>=3.7.4.3 in /usr/local/lib/python3.10/dist-packages (from huggingface-hub>=0.23.0->datasets) (4.12.2)\n",
            "Requirement already satisfied: charset-normalizer<4,>=2 in /usr/local/lib/python3.10/dist-packages (from requests>=2.32.2->datasets) (3.4.0)\n",
            "Requirement already satisfied: idna<4,>=2.5 in /usr/local/lib/python3.10/dist-packages (from requests>=2.32.2->datasets) (3.10)\n",
            "Requirement already satisfied: urllib3<3,>=1.21.1 in /usr/local/lib/python3.10/dist-packages (from requests>=2.32.2->datasets) (2.2.3)\n",
            "Requirement already satisfied: certifi>=2017.4.17 in /usr/local/lib/python3.10/dist-packages (from requests>=2.32.2->datasets) (2024.12.14)\n",
            "Requirement already satisfied: python-dateutil>=2.8.2 in /usr/local/lib/python3.10/dist-packages (from pandas->datasets) (2.8.2)\n",
            "Requirement already satisfied: pytz>=2020.1 in /usr/local/lib/python3.10/dist-packages (from pandas->datasets) (2024.2)\n",
            "Requirement already satisfied: tzdata>=2022.7 in /usr/local/lib/python3.10/dist-packages (from pandas->datasets) (2024.2)\n",
            "Requirement already satisfied: six>=1.5 in /usr/local/lib/python3.10/dist-packages (from python-dateutil>=2.8.2->pandas->datasets) (1.17.0)\n"
          ]
        }
      ]
    },
    {
      "cell_type": "code",
      "source": [
        "from datasets import load_dataset\n",
        "\n",
        "ds = load_dataset('thainq107/ntc-scv')"
      ],
      "metadata": {
        "colab": {
          "base_uri": "https://localhost:8080/"
        },
        "id": "ag0SaLgr72_H",
        "outputId": "dbd5f0fd-a2a4-48d9-e561-ca8f1af422f8"
      },
      "execution_count": 10,
      "outputs": [
        {
          "output_type": "stream",
          "name": "stderr",
          "text": [
            "/usr/local/lib/python3.10/dist-packages/huggingface_hub/utils/_auth.py:94: UserWarning: \n",
            "The secret `HF_TOKEN` does not exist in your Colab secrets.\n",
            "To authenticate with the Hugging Face Hub, create a token in your settings tab (https://huggingface.co/settings/tokens), set it as secret in your Google Colab and restart your session.\n",
            "You will be able to reuse this secret in all of your notebooks.\n",
            "Please note that authentication is recommended but still optional to access public models or datasets.\n",
            "  warnings.warn(\n"
          ]
        }
      ]
    },
    {
      "cell_type": "markdown",
      "metadata": {
        "id": "1OZjQuvm68uz"
      },
      "source": [
        "###**Preprocessing**"
      ]
    },
    {
      "cell_type": "markdown",
      "metadata": {
        "id": "_7-Z74Hz7HRS"
      },
      "source": [
        "**Text Cleaning**"
      ]
    },
    {
      "cell_type": "code",
      "execution_count": 11,
      "metadata": {
        "id": "JkdKuuog7JMv"
      },
      "outputs": [],
      "source": [
        "import re\n",
        "import string\n",
        "\n",
        "def preprocess_text(text):\n",
        "    # remove URLs https://www.\n",
        "    url_pattern = re.compile(r'https?://\\s+\\wwww\\.\\s+')\n",
        "    text = url_pattern.sub(r\" \", text)\n",
        "\n",
        "    # remove HTML Tags: <>\n",
        "    html_pattern = re.compile(r'<[^<>]+>')\n",
        "    text = html_pattern.sub(\" \", text)\n",
        "\n",
        "    # remove puncs and digits\n",
        "    replace_chars = list(string.punctuation + string.digits)\n",
        "    for char in replace_chars:\n",
        "        text = text.replace(char, \" \")\n",
        "\n",
        "    # remove emoji\n",
        "    emoji_pattern = re.compile(\"[\"\n",
        "        u\"\\U0001F600-\\U0001F64F\"  # emoticons\n",
        "        u\"\\U0001F300-\\U0001F5FF\"  # symbols & pictographs\n",
        "        u\"\\U0001F680-\\U0001F6FF\"  # transport & map symbols\n",
        "        u\"\\U0001F1E0-\\U0001F1FF\"  # flags (iOS)\n",
        "        u\"\\U0001F1F2-\\U0001F1F4\"  # Macau flag\n",
        "        u\"\\U0001F1E6-\\U0001F1FF\"  # flags\n",
        "        u\"\\U0001F600-\\U0001F64F\"\n",
        "        u\"\\U00002702-\\U000027B0\"\n",
        "        u\"\\U000024C2-\\U0001F251\"\n",
        "        u\"\\U0001f926-\\U0001f937\"\n",
        "        u\"\\U0001F1F2\"\n",
        "        u\"\\U0001F1F4\"\n",
        "        u\"\\U0001F620\"\n",
        "        u\"\\u200d\"\n",
        "        u\"\\u2640-\\u2642\"\n",
        "        \"]+\", flags=re.UNICODE)\n",
        "    text = emoji_pattern.sub(r\" \", text)\n",
        "\n",
        "    # normalize whitespace\n",
        "    text = \" \".join(text.split())\n",
        "\n",
        "    # lowercasing\n",
        "    text = text.lower()\n",
        "    return text"
      ]
    },
    {
      "cell_type": "markdown",
      "metadata": {
        "id": "3BkC5N3U7QCN"
      },
      "source": [
        "###**Representation**"
      ]
    },
    {
      "cell_type": "code",
      "execution_count": 12,
      "metadata": {
        "id": "Nc_bX28S7WUx"
      },
      "outputs": [],
      "source": [
        "def yield_tokens(sentences, tokenizer):\n",
        "    for sentence in sentences:\n",
        "        yield tokenizer(sentence)"
      ]
    },
    {
      "cell_type": "code",
      "execution_count": 13,
      "metadata": {
        "id": "-ubaJjnM7X8G"
      },
      "outputs": [],
      "source": [
        "# word-based tokenizer\n",
        "import torchtext\n",
        "from torchtext.data import get_tokenizer\n",
        "\n",
        "tokenizer = get_tokenizer(\"basic_english\")"
      ]
    },
    {
      "cell_type": "code",
      "execution_count": 14,
      "metadata": {
        "id": "xtS-kwxD7ZjA"
      },
      "outputs": [],
      "source": [
        "# build vocabulary\n",
        "from torchtext.vocab import build_vocab_from_iterator\n",
        "\n",
        "vocab_size = 10000\n",
        "vocabulary = build_vocab_from_iterator(\n",
        "    yield_tokens(ds['train']['preprocessed_sentence'], tokenizer),\n",
        "    max_tokens=vocab_size,\n",
        "    specials=[\"<pad>\", \"<unk>\"]\n",
        ")\n",
        "vocabulary.set_default_index(vocabulary[\"<unk>\"])"
      ]
    },
    {
      "cell_type": "code",
      "execution_count": 15,
      "metadata": {
        "id": "DKxFJqz47b3F"
      },
      "outputs": [],
      "source": [
        "from torchtext.data.functional import to_map_style_dataset\n",
        "\n",
        "def prepare_dataset(df):\n",
        "    # create iterator for dataset: (sentence, label)\n",
        "    for row in df:\n",
        "        sentence = row['preprocessed_sentence']\n",
        "        encoded_sentence = vocabulary(tokenizer(sentence))\n",
        "        label = row['label']\n",
        "        yield encoded_sentence, label\n",
        "\n",
        "train_dataset = prepare_dataset(ds['train'])\n",
        "train_dataset = to_map_style_dataset(train_dataset)\n",
        "\n",
        "valid_dataset = prepare_dataset(ds['valid'])\n",
        "valid_dataset = to_map_style_dataset(valid_dataset)\n",
        "\n",
        "test_dataset = prepare_dataset(ds['test'])\n",
        "test_dataset = to_map_style_dataset(test_dataset)"
      ]
    },
    {
      "cell_type": "code",
      "source": [
        "for row in ds['train']:\n",
        "    print(vocabulary(tokenizer(row['preprocessed_sentence'])))\n",
        "    break"
      ],
      "metadata": {
        "colab": {
          "base_uri": "https://localhost:8080/"
        },
        "id": "Mul4gJ-rAspY",
        "outputId": "da6fa806-2ab0-4cf8-86ce-6958b7313c87"
      },
      "execution_count": 16,
      "outputs": [
        {
          "output_type": "stream",
          "name": "stdout",
          "text": [
            "[351, 111, 112, 529, 124, 228, 196, 53, 159, 43, 103, 256, 46, 2, 11, 31, 52, 723, 32, 491, 991, 533, 32, 491, 220, 1415, 9, 731, 897, 185, 130, 836, 57, 88, 4, 14, 3183, 251, 59]\n"
          ]
        }
      ]
    },
    {
      "cell_type": "markdown",
      "metadata": {
        "id": "2pq9RDwI7dxB"
      },
      "source": [
        "###**Dataloader**"
      ]
    },
    {
      "cell_type": "code",
      "execution_count": 17,
      "metadata": {
        "id": "mzUTf-t_7hP3"
      },
      "outputs": [],
      "source": [
        "import torch\n",
        "\n",
        "seq_length = 100\n",
        "\n",
        "def collate_batch(batch):\n",
        "    # create inputs, offsets, labels for batch\n",
        "    sentences, labels = list(zip(*batch))\n",
        "    encoded_sentences = [\n",
        "        sentence+([0]* (seq_length-len(sentence))) if len(sentence) < seq_length else sentence[:seq_length]\n",
        "        for sentence in sentences\n",
        "    ]\n",
        "\n",
        "    encoded_sentences = torch.tensor(encoded_sentences, dtype=torch.int64)\n",
        "    labels = torch.tensor(labels)\n",
        "\n",
        "    return encoded_sentences, labels"
      ]
    },
    {
      "cell_type": "code",
      "execution_count": 18,
      "metadata": {
        "id": "lRqmmogt7kem"
      },
      "outputs": [],
      "source": [
        "from torch.utils.data import DataLoader\n",
        "\n",
        "batch_size = 128\n",
        "\n",
        "train_dataloader = DataLoader(\n",
        "    train_dataset,\n",
        "    batch_size=batch_size,\n",
        "    shuffle=True,\n",
        "    collate_fn=collate_batch\n",
        ")\n",
        "valid_dataloader = DataLoader(\n",
        "    valid_dataset,\n",
        "    batch_size=batch_size,\n",
        "    shuffle=False,\n",
        "    collate_fn=collate_batch\n",
        ")\n",
        "\n",
        "test_dataloader = DataLoader(\n",
        "    test_dataset,\n",
        "    batch_size=batch_size,\n",
        "    shuffle=False,\n",
        "    collate_fn=collate_batch\n",
        ")"
      ]
    },
    {
      "cell_type": "code",
      "execution_count": 19,
      "metadata": {
        "colab": {
          "base_uri": "https://localhost:8080/"
        },
        "id": "U-Jpg1Ui7mcd",
        "outputId": "23636c13-1cc9-4adc-f2e1-ebad9ff3394f"
      },
      "outputs": [
        {
          "output_type": "execute_result",
          "data": {
            "text/plain": [
              "(tensor([[ 912,   94,  454,  ...,    0,    0,    0],\n",
              "         [  19,  881,  936,  ...,    0,    0,    0],\n",
              "         [   7,   42,  272,  ...,    0,    0,    0],\n",
              "         ...,\n",
              "         [ 359,  364,  467,  ...,  266,  187,  240],\n",
              "         [1951,   40,   14,  ...,    0,    0,    0],\n",
              "         [ 445,   10,   28,  ...,  317, 1026,    8]]),\n",
              " tensor([1, 1, 0, 1, 1, 0, 0, 1, 1, 1, 0, 1, 1, 1, 1, 0, 1, 1, 1, 0, 1, 1, 1, 1,\n",
              "         0, 0, 1, 0, 1, 0, 0, 1, 1, 1, 1, 1, 0, 1, 1, 0, 1, 0, 0, 0, 0, 1, 1, 1,\n",
              "         0, 1, 1, 0, 1, 1, 1, 1, 1, 0, 0, 1, 0, 1, 1, 0, 0, 0, 0, 1, 1, 0, 0, 0,\n",
              "         0, 1, 0, 0, 0, 1, 0, 1, 0, 1, 1, 1, 1, 0, 0, 0, 1, 1, 0, 1, 1, 1, 1, 0,\n",
              "         1, 1, 1, 1, 1, 1, 1, 0, 0, 1, 1, 1, 1, 0, 1, 0, 0, 1, 0, 0, 1, 0, 1, 0,\n",
              "         0, 0, 0, 0, 0, 1, 0, 0]))"
            ]
          },
          "metadata": {},
          "execution_count": 19
        }
      ],
      "source": [
        "next(iter(train_dataloader))"
      ]
    },
    {
      "cell_type": "code",
      "execution_count": 20,
      "metadata": {
        "colab": {
          "base_uri": "https://localhost:8080/"
        },
        "id": "jF9uYHJnDg43",
        "outputId": "9b32c2e4-7c30-40b8-d9b6-8b4af6ab9859"
      },
      "outputs": [
        {
          "output_type": "execute_result",
          "data": {
            "text/plain": [
              "235"
            ]
          },
          "metadata": {},
          "execution_count": 20
        }
      ],
      "source": [
        "len(train_dataloader)"
      ]
    },
    {
      "cell_type": "code",
      "execution_count": 21,
      "metadata": {
        "id": "UIJ9qYcn7oAy"
      },
      "outputs": [],
      "source": [
        "encoded_sentences, labels = next(iter(train_dataloader))"
      ]
    },
    {
      "cell_type": "code",
      "execution_count": 22,
      "metadata": {
        "colab": {
          "base_uri": "https://localhost:8080/"
        },
        "id": "c2fkG2kP7rpi",
        "outputId": "37bfff26-f566-4872-d8d8-ac78c42ec932"
      },
      "outputs": [
        {
          "output_type": "execute_result",
          "data": {
            "text/plain": [
              "torch.Size([128, 100])"
            ]
          },
          "metadata": {},
          "execution_count": 22
        }
      ],
      "source": [
        "encoded_sentences.shape"
      ]
    },
    {
      "cell_type": "code",
      "execution_count": 23,
      "metadata": {
        "colab": {
          "base_uri": "https://localhost:8080/"
        },
        "id": "fyuI2D7q8Avw",
        "outputId": "30dbdda8-617b-4851-a224-854423e22ac8"
      },
      "outputs": [
        {
          "output_type": "execute_result",
          "data": {
            "text/plain": [
              "torch.Size([128])"
            ]
          },
          "metadata": {},
          "execution_count": 23
        }
      ],
      "source": [
        "labels.shape"
      ]
    },
    {
      "cell_type": "markdown",
      "metadata": {
        "id": "Fa6W2VcT9mai"
      },
      "source": [
        "###**Trainer**"
      ]
    },
    {
      "cell_type": "code",
      "execution_count": 24,
      "metadata": {
        "id": "wuvVJXtB9qKL"
      },
      "outputs": [],
      "source": [
        "import time\n",
        "\n",
        "def train_epoch(model, optimizer, criterion, train_dataloader, device, epoch=0, log_interval=50):\n",
        "    model.train()\n",
        "    total_acc, total_count = 0, 0\n",
        "    losses = []\n",
        "    start_time = time.time()\n",
        "\n",
        "    for idx, (inputs, labels) in enumerate(train_dataloader):\n",
        "        inputs = inputs.to(device)\n",
        "        labels = labels.to(device)\n",
        "\n",
        "        optimizer.zero_grad()\n",
        "\n",
        "        predictions = model(inputs)\n",
        "\n",
        "        # compute loss\n",
        "        loss = criterion(predictions, labels)\n",
        "        losses.append(loss.item())\n",
        "\n",
        "        # backward\n",
        "        loss.backward()\n",
        "        optimizer.step()\n",
        "        total_acc += (predictions.argmax(1) == labels).sum().item()\n",
        "        total_count += labels.size(0)\n",
        "        if idx % log_interval == 0 and idx > 0:\n",
        "            elapsed = time.time() - start_time\n",
        "            print(\n",
        "                \"| epoch {:3d} | {:5d}/{:5d} batches \"\n",
        "                \"| accuracy {:8.3f}\".format(\n",
        "                    epoch, idx, len(train_dataloader), total_acc / total_count\n",
        "                )\n",
        "            )\n",
        "            total_acc, total_count = 0, 0\n",
        "            start_time = time.time()\n",
        "\n",
        "    epoch_acc = total_acc / total_count\n",
        "    epoch_loss = sum(losses) / len(losses)\n",
        "    return epoch_acc, epoch_loss"
      ]
    },
    {
      "cell_type": "code",
      "execution_count": 25,
      "metadata": {
        "id": "piuTehfZ9xdx"
      },
      "outputs": [],
      "source": [
        "def evaluate_epoch(model, criterion, valid_dataloader, device):\n",
        "    model.eval()\n",
        "    total_acc, total_count = 0, 0\n",
        "    losses = []\n",
        "\n",
        "    with torch.no_grad():\n",
        "        for idx, (inputs, labels) in enumerate(valid_dataloader):\n",
        "            inputs = inputs.to(device)\n",
        "            labels = labels.to(device)\n",
        "\n",
        "            predictions = model(inputs)\n",
        "\n",
        "            loss = criterion(predictions, labels)\n",
        "            losses.append(loss.item())\n",
        "\n",
        "            total_acc += (predictions.argmax(1) == labels).sum().item()\n",
        "            total_count += labels.size(0)\n",
        "\n",
        "    epoch_acc = total_acc / total_count\n",
        "    epoch_loss = sum(losses) / len(losses)\n",
        "    return epoch_acc, epoch_loss"
      ]
    },
    {
      "cell_type": "code",
      "execution_count": 26,
      "metadata": {
        "id": "JuqJbVjP92ew"
      },
      "outputs": [],
      "source": [
        "def train(model, model_name, save_model, optimizer, criterion, train_dataloader, valid_dataloader, num_epochs, device):\n",
        "    train_accs, train_losses = [], []\n",
        "    eval_accs, eval_losses = [], []\n",
        "    best_loss_eval = 100\n",
        "    times = []\n",
        "    for epoch in range(1, num_epochs+1):\n",
        "        epoch_start_time = time.time()\n",
        "        # Training\n",
        "        train_acc, train_loss = train_epoch(model, optimizer, criterion, train_dataloader, device, epoch)\n",
        "        train_accs.append(train_acc)\n",
        "        train_losses.append(train_loss)\n",
        "\n",
        "        # Evaluation\n",
        "        eval_acc, eval_loss = evaluate_epoch(model, criterion, valid_dataloader, device)\n",
        "        eval_accs.append(eval_acc)\n",
        "        eval_losses.append(eval_loss)\n",
        "\n",
        "        # Save best model\n",
        "        if eval_loss < best_loss_eval:\n",
        "            torch.save(model.state_dict(), save_model + f'/{model_name}.pt')\n",
        "\n",
        "        times.append(time.time() - epoch_start_time)\n",
        "        # Print loss, acc end epoch\n",
        "        print(\"-\" * 59)\n",
        "        print(\n",
        "            \"| End of epoch {:3d} | Time: {:5.2f}s | Train Accuracy {:8.3f} | Train Loss {:8.3f} \"\n",
        "            \"| Valid Accuracy {:8.3f} | Valid Loss {:8.3f} \".format(\n",
        "                epoch, time.time() - epoch_start_time, train_acc, train_loss, eval_acc, eval_loss\n",
        "            )\n",
        "        )\n",
        "        print(\"-\" * 59)\n",
        "\n",
        "    # Load best model\n",
        "    model.load_state_dict(torch.load(save_model + f'/{model_name}.pt', weights_only=True))\n",
        "    model.eval()\n",
        "    metrics = {\n",
        "        'train_accuracy': train_accs,\n",
        "        'train_loss': train_losses,\n",
        "        'valid_accuracy': eval_accs,\n",
        "        'valid_loss': eval_losses,\n",
        "        'time': times\n",
        "    }\n",
        "    return model, metrics"
      ]
    },
    {
      "cell_type": "code",
      "execution_count": 27,
      "metadata": {
        "id": "Im6ctPs995cJ"
      },
      "outputs": [],
      "source": [
        "import matplotlib.pyplot as plt\n",
        "\n",
        "def plot_result(num_epochs, train_accs, eval_accs, train_losses, eval_losses):\n",
        "    epochs = list(range(num_epochs))\n",
        "    fig, axs = plt.subplots(nrows = 1, ncols =2 , figsize = (12,6))\n",
        "    axs[0].plot(epochs, train_accs, label = \"Training\")\n",
        "    axs[0].plot(epochs, eval_accs, label = \"Evaluation\")\n",
        "    axs[1].plot(epochs, train_losses, label = \"Training\")\n",
        "    axs[1].plot(epochs, eval_losses, label = \"Evaluation\")\n",
        "    axs[0].set_xlabel(\"Epochs\")\n",
        "    axs[1].set_xlabel(\"Epochs\")\n",
        "    axs[0].set_ylabel(\"Accuracy\")\n",
        "    axs[1].set_ylabel(\"Loss\")\n",
        "    plt.legend()"
      ]
    },
    {
      "cell_type": "markdown",
      "metadata": {
        "id": "HJ-w3VTW9-rh"
      },
      "source": [
        "###**Modeling**"
      ]
    },
    {
      "cell_type": "code",
      "execution_count": 28,
      "metadata": {
        "id": "gTpF9kJN-BAL"
      },
      "outputs": [],
      "source": [
        "class TransformerEncoderCls(nn.Module):\n",
        "    def __init__(self, vocab_size, max_length, num_layers, embed_dim, num_heads, ff_dim,\n",
        "                 dropout=0.1, device='cpu'):\n",
        "        super().__init__()\n",
        "        self.encoder = TransformerEncoder(\n",
        "            vocab_size, max_length, num_layers, embed_dim, num_heads, ff_dim, dropout, device)\n",
        "        self.pooling = nn.AvgPool1d(kernel_size=max_length)\n",
        "        self.fc1 = nn.Linear(in_features=embed_dim, out_features=20)\n",
        "        self.fc2 = nn.Linear(in_features=20, out_features=2)\n",
        "        self.dropout = nn.Dropout(p=dropout)\n",
        "        self.relu = nn.ReLU()\n",
        "\n",
        "    def forward(self, x):\n",
        "        output = self.encoder(x)\n",
        "        output = self.pooling(output.permute(0, 2, 1)).squeeze()\n",
        "        output = self.dropout(output)\n",
        "        output = self.fc1(output)\n",
        "        output = self.relu(output)\n",
        "        output = self.fc2(output)\n",
        "        return output"
      ]
    },
    {
      "cell_type": "code",
      "execution_count": 29,
      "metadata": {
        "id": "T3CTG5UD3mds"
      },
      "outputs": [],
      "source": [
        "vocab_size = 10000\n",
        "max_length = 100\n",
        "embed_dim = 200\n",
        "num_layers = 2\n",
        "num_heads = 4\n",
        "ff_dim = 128\n",
        "dropout=0.1\n",
        "\n",
        "model = TransformerEncoderCls(\n",
        "    vocab_size, max_length, num_layers, embed_dim, num_heads, ff_dim, dropout\n",
        ")"
      ]
    },
    {
      "cell_type": "markdown",
      "metadata": {
        "id": "Vf9GW1dpB8PT"
      },
      "source": [
        "###**Training**"
      ]
    },
    {
      "cell_type": "code",
      "execution_count": 30,
      "metadata": {
        "colab": {
          "base_uri": "https://localhost:8080/"
        },
        "id": "9yiMR-0nB-ao",
        "outputId": "fe79dcf5-f386-4ecd-e21a-aaef7d8263a8"
      },
      "outputs": [
        {
          "output_type": "stream",
          "name": "stdout",
          "text": [
            "| epoch   1 |    50/  235 batches | accuracy    0.505\n",
            "| epoch   1 |   100/  235 batches | accuracy    0.588\n",
            "| epoch   1 |   150/  235 batches | accuracy    0.642\n",
            "| epoch   1 |   200/  235 batches | accuracy    0.698\n",
            "-----------------------------------------------------------\n",
            "| End of epoch   1 | Time: 11.15s | Train Accuracy    0.722 | Train Loss    0.649 | Valid Accuracy    0.749 | Valid Loss    0.550 \n",
            "-----------------------------------------------------------\n",
            "| epoch   2 |    50/  235 batches | accuracy    0.753\n",
            "| epoch   2 |   100/  235 batches | accuracy    0.769\n",
            "| epoch   2 |   150/  235 batches | accuracy    0.787\n",
            "| epoch   2 |   200/  235 batches | accuracy    0.791\n",
            "-----------------------------------------------------------\n",
            "| End of epoch   2 | Time:  7.97s | Train Accuracy    0.805 | Train Loss    0.476 | Valid Accuracy    0.797 | Valid Loss    0.451 \n",
            "-----------------------------------------------------------\n",
            "| epoch   3 |    50/  235 batches | accuracy    0.813\n",
            "| epoch   3 |   100/  235 batches | accuracy    0.806\n",
            "| epoch   3 |   150/  235 batches | accuracy    0.813\n",
            "| epoch   3 |   200/  235 batches | accuracy    0.810\n",
            "-----------------------------------------------------------\n",
            "| End of epoch   3 | Time:  7.19s | Train Accuracy    0.805 | Train Loss    0.420 | Valid Accuracy    0.811 | Valid Loss    0.424 \n",
            "-----------------------------------------------------------\n",
            "| epoch   4 |    50/  235 batches | accuracy    0.818\n",
            "| epoch   4 |   100/  235 batches | accuracy    0.821\n",
            "| epoch   4 |   150/  235 batches | accuracy    0.826\n",
            "| epoch   4 |   200/  235 batches | accuracy    0.830\n",
            "-----------------------------------------------------------\n",
            "| End of epoch   4 | Time:  7.34s | Train Accuracy    0.825 | Train Loss    0.396 | Valid Accuracy    0.815 | Valid Loss    0.415 \n",
            "-----------------------------------------------------------\n",
            "| epoch   5 |    50/  235 batches | accuracy    0.839\n",
            "| epoch   5 |   100/  235 batches | accuracy    0.832\n",
            "| epoch   5 |   150/  235 batches | accuracy    0.827\n",
            "| epoch   5 |   200/  235 batches | accuracy    0.840\n",
            "-----------------------------------------------------------\n",
            "| End of epoch   5 | Time:  7.31s | Train Accuracy    0.835 | Train Loss    0.377 | Valid Accuracy    0.825 | Valid Loss    0.401 \n",
            "-----------------------------------------------------------\n",
            "| epoch   6 |    50/  235 batches | accuracy    0.842\n",
            "| epoch   6 |   100/  235 batches | accuracy    0.837\n",
            "| epoch   6 |   150/  235 batches | accuracy    0.847\n",
            "| epoch   6 |   200/  235 batches | accuracy    0.848\n",
            "-----------------------------------------------------------\n",
            "| End of epoch   6 | Time:  7.36s | Train Accuracy    0.839 | Train Loss    0.362 | Valid Accuracy    0.826 | Valid Loss    0.396 \n",
            "-----------------------------------------------------------\n",
            "| epoch   7 |    50/  235 batches | accuracy    0.853\n",
            "| epoch   7 |   100/  235 batches | accuracy    0.847\n",
            "| epoch   7 |   150/  235 batches | accuracy    0.851\n",
            "| epoch   7 |   200/  235 batches | accuracy    0.855\n",
            "-----------------------------------------------------------\n",
            "| End of epoch   7 | Time:  7.46s | Train Accuracy    0.843 | Train Loss    0.348 | Valid Accuracy    0.833 | Valid Loss    0.384 \n",
            "-----------------------------------------------------------\n",
            "| epoch   8 |    50/  235 batches | accuracy    0.861\n",
            "| epoch   8 |   100/  235 batches | accuracy    0.850\n",
            "| epoch   8 |   150/  235 batches | accuracy    0.859\n",
            "| epoch   8 |   200/  235 batches | accuracy    0.853\n",
            "-----------------------------------------------------------\n",
            "| End of epoch   8 | Time:  7.36s | Train Accuracy    0.855 | Train Loss    0.338 | Valid Accuracy    0.835 | Valid Loss    0.385 \n",
            "-----------------------------------------------------------\n",
            "| epoch   9 |    50/  235 batches | accuracy    0.861\n",
            "| epoch   9 |   100/  235 batches | accuracy    0.858\n",
            "| epoch   9 |   150/  235 batches | accuracy    0.856\n",
            "| epoch   9 |   200/  235 batches | accuracy    0.863\n",
            "-----------------------------------------------------------\n",
            "| End of epoch   9 | Time:  7.51s | Train Accuracy    0.862 | Train Loss    0.330 | Valid Accuracy    0.837 | Valid Loss    0.381 \n",
            "-----------------------------------------------------------\n",
            "| epoch  10 |    50/  235 batches | accuracy    0.872\n",
            "| epoch  10 |   100/  235 batches | accuracy    0.863\n",
            "| epoch  10 |   150/  235 batches | accuracy    0.866\n",
            "| epoch  10 |   200/  235 batches | accuracy    0.868\n",
            "-----------------------------------------------------------\n",
            "| End of epoch  10 | Time:  7.46s | Train Accuracy    0.864 | Train Loss    0.320 | Valid Accuracy    0.838 | Valid Loss    0.379 \n",
            "-----------------------------------------------------------\n",
            "| epoch  11 |    50/  235 batches | accuracy    0.877\n",
            "| epoch  11 |   100/  235 batches | accuracy    0.863\n",
            "| epoch  11 |   150/  235 batches | accuracy    0.875\n",
            "| epoch  11 |   200/  235 batches | accuracy    0.872\n",
            "-----------------------------------------------------------\n",
            "| End of epoch  11 | Time:  8.41s | Train Accuracy    0.873 | Train Loss    0.311 | Valid Accuracy    0.839 | Valid Loss    0.378 \n",
            "-----------------------------------------------------------\n",
            "| epoch  12 |    50/  235 batches | accuracy    0.878\n",
            "| epoch  12 |   100/  235 batches | accuracy    0.875\n",
            "| epoch  12 |   150/  235 batches | accuracy    0.869\n",
            "| epoch  12 |   200/  235 batches | accuracy    0.880\n",
            "-----------------------------------------------------------\n",
            "| End of epoch  12 | Time:  7.62s | Train Accuracy    0.880 | Train Loss    0.302 | Valid Accuracy    0.843 | Valid Loss    0.378 \n",
            "-----------------------------------------------------------\n",
            "| epoch  13 |    50/  235 batches | accuracy    0.882\n",
            "| epoch  13 |   100/  235 batches | accuracy    0.883\n",
            "| epoch  13 |   150/  235 batches | accuracy    0.878\n",
            "| epoch  13 |   200/  235 batches | accuracy    0.878\n",
            "-----------------------------------------------------------\n",
            "| End of epoch  13 | Time:  7.58s | Train Accuracy    0.882 | Train Loss    0.293 | Valid Accuracy    0.841 | Valid Loss    0.380 \n",
            "-----------------------------------------------------------\n",
            "| epoch  14 |    50/  235 batches | accuracy    0.889\n",
            "| epoch  14 |   100/  235 batches | accuracy    0.885\n",
            "| epoch  14 |   150/  235 batches | accuracy    0.883\n",
            "| epoch  14 |   200/  235 batches | accuracy    0.885\n",
            "-----------------------------------------------------------\n",
            "| End of epoch  14 | Time:  7.69s | Train Accuracy    0.875 | Train Loss    0.284 | Valid Accuracy    0.843 | Valid Loss    0.379 \n",
            "-----------------------------------------------------------\n",
            "| epoch  15 |    50/  235 batches | accuracy    0.889\n",
            "| epoch  15 |   100/  235 batches | accuracy    0.892\n",
            "| epoch  15 |   150/  235 batches | accuracy    0.888\n",
            "| epoch  15 |   200/  235 batches | accuracy    0.893\n",
            "-----------------------------------------------------------\n",
            "| End of epoch  15 | Time:  7.66s | Train Accuracy    0.884 | Train Loss    0.276 | Valid Accuracy    0.843 | Valid Loss    0.381 \n",
            "-----------------------------------------------------------\n",
            "| epoch  16 |    50/  235 batches | accuracy    0.897\n",
            "| epoch  16 |   100/  235 batches | accuracy    0.900\n",
            "| epoch  16 |   150/  235 batches | accuracy    0.900\n",
            "| epoch  16 |   200/  235 batches | accuracy    0.887\n",
            "-----------------------------------------------------------\n",
            "| End of epoch  16 | Time:  7.59s | Train Accuracy    0.886 | Train Loss    0.268 | Valid Accuracy    0.841 | Valid Loss    0.385 \n",
            "-----------------------------------------------------------\n",
            "| epoch  17 |    50/  235 batches | accuracy    0.896\n",
            "| epoch  17 |   100/  235 batches | accuracy    0.899\n",
            "| epoch  17 |   150/  235 batches | accuracy    0.895\n",
            "| epoch  17 |   200/  235 batches | accuracy    0.895\n",
            "-----------------------------------------------------------\n",
            "| End of epoch  17 | Time:  7.59s | Train Accuracy    0.907 | Train Loss    0.259 | Valid Accuracy    0.841 | Valid Loss    0.397 \n",
            "-----------------------------------------------------------\n",
            "| epoch  18 |    50/  235 batches | accuracy    0.904\n",
            "| epoch  18 |   100/  235 batches | accuracy    0.906\n",
            "| epoch  18 |   150/  235 batches | accuracy    0.902\n",
            "| epoch  18 |   200/  235 batches | accuracy    0.905\n",
            "-----------------------------------------------------------\n",
            "| End of epoch  18 | Time:  7.48s | Train Accuracy    0.897 | Train Loss    0.250 | Valid Accuracy    0.842 | Valid Loss    0.401 \n",
            "-----------------------------------------------------------\n",
            "| epoch  19 |    50/  235 batches | accuracy    0.913\n",
            "| epoch  19 |   100/  235 batches | accuracy    0.911\n",
            "| epoch  19 |   150/  235 batches | accuracy    0.904\n",
            "| epoch  19 |   200/  235 batches | accuracy    0.903\n",
            "-----------------------------------------------------------\n",
            "| End of epoch  19 | Time:  7.58s | Train Accuracy    0.904 | Train Loss    0.240 | Valid Accuracy    0.844 | Valid Loss    0.403 \n",
            "-----------------------------------------------------------\n",
            "| epoch  20 |    50/  235 batches | accuracy    0.921\n",
            "| epoch  20 |   100/  235 batches | accuracy    0.917\n",
            "| epoch  20 |   150/  235 batches | accuracy    0.909\n",
            "| epoch  20 |   200/  235 batches | accuracy    0.913\n",
            "-----------------------------------------------------------\n",
            "| End of epoch  20 | Time:  7.59s | Train Accuracy    0.905 | Train Loss    0.229 | Valid Accuracy    0.842 | Valid Loss    0.420 \n",
            "-----------------------------------------------------------\n",
            "| epoch  21 |    50/  235 batches | accuracy    0.910\n",
            "| epoch  21 |   100/  235 batches | accuracy    0.919\n",
            "| epoch  21 |   150/  235 batches | accuracy    0.921\n",
            "| epoch  21 |   200/  235 batches | accuracy    0.922\n",
            "-----------------------------------------------------------\n",
            "| End of epoch  21 | Time:  7.53s | Train Accuracy    0.909 | Train Loss    0.220 | Valid Accuracy    0.840 | Valid Loss    0.432 \n",
            "-----------------------------------------------------------\n",
            "| epoch  22 |    50/  235 batches | accuracy    0.926\n",
            "| epoch  22 |   100/  235 batches | accuracy    0.931\n",
            "| epoch  22 |   150/  235 batches | accuracy    0.923\n",
            "| epoch  22 |   200/  235 batches | accuracy    0.923\n",
            "-----------------------------------------------------------\n",
            "| End of epoch  22 | Time:  7.59s | Train Accuracy    0.923 | Train Loss    0.207 | Valid Accuracy    0.839 | Valid Loss    0.435 \n",
            "-----------------------------------------------------------\n",
            "| epoch  23 |    50/  235 batches | accuracy    0.929\n",
            "| epoch  23 |   100/  235 batches | accuracy    0.930\n",
            "| epoch  23 |   150/  235 batches | accuracy    0.933\n",
            "| epoch  23 |   200/  235 batches | accuracy    0.928\n",
            "-----------------------------------------------------------\n",
            "| End of epoch  23 | Time:  7.52s | Train Accuracy    0.932 | Train Loss    0.196 | Valid Accuracy    0.838 | Valid Loss    0.463 \n",
            "-----------------------------------------------------------\n",
            "| epoch  24 |    50/  235 batches | accuracy    0.939\n",
            "| epoch  24 |   100/  235 batches | accuracy    0.940\n",
            "| epoch  24 |   150/  235 batches | accuracy    0.938\n",
            "| epoch  24 |   200/  235 batches | accuracy    0.936\n",
            "-----------------------------------------------------------\n",
            "| End of epoch  24 | Time:  7.63s | Train Accuracy    0.935 | Train Loss    0.183 | Valid Accuracy    0.836 | Valid Loss    0.468 \n",
            "-----------------------------------------------------------\n",
            "| epoch  25 |    50/  235 batches | accuracy    0.946\n",
            "| epoch  25 |   100/  235 batches | accuracy    0.944\n",
            "| epoch  25 |   150/  235 batches | accuracy    0.937\n",
            "| epoch  25 |   200/  235 batches | accuracy    0.945\n",
            "-----------------------------------------------------------\n",
            "| End of epoch  25 | Time:  7.64s | Train Accuracy    0.938 | Train Loss    0.174 | Valid Accuracy    0.833 | Valid Loss    0.527 \n",
            "-----------------------------------------------------------\n",
            "| epoch  26 |    50/  235 batches | accuracy    0.950\n",
            "| epoch  26 |   100/  235 batches | accuracy    0.952\n",
            "| epoch  26 |   150/  235 batches | accuracy    0.950\n",
            "| epoch  26 |   200/  235 batches | accuracy    0.942\n",
            "-----------------------------------------------------------\n",
            "| End of epoch  26 | Time:  7.58s | Train Accuracy    0.940 | Train Loss    0.163 | Valid Accuracy    0.834 | Valid Loss    0.517 \n",
            "-----------------------------------------------------------\n",
            "| epoch  27 |    50/  235 batches | accuracy    0.955\n",
            "| epoch  27 |   100/  235 batches | accuracy    0.949\n",
            "| epoch  27 |   150/  235 batches | accuracy    0.953\n",
            "| epoch  27 |   200/  235 batches | accuracy    0.953\n",
            "-----------------------------------------------------------\n",
            "| End of epoch  27 | Time:  7.61s | Train Accuracy    0.935 | Train Loss    0.154 | Valid Accuracy    0.831 | Valid Loss    0.548 \n",
            "-----------------------------------------------------------\n",
            "| epoch  28 |    50/  235 batches | accuracy    0.959\n",
            "| epoch  28 |   100/  235 batches | accuracy    0.963\n",
            "| epoch  28 |   150/  235 batches | accuracy    0.956\n",
            "| epoch  28 |   200/  235 batches | accuracy    0.959\n",
            "-----------------------------------------------------------\n",
            "| End of epoch  28 | Time:  7.51s | Train Accuracy    0.947 | Train Loss    0.139 | Valid Accuracy    0.832 | Valid Loss    0.533 \n",
            "-----------------------------------------------------------\n",
            "| epoch  29 |    50/  235 batches | accuracy    0.966\n",
            "| epoch  29 |   100/  235 batches | accuracy    0.961\n",
            "| epoch  29 |   150/  235 batches | accuracy    0.964\n",
            "| epoch  29 |   200/  235 batches | accuracy    0.961\n",
            "-----------------------------------------------------------\n",
            "| End of epoch  29 | Time:  7.59s | Train Accuracy    0.959 | Train Loss    0.129 | Valid Accuracy    0.832 | Valid Loss    0.561 \n",
            "-----------------------------------------------------------\n",
            "| epoch  30 |    50/  235 batches | accuracy    0.964\n",
            "| epoch  30 |   100/  235 batches | accuracy    0.967\n",
            "| epoch  30 |   150/  235 batches | accuracy    0.968\n",
            "| epoch  30 |   200/  235 batches | accuracy    0.965\n",
            "-----------------------------------------------------------\n",
            "| End of epoch  30 | Time:  7.60s | Train Accuracy    0.966 | Train Loss    0.119 | Valid Accuracy    0.829 | Valid Loss    0.640 \n",
            "-----------------------------------------------------------\n",
            "| epoch  31 |    50/  235 batches | accuracy    0.973\n",
            "| epoch  31 |   100/  235 batches | accuracy    0.970\n",
            "| epoch  31 |   150/  235 batches | accuracy    0.972\n",
            "| epoch  31 |   200/  235 batches | accuracy    0.970\n",
            "-----------------------------------------------------------\n",
            "| End of epoch  31 | Time:  7.58s | Train Accuracy    0.968 | Train Loss    0.110 | Valid Accuracy    0.826 | Valid Loss    0.670 \n",
            "-----------------------------------------------------------\n",
            "| epoch  32 |    50/  235 batches | accuracy    0.975\n",
            "| epoch  32 |   100/  235 batches | accuracy    0.974\n",
            "| epoch  32 |   150/  235 batches | accuracy    0.977\n",
            "| epoch  32 |   200/  235 batches | accuracy    0.968\n",
            "-----------------------------------------------------------\n",
            "| End of epoch  32 | Time:  7.59s | Train Accuracy    0.966 | Train Loss    0.105 | Valid Accuracy    0.828 | Valid Loss    0.683 \n",
            "-----------------------------------------------------------\n",
            "| epoch  33 |    50/  235 batches | accuracy    0.979\n",
            "| epoch  33 |   100/  235 batches | accuracy    0.971\n",
            "| epoch  33 |   150/  235 batches | accuracy    0.976\n",
            "| epoch  33 |   200/  235 batches | accuracy    0.975\n",
            "-----------------------------------------------------------\n",
            "| End of epoch  33 | Time:  7.52s | Train Accuracy    0.973 | Train Loss    0.097 | Valid Accuracy    0.826 | Valid Loss    0.695 \n",
            "-----------------------------------------------------------\n",
            "| epoch  34 |    50/  235 batches | accuracy    0.979\n",
            "| epoch  34 |   100/  235 batches | accuracy    0.977\n",
            "| epoch  34 |   150/  235 batches | accuracy    0.979\n",
            "| epoch  34 |   200/  235 batches | accuracy    0.979\n",
            "-----------------------------------------------------------\n",
            "| End of epoch  34 | Time:  7.61s | Train Accuracy    0.975 | Train Loss    0.089 | Valid Accuracy    0.826 | Valid Loss    0.725 \n",
            "-----------------------------------------------------------\n",
            "| epoch  35 |    50/  235 batches | accuracy    0.977\n",
            "| epoch  35 |   100/  235 batches | accuracy    0.982\n",
            "| epoch  35 |   150/  235 batches | accuracy    0.982\n",
            "| epoch  35 |   200/  235 batches | accuracy    0.980\n",
            "-----------------------------------------------------------\n",
            "| End of epoch  35 | Time:  7.62s | Train Accuracy    0.978 | Train Loss    0.084 | Valid Accuracy    0.827 | Valid Loss    0.725 \n",
            "-----------------------------------------------------------\n",
            "| epoch  36 |    50/  235 batches | accuracy    0.978\n",
            "| epoch  36 |   100/  235 batches | accuracy    0.982\n",
            "| epoch  36 |   150/  235 batches | accuracy    0.983\n",
            "| epoch  36 |   200/  235 batches | accuracy    0.980\n",
            "-----------------------------------------------------------\n",
            "| End of epoch  36 | Time:  7.56s | Train Accuracy    0.978 | Train Loss    0.081 | Valid Accuracy    0.826 | Valid Loss    0.733 \n",
            "-----------------------------------------------------------\n",
            "| epoch  37 |    50/  235 batches | accuracy    0.981\n",
            "| epoch  37 |   100/  235 batches | accuracy    0.981\n",
            "| epoch  37 |   150/  235 batches | accuracy    0.982\n",
            "| epoch  37 |   200/  235 batches | accuracy    0.979\n",
            "-----------------------------------------------------------\n",
            "| End of epoch  37 | Time:  7.60s | Train Accuracy    0.981 | Train Loss    0.079 | Valid Accuracy    0.825 | Valid Loss    0.764 \n",
            "-----------------------------------------------------------\n",
            "| epoch  38 |    50/  235 batches | accuracy    0.981\n",
            "| epoch  38 |   100/  235 batches | accuracy    0.984\n",
            "| epoch  38 |   150/  235 batches | accuracy    0.985\n",
            "| epoch  38 |   200/  235 batches | accuracy    0.986\n",
            "-----------------------------------------------------------\n",
            "| End of epoch  38 | Time:  7.51s | Train Accuracy    0.985 | Train Loss    0.071 | Valid Accuracy    0.825 | Valid Loss    0.839 \n",
            "-----------------------------------------------------------\n",
            "| epoch  39 |    50/  235 batches | accuracy    0.986\n",
            "| epoch  39 |   100/  235 batches | accuracy    0.988\n",
            "| epoch  39 |   150/  235 batches | accuracy    0.983\n",
            "| epoch  39 |   200/  235 batches | accuracy    0.984\n",
            "-----------------------------------------------------------\n",
            "| End of epoch  39 | Time:  7.62s | Train Accuracy    0.982 | Train Loss    0.068 | Valid Accuracy    0.823 | Valid Loss    0.853 \n",
            "-----------------------------------------------------------\n",
            "| epoch  40 |    50/  235 batches | accuracy    0.985\n",
            "| epoch  40 |   100/  235 batches | accuracy    0.983\n",
            "| epoch  40 |   150/  235 batches | accuracy    0.985\n",
            "| epoch  40 |   200/  235 batches | accuracy    0.986\n",
            "-----------------------------------------------------------\n",
            "| End of epoch  40 | Time:  7.63s | Train Accuracy    0.984 | Train Loss    0.066 | Valid Accuracy    0.824 | Valid Loss    0.892 \n",
            "-----------------------------------------------------------\n",
            "| epoch  41 |    50/  235 batches | accuracy    0.986\n",
            "| epoch  41 |   100/  235 batches | accuracy    0.983\n",
            "| epoch  41 |   150/  235 batches | accuracy    0.985\n",
            "| epoch  41 |   200/  235 batches | accuracy    0.986\n",
            "-----------------------------------------------------------\n",
            "| End of epoch  41 | Time:  7.56s | Train Accuracy    0.986 | Train Loss    0.066 | Valid Accuracy    0.824 | Valid Loss    0.919 \n",
            "-----------------------------------------------------------\n",
            "| epoch  42 |    50/  235 batches | accuracy    0.984\n",
            "| epoch  42 |   100/  235 batches | accuracy    0.986\n",
            "| epoch  42 |   150/  235 batches | accuracy    0.983\n",
            "| epoch  42 |   200/  235 batches | accuracy    0.985\n",
            "-----------------------------------------------------------\n",
            "| End of epoch  42 | Time:  7.62s | Train Accuracy    0.984 | Train Loss    0.066 | Valid Accuracy    0.822 | Valid Loss    0.908 \n",
            "-----------------------------------------------------------\n",
            "| epoch  43 |    50/  235 batches | accuracy    0.985\n",
            "| epoch  43 |   100/  235 batches | accuracy    0.985\n",
            "| epoch  43 |   150/  235 batches | accuracy    0.984\n",
            "| epoch  43 |   200/  235 batches | accuracy    0.986\n",
            "-----------------------------------------------------------\n",
            "| End of epoch  43 | Time:  7.52s | Train Accuracy    0.988 | Train Loss    0.062 | Valid Accuracy    0.825 | Valid Loss    0.884 \n",
            "-----------------------------------------------------------\n",
            "| epoch  44 |    50/  235 batches | accuracy    0.986\n",
            "| epoch  44 |   100/  235 batches | accuracy    0.984\n",
            "| epoch  44 |   150/  235 batches | accuracy    0.987\n",
            "| epoch  44 |   200/  235 batches | accuracy    0.985\n",
            "-----------------------------------------------------------\n",
            "| End of epoch  44 | Time:  7.62s | Train Accuracy    0.985 | Train Loss    0.062 | Valid Accuracy    0.823 | Valid Loss    0.980 \n",
            "-----------------------------------------------------------\n",
            "| epoch  45 |    50/  235 batches | accuracy    0.986\n",
            "| epoch  45 |   100/  235 batches | accuracy    0.983\n",
            "| epoch  45 |   150/  235 batches | accuracy    0.984\n",
            "| epoch  45 |   200/  235 batches | accuracy    0.989\n",
            "-----------------------------------------------------------\n",
            "| End of epoch  45 | Time:  7.63s | Train Accuracy    0.978 | Train Loss    0.062 | Valid Accuracy    0.822 | Valid Loss    0.940 \n",
            "-----------------------------------------------------------\n",
            "| epoch  46 |    50/  235 batches | accuracy    0.988\n",
            "| epoch  46 |   100/  235 batches | accuracy    0.987\n",
            "| epoch  46 |   150/  235 batches | accuracy    0.987\n",
            "| epoch  46 |   200/  235 batches | accuracy    0.984\n",
            "-----------------------------------------------------------\n",
            "| End of epoch  46 | Time:  7.54s | Train Accuracy    0.987 | Train Loss    0.058 | Valid Accuracy    0.823 | Valid Loss    0.996 \n",
            "-----------------------------------------------------------\n",
            "| epoch  47 |    50/  235 batches | accuracy    0.986\n",
            "| epoch  47 |   100/  235 batches | accuracy    0.988\n",
            "| epoch  47 |   150/  235 batches | accuracy    0.988\n",
            "| epoch  47 |   200/  235 batches | accuracy    0.986\n",
            "-----------------------------------------------------------\n",
            "| End of epoch  47 | Time:  7.62s | Train Accuracy    0.987 | Train Loss    0.056 | Valid Accuracy    0.823 | Valid Loss    0.929 \n",
            "-----------------------------------------------------------\n",
            "| epoch  48 |    50/  235 batches | accuracy    0.989\n",
            "| epoch  48 |   100/  235 batches | accuracy    0.987\n",
            "| epoch  48 |   150/  235 batches | accuracy    0.989\n",
            "| epoch  48 |   200/  235 batches | accuracy    0.986\n",
            "-----------------------------------------------------------\n",
            "| End of epoch  48 | Time:  7.51s | Train Accuracy    0.987 | Train Loss    0.054 | Valid Accuracy    0.823 | Valid Loss    0.975 \n",
            "-----------------------------------------------------------\n",
            "| epoch  49 |    50/  235 batches | accuracy    0.987\n",
            "| epoch  49 |   100/  235 batches | accuracy    0.989\n",
            "| epoch  49 |   150/  235 batches | accuracy    0.987\n",
            "| epoch  49 |   200/  235 batches | accuracy    0.988\n",
            "-----------------------------------------------------------\n",
            "| End of epoch  49 | Time:  7.64s | Train Accuracy    0.988 | Train Loss    0.052 | Valid Accuracy    0.826 | Valid Loss    0.954 \n",
            "-----------------------------------------------------------\n",
            "| epoch  50 |    50/  235 batches | accuracy    0.988\n",
            "| epoch  50 |   100/  235 batches | accuracy    0.986\n",
            "| epoch  50 |   150/  235 batches | accuracy    0.987\n",
            "| epoch  50 |   200/  235 batches | accuracy    0.988\n",
            "-----------------------------------------------------------\n",
            "| End of epoch  50 | Time:  7.65s | Train Accuracy    0.989 | Train Loss    0.053 | Valid Accuracy    0.821 | Valid Loss    1.067 \n",
            "-----------------------------------------------------------\n"
          ]
        }
      ],
      "source": [
        "import os\n",
        "import torch.optim as optim\n",
        "\n",
        "device = torch.device('cuda' if torch.cuda.is_available() else 'cpu')\n",
        "\n",
        "model = TransformerEncoderCls(\n",
        "    vocab_size, max_length, num_layers, embed_dim, num_heads, ff_dim, dropout, device\n",
        ")\n",
        "model.to(device)\n",
        "\n",
        "criterion = torch.nn.CrossEntropyLoss()\n",
        "optimizer = optim.Adam(model.parameters(), lr=0.00005)\n",
        "\n",
        "num_epochs = 50\n",
        "save_model = './model'\n",
        "os.makedirs(save_model, exist_ok = True)\n",
        "model_name = 'model'\n",
        "\n",
        "model, metrics = train(\n",
        "    model, model_name, save_model, optimizer, criterion, train_dataloader, valid_dataloader, num_epochs, device\n",
        ")"
      ]
    },
    {
      "cell_type": "code",
      "execution_count": 31,
      "metadata": {
        "colab": {
          "base_uri": "https://localhost:8080/",
          "height": 543
        },
        "id": "ta6k90oHIvOR",
        "outputId": "762ece38-c3c7-4fa3-dac5-d1ab37ac8a68"
      },
      "outputs": [
        {
          "output_type": "display_data",
          "data": {
            "text/plain": [
              "<Figure size 1200x600 with 2 Axes>"
            ],
            "image/png": "[encoded data removed]"
          },
          "metadata": {}
        }
      ],
      "source": [
        "plot_result(\n",
        "    num_epochs,\n",
        "    metrics[\"train_accuracy\"],\n",
        "    metrics[\"valid_accuracy\"],\n",
        "    metrics[\"train_loss\"],\n",
        "    metrics[\"valid_loss\"]\n",
        ")"
      ]
    },
    {
      "cell_type": "code",
      "execution_count": 32,
      "metadata": {
        "colab": {
          "base_uri": "https://localhost:8080/"
        },
        "id": "ypREQ2FiJE1x",
        "outputId": "6b4b5646-c137-4217-c52d-0a95973dcaf1"
      },
      "outputs": [
        {
          "output_type": "execute_result",
          "data": {
            "text/plain": [
              "(0.8227, 1.0685946564131146)"
            ]
          },
          "metadata": {},
          "execution_count": 32
        }
      ],
      "source": [
        "test_acc, test_loss = evaluate_epoch(model, criterion, test_dataloader, device)\n",
        "test_acc, test_loss"
      ]
    }
  ],
  "metadata": {
    "colab": {
      "provenance": [],
      "gpuType": "T4"
    },
    "kernelspec": {
      "display_name": "Python 3",
      "name": "python3"
    },
    "language_info": {
      "name": "python"
    },
    "accelerator": "GPU"
  },
  "nbformat": 4,
  "nbformat_minor": 0
}
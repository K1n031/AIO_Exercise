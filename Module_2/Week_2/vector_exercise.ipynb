{
  "cells": [
    {
      "cell_type": "markdown",
      "metadata": {
        "id": "NJ6P5A8Nom8g"
      },
      "source": [
        "# 1. Các phép toán trên vector và ma trận.\n",
        "\n",
        "## (a) Độ dài của vector:\n",
        "\n",
        "### 1.1 Length of a vector\n",
        "\n",
        "- **Vector**: $\\mathbf{v} = [v_1, v_2, ..., v_n]^T$\n",
        "- **Length of a vector**: $\\|\\mathbf{v}\\| = \\sqrt{v_1^2 + v_2^2 + ... + v_n^2}$\n",
        "\n",
        "Hãy hoàn thiện hàm `compute_vector_length()` để tính độ dài của vector sử dụng thư viện numpy:\n",
        "\n"
      ]
    },
    {
      "cell_type": "code",
      "execution_count": 1,
      "metadata": {
        "id": "ge_sQuE3nFvA"
      },
      "outputs": [],
      "source": [
        "import numpy as np\n",
        "\n",
        "def compute_vector_length(vector):\n",
        "    # *********** Your code here ***********\n",
        "    v = np.array(vector)\n",
        "    len_of_vector = np.linalg.norm(v)\n",
        "\n",
        "    return len_of_vector"
      ]
    },
    {
      "cell_type": "code",
      "execution_count": 2,
      "metadata": {
        "colab": {
          "base_uri": "https://localhost:8080/"
        },
        "id": "cHu5c7pJxtLF",
        "outputId": "dc77e65d-2875-4f48-b237-6614293128c4"
      },
      "outputs": [
        {
          "data": {
            "text/plain": [
              "3.7416573867739413"
            ]
          },
          "execution_count": 2,
          "metadata": {},
          "output_type": "execute_result"
        }
      ],
      "source": [
        "v = [1, 2, 3]\n",
        "compute_vector_length(v)"
      ]
    },
    {
      "cell_type": "markdown",
      "metadata": {
        "id": "jzbHO6UPrr7y"
      },
      "source": [
        "## (b) Phép tích vô hướng:\n",
        "\n",
        "### 1.2 Dot product\n",
        "\n",
        "- **Vector**: $\\mathbf{v} = \\begin{bmatrix} v_1 \\\\ v_2 \\\\ \\vdots \\\\ v_n \\end{bmatrix}$, $\\mathbf{u} = \\begin{bmatrix} u_1 \\\\ u_2 \\\\ \\vdots \\\\ u_n \\end{bmatrix}$\n",
        "\n",
        "- **Dot Product**: $\\mathbf{v} \\cdot \\mathbf{u} = v_1 \\cdot u_1 + v_2 \\cdot u_2 + \\ldots + v_n \\cdot u_n$\n",
        "\n",
        "Hãy hoàn thiện hàm `compute_dot_product()` sử dụng thư viện numpy:\n"
      ]
    },
    {
      "cell_type": "code",
      "execution_count": 3,
      "metadata": {
        "id": "zGib-XufrrN3"
      },
      "outputs": [],
      "source": [
        "def compute_dot_product(vector1, vector2):\n",
        "    # *********** Your code here ***********\n",
        "    v1 = np.array(vector1)\n",
        "    v2 = np.array(vector2)\n",
        "    result = np.dot(v1, v2)\n",
        "\n",
        "    return result"
      ]
    },
    {
      "cell_type": "code",
      "execution_count": 4,
      "metadata": {
        "colab": {
          "base_uri": "https://localhost:8080/"
        },
        "id": "L1sChycyxxl9",
        "outputId": "7a1436a3-dfd0-424f-d29f-823823785255"
      },
      "outputs": [
        {
          "data": {
            "text/plain": [
              "32"
            ]
          },
          "execution_count": 4,
          "metadata": {},
          "output_type": "execute_result"
        }
      ],
      "source": [
        "v1 = [1, 2, 3]\n",
        "v2 = [4, 5, 6]\n",
        "compute_dot_product(v1, v2)"
      ]
    },
    {
      "cell_type": "markdown",
      "metadata": {
        "id": "R399bwP4vN3T"
      },
      "source": [
        "## (c) Nhân vector với ma trận:\n",
        "\n",
        "### 1.3 Multiplying a vector by a matrix\n",
        "\n",
        "- **Matrix**: $\\mathbf{A} = \\begin{bmatrix}\n",
        "a_{11} & \\cdots & a_{1n} \\\\\n",
        "\\vdots & \\ddots & \\vdots \\\\\n",
        "a_{m1} & \\cdots & a_{mn}\n",
        "\\end{bmatrix}$, $\\mathbf{A} \\in \\mathbb{R}^{m \\times n}$\n",
        "\n",
        "- **Vector**: $\\mathbf{v} = \\begin{bmatrix}\n",
        "v_1 \\\\\n",
        "v_2 \\\\\n",
        "\\vdots \\\\\n",
        "v_n\n",
        "\\end{bmatrix}$, $\\mathbf{v} \\in \\mathbb{R}^n$\n",
        "\n",
        "- **Result**: $\\mathbf{c} = \\mathbf{A} \\mathbf{v} = \\begin{bmatrix}\n",
        "a_{11} \\cdot v_1 + \\ldots + a_{1n} \\cdot v_n \\\\\n",
        "\\vdots \\\\\n",
        "a_{m1} \\cdot v_1 + \\ldots + a_{mn} \\cdot v_n\n",
        "\\end{bmatrix}$, $\\mathbf{c} \\in \\mathbb{R}^m$\n",
        "\n",
        "Hãy hoàn thiện hàm `matrix_multi_vector()` sử dụng thư viện numpy:"
      ]
    },
    {
      "cell_type": "code",
      "execution_count": 5,
      "metadata": {
        "id": "ryol2m5OvQrf"
      },
      "outputs": [],
      "source": [
        "def matrix_multi_vector(matrix, vector):\n",
        "    # *********** Your code here ***********\n",
        "    A = np.array(matrix)\n",
        "    v = np.array(vector)\n",
        "    result = np.dot(A, v)\n",
        "\n",
        "    return result"
      ]
    },
    {
      "cell_type": "code",
      "execution_count": 6,
      "metadata": {
        "colab": {
          "base_uri": "https://localhost:8080/"
        },
        "id": "rYl5ZUJcx3TO",
        "outputId": "051097f1-56c8-4743-85f4-d7d231cc06b2"
      },
      "outputs": [
        {
          "data": {
            "text/plain": [
              "array([23, 53, 83])"
            ]
          },
          "execution_count": 6,
          "metadata": {},
          "output_type": "execute_result"
        }
      ],
      "source": [
        "A = [[1, 2], [3, 4], [5, 6]]\n",
        "v = [7, 8]\n",
        "matrix_multi_vector(A, v)"
      ]
    },
    {
      "cell_type": "markdown",
      "metadata": {
        "id": "fFpbEuCewhLM"
      },
      "source": [
        "## (d) Nhân ma trận với ma trận:\n",
        "\n",
        "### 1.4 Multiplying a matrix by a matrix\n",
        "\n",
        "- **Matrix A**: $\\mathbf{A} = \\begin{bmatrix}\n",
        "a_{11} & \\cdots & a_{1n} \\\\\n",
        "\\vdots & \\ddots & \\vdots \\\\\n",
        "a_{m1} & \\cdots & a_{mn}\n",
        "\\end{bmatrix}$, $\\mathbf{A} \\in \\mathbb{R}^{m \\times n}$\n",
        "\n",
        "- **Matrix B**: $\\mathbf{B} = \\begin{bmatrix}\n",
        "b_{11} & \\cdots & b_{1k} \\\\\n",
        "\\vdots & \\ddots & \\vdots \\\\\n",
        "b_{n1} & \\cdots & b_{nk}\n",
        "\\end{bmatrix}$, $\\mathbf{B} \\in \\mathbb{R}^{n \\times k}$\n",
        "\n",
        "- **Result**: $\\mathbf{C} = \\mathbf{A} \\mathbf{B} = \\begin{bmatrix}\n",
        "a_{11} \\cdot b_{11} + \\ldots + a_{1n} \\cdot b_{n1} & \\cdots & a_{11} \\cdot b_{1k} + \\ldots + a_{1n} \\cdot b_{nk} \\\\\n",
        "\\vdots & \\ddots & \\vdots \\\\\n",
        "a_{m1} \\cdot b_{11} + \\ldots + a_{mn} \\cdot b_{n1} & \\cdots & a_{m1} \\cdot b_{1k} + \\ldots + a_{mn} \\cdot b_{nk}\n",
        "\\end{bmatrix}$, $\\mathbf{C} \\in \\mathbb{R}^{m \\times k}$\n",
        "\n",
        "Hãy hoàn thiện hàm `matrix_multi_matrix()` sử dụng thư viện numpy:"
      ]
    },
    {
      "cell_type": "code",
      "execution_count": 7,
      "metadata": {
        "id": "fXGzJ0uEw9Jg"
      },
      "outputs": [],
      "source": [
        "import numpy as np\n",
        "\n",
        "def matrix_multi_matrix(matrix1, matrix2):\n",
        "  A = np.array(matrix1)\n",
        "  B = np.array(matrix2)\n",
        "  result = np.matmul(A, B)\n",
        "\n",
        "  return result"
      ]
    },
    {
      "cell_type": "code",
      "execution_count": 8,
      "metadata": {
        "colab": {
          "base_uri": "https://localhost:8080/"
        },
        "id": "QcoyBDk9yLCd",
        "outputId": "590b54eb-1701-48a7-db6e-9ba8f12cb66e"
      },
      "outputs": [
        {
          "data": {
            "text/plain": [
              "array([[ 27,  30,  33],\n",
              "       [ 61,  68,  75],\n",
              "       [ 95, 106, 117]])"
            ]
          },
          "execution_count": 8,
          "metadata": {},
          "output_type": "execute_result"
        }
      ],
      "source": [
        "A = [[1, 2], [3, 4], [5, 6]]\n",
        "B = [[7, 8, 9], [10, 11, 12]]\n",
        "matrix_multi_matrix(A, B)"
      ]
    },
    {
      "cell_type": "markdown",
      "metadata": {
        "id": "CC5HF8ZlyOkD"
      },
      "source": [
        "## (e) Ma trận nghịch đảo:\n",
        "\n",
        "### 1.5 Matrix inverse\n",
        "\n",
        "- **Matrix A**: $\\mathbf{A} = \\begin{bmatrix}\n",
        "a & b \\\\\n",
        "c & d\n",
        "\\end{bmatrix}$, $\\mathbf{A} \\in \\mathbb{R}^{2 \\times 2}$\n",
        "\n",
        "- **Determinant of A** $\\in \\mathbb{R}^{2 \\times 2}$: $\\text{det}(\\mathbf{A}) = ad - bc$\n",
        "\n",
        "- **Inverse Matrix**: $\\mathbf{A}^{-1} = \\frac{1}{\\text{det}(\\mathbf{A})} \\begin{bmatrix}\n",
        "d & -b \\\\\n",
        "-c & a\n",
        "\\end{bmatrix}$, nếu $\\text{det}(\\mathbf{A}) \\neq 0$ thì $\\mathbf{A}$ là khả nghịch\n",
        "\n",
        "Cho trước $\\mathbf{A} = \\begin{bmatrix}\n",
        "-2 & 6 \\\\\n",
        "8 & -4\n",
        "\\end{bmatrix}$, tìm $\\mathbf{A}^{-1}$.\n",
        "\n",
        "Dựa vào công thức ở trên, hãy hoàn thiện hàm `inverse_matrix()` sử dụng thư viện numpy:"
      ]
    },
    {
      "cell_type": "code",
      "execution_count": 9,
      "metadata": {
        "id": "2u7gT2UeyhUw"
      },
      "outputs": [],
      "source": [
        "import numpy as np\n",
        "\n",
        "def inverse_matrix(matrix):\n",
        "  A = np.array(matrix)\n",
        "  det = np.linalg.det(A)\n",
        "  if det == 0:\n",
        "    return None\n",
        "  else:\n",
        "    result = np.linalg.inv(A)\n",
        "  return result"
      ]
    },
    {
      "cell_type": "code",
      "execution_count": 10,
      "metadata": {
        "colab": {
          "base_uri": "https://localhost:8080/"
        },
        "id": "nTJDJ4M3y2Oz",
        "outputId": "b08bfa44-3766-4245-851e-0c57fbeb04b3"
      },
      "outputs": [
        {
          "data": {
            "text/plain": [
              "array([[0.1 , 0.15],\n",
              "       [0.2 , 0.05]])"
            ]
          },
          "execution_count": 10,
          "metadata": {},
          "output_type": "execute_result"
        }
      ],
      "source": [
        "A = [[-2, 6], [8, -4]]\n",
        "inverse_matrix(A)"
      ]
    },
    {
      "cell_type": "markdown",
      "metadata": {
        "id": "JUQwdXnszSFb"
      },
      "source": [
        "## 2. Eigenvector và eigenvalues:\n",
        "\n",
        "### 2.1 Eigenvector and eigenvalue\n",
        "\n",
        "- **Matrix A** $\\in \\mathbb{R}^{n \\times n}$, $\\mathbf{I}$ (identity matrix) $\\in \\mathbb{R}^{n \\times n}$, $\\mathbf{v} \\in \\mathbb{R}^n$\n",
        "- **Eigenvalue** ($\\lambda$): $\\text{det}(\\mathbf{A} - \\lambda \\mathbf{I}) = 0$\n",
        "- **Eigenvector** ($\\mathbf{v}$): $\\mathbf{A} \\mathbf{v} = \\lambda \\mathbf{v} \\iff (\\mathbf{A} - \\lambda \\mathbf{I}) \\mathbf{v} = 0$\n",
        "- **Normalize vector**: $\\frac{\\mathbf{v}}{\\|\\mathbf{v}\\|}$, $v_i = \\frac{v_i}{\\sqrt{\\sum_{i=1}^{n} v_i^2}}$\n",
        "\n",
        "Cho trước $\\mathbf{A} = \\begin{bmatrix}\n",
        "0.9 & 0.2 \\\\\n",
        "0.1 & 0.8\n",
        "\\end{bmatrix}$\n",
        "\n",
        "Tìm Eigenvector ($\\mathbf{v}$) đã được normalize và eigenvalue $\\lambda$ của $\\mathbf{A}$.\n",
        "\n",
        "Dựa vào công thức ở trên, hãy hoàn thiện hàm `compute_eigenvalues_eigenvectors()` sử dụng thư viện numpy:"
      ]
    },
    {
      "cell_type": "code",
      "execution_count": 11,
      "metadata": {
        "id": "rOz7SFpsy5Sk"
      },
      "outputs": [],
      "source": [
        "import numpy as np\n",
        "\n",
        "def compute_eigenvalues_eigenvectors(matrix):\n",
        "  A = np.array(matrix)\n",
        "  eigenvalues = np.linalg.eigvals(A)\n",
        "  eigenvectors = np.linalg.eig(A)\n",
        "\n",
        "  return eigenvalues, eigenvectors"
      ]
    },
    {
      "cell_type": "code",
      "execution_count": 12,
      "metadata": {
        "colab": {
          "base_uri": "https://localhost:8080/"
        },
        "id": "P4vj_eB21Bpi",
        "outputId": "5ebf3a72-e201-4863-85eb-1e0e40e22e08"
      },
      "outputs": [
        {
          "data": {
            "text/plain": [
              "(array([1. , 0.7]),\n",
              " EigResult(eigenvalues=array([1. , 0.7]), eigenvectors=array([[ 0.89442719, -0.70710678],\n",
              "        [ 0.4472136 ,  0.70710678]])))"
            ]
          },
          "execution_count": 12,
          "metadata": {},
          "output_type": "execute_result"
        }
      ],
      "source": [
        "A = [[0.9, 0.2], [0.1, 0.8]]\n",
        "compute_eigenvalues_eigenvectors(A)"
      ]
    },
    {
      "cell_type": "markdown",
      "metadata": {
        "id": "jGkZUQ461mkd"
      },
      "source": [
        "## 3. Cosine Similarity:\n",
        "\n",
        "### 3.1 Cosine Similarity\n",
        "\n",
        "- **Data (vector x, y)**: $\\mathbf{x} = \\{x_1, ..., x_N\\}$, $\\mathbf{y} = \\{y_1, ..., y_N\\}$\n",
        "- **Cosine Similarity**: $\\text{cs}(\\mathbf{x}, \\mathbf{y}) = \\frac{\\mathbf{x} \\cdot \\mathbf{y}}{\\|\\mathbf{x}\\| \\|\\mathbf{y}\\|} = \\frac{\\sum_{i=1}^N x_i y_i}{\\sqrt{\\sum_{i=1}^N x_i^2} \\sqrt{\\sum_{i=1}^N y_i^2}}$\n",
        "\n",
        "Cho trước $\\mathbf{x} = \\begin{bmatrix} 1 \\\\ 2 \\\\ 3 \\\\ 4 \\end{bmatrix}$ và $\\mathbf{y} = \\begin{bmatrix} 1 \\\\ 0 \\\\ 1 \\\\ 0 \\end{bmatrix}$, tìm Cosine similarity $\\text{cs}(\\mathbf{x}, \\mathbf{y})$.\n",
        "\n",
        "Dựa vào công thức ở trên, hãy hoàn thiện hàm `compute_cosine()` sử dụng thư viện numpy:"
      ]
    },
    {
      "cell_type": "code",
      "execution_count": 13,
      "metadata": {
        "id": "5mFy_mtx1DRj"
      },
      "outputs": [],
      "source": [
        "def compute_cosine(v1, v2):\n",
        "    # *********** Your code here ***********\n",
        "    x = np.array(v1)\n",
        "    y = np.array(v2)\n",
        "    cos_sim = np.dot(x, y) / np.dot(np.linalg.norm(x), np.linalg.norm(y))\n",
        "\n",
        "    return cos_sim"
      ]
    },
    {
      "cell_type": "code",
      "execution_count": 14,
      "metadata": {
        "colab": {
          "base_uri": "https://localhost:8080/"
        },
        "id": "ZVZmMxo52NnW",
        "outputId": "2f009b1c-60e5-4ca9-8257-5230b77fd888"
      },
      "outputs": [
        {
          "data": {
            "text/plain": [
              "0.5163977794943222"
            ]
          },
          "execution_count": 14,
          "metadata": {},
          "output_type": "execute_result"
        }
      ],
      "source": [
        "x = [1, 2, 3, 4]\n",
        "y = [1, 0, 1, 0]\n",
        "compute_cosine(x, y)"
      ]
    }
  ],
  "metadata": {
    "colab": {
      "provenance": []
    },
    "kernelspec": {
      "display_name": "Python 3",
      "name": "python3"
    },
    "language_info": {
      "codemirror_mode": {
        "name": "ipython",
        "version": 3
      },
      "file_extension": ".py",
      "mimetype": "text/x-python",
      "name": "python",
      "nbconvert_exporter": "python",
      "pygments_lexer": "ipython3",
      "version": "3.11.7"
    }
  },
  "nbformat": 4,
  "nbformat_minor": 0
}

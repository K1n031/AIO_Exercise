{
  "nbformat": 4,
  "nbformat_minor": 0,
  "metadata": {
    "colab": {
      "provenance": []
    },
    "kernelspec": {
      "name": "python3",
      "display_name": "Python 3"
    },
    "language_info": {
      "name": "python"
    }
  },
  "cells": [
    {
      "cell_type": "markdown",
      "source": [
        "## Download dataset"
      ],
      "metadata": {
        "id": "BN6b1fU_qnl_"
      }
    },
    {
      "cell_type": "code",
      "execution_count": 1,
      "metadata": {
        "colab": {
          "base_uri": "https://localhost:8080/"
        },
        "id": "T00Nco5OqFDG",
        "outputId": "cb48adfa-e302-4bb6-b25b-8eb5b895df62"
      },
      "outputs": [
        {
          "output_type": "stream",
          "name": "stdout",
          "text": [
            "Downloading...\n",
            "From: https://drive.google.com/uc?id=1dSiUf-a7m34gUl3LLPmKDS6-v5sRBUZ0\n",
            "To: /content/advertising.csv\n",
            "\r  0% 0.00/4.06k [00:00<?, ?B/s]\r100% 4.06k/4.06k [00:00<00:00, 10.9MB/s]\n"
          ]
        }
      ],
      "source": [
        "!gdown 1dSiUf-a7m34gUl3LLPmKDS6-v5sRBUZ0"
      ]
    },
    {
      "cell_type": "code",
      "source": [
        "import pandas as pd\n",
        "df = pd.read_csv('./advertising.csv')\n",
        "df.head()"
      ],
      "metadata": {
        "colab": {
          "base_uri": "https://localhost:8080/",
          "height": 206
        },
        "id": "277tQcM_qy8S",
        "outputId": "d63cccb8-22f0-410d-ec75-d2087ccced9a"
      },
      "execution_count": 2,
      "outputs": [
        {
          "output_type": "execute_result",
          "data": {
            "text/plain": [
              "      TV  Radio  Newspaper  Sales\n",
              "0  230.1   37.8       69.2   22.1\n",
              "1   44.5   39.3       45.1   10.4\n",
              "2   17.2   45.9       69.3   12.0\n",
              "3  151.5   41.3       58.5   16.5\n",
              "4  180.8   10.8       58.4   17.9"
            ],
            "text/html": [
              "\n",
              "  <div id=\"df-0423bb95-5f3b-4b7e-9f0a-31076e44143a\" class=\"colab-df-container\">\n",
              "    <div>\n",
              "<style scoped>\n",
              "    .dataframe tbody tr th:only-of-type {\n",
              "        vertical-align: middle;\n",
              "    }\n",
              "\n",
              "    .dataframe tbody tr th {\n",
              "        vertical-align: top;\n",
              "    }\n",
              "\n",
              "    .dataframe thead th {\n",
              "        text-align: right;\n",
              "    }\n",
              "</style>\n",
              "<table border=\"1\" class=\"dataframe\">\n",
              "  <thead>\n",
              "    <tr style=\"text-align: right;\">\n",
              "      <th></th>\n",
              "      <th>TV</th>\n",
              "      <th>Radio</th>\n",
              "      <th>Newspaper</th>\n",
              "      <th>Sales</th>\n",
              "    </tr>\n",
              "  </thead>\n",
              "  <tbody>\n",
              "    <tr>\n",
              "      <th>0</th>\n",
              "      <td>230.1</td>\n",
              "      <td>37.8</td>\n",
              "      <td>69.2</td>\n",
              "      <td>22.1</td>\n",
              "    </tr>\n",
              "    <tr>\n",
              "      <th>1</th>\n",
              "      <td>44.5</td>\n",
              "      <td>39.3</td>\n",
              "      <td>45.1</td>\n",
              "      <td>10.4</td>\n",
              "    </tr>\n",
              "    <tr>\n",
              "      <th>2</th>\n",
              "      <td>17.2</td>\n",
              "      <td>45.9</td>\n",
              "      <td>69.3</td>\n",
              "      <td>12.0</td>\n",
              "    </tr>\n",
              "    <tr>\n",
              "      <th>3</th>\n",
              "      <td>151.5</td>\n",
              "      <td>41.3</td>\n",
              "      <td>58.5</td>\n",
              "      <td>16.5</td>\n",
              "    </tr>\n",
              "    <tr>\n",
              "      <th>4</th>\n",
              "      <td>180.8</td>\n",
              "      <td>10.8</td>\n",
              "      <td>58.4</td>\n",
              "      <td>17.9</td>\n",
              "    </tr>\n",
              "  </tbody>\n",
              "</table>\n",
              "</div>\n",
              "    <div class=\"colab-df-buttons\">\n",
              "\n",
              "  <div class=\"colab-df-container\">\n",
              "    <button class=\"colab-df-convert\" onclick=\"convertToInteractive('df-0423bb95-5f3b-4b7e-9f0a-31076e44143a')\"\n",
              "            title=\"Convert this dataframe to an interactive table.\"\n",
              "            style=\"display:none;\">\n",
              "\n",
              "  <svg xmlns=\"http://www.w3.org/2000/svg\" height=\"24px\" viewBox=\"0 -960 960 960\">\n",
              "    <path d=\"M120-120v-720h720v720H120Zm60-500h600v-160H180v160Zm220 220h160v-160H400v160Zm0 220h160v-160H400v160ZM180-400h160v-160H180v160Zm440 0h160v-160H620v160ZM180-180h160v-160H180v160Zm440 0h160v-160H620v160Z\"/>\n",
              "  </svg>\n",
              "    </button>\n",
              "\n",
              "  <style>\n",
              "    .colab-df-container {\n",
              "      display:flex;\n",
              "      gap: 12px;\n",
              "    }\n",
              "\n",
              "    .colab-df-convert {\n",
              "      background-color: #E8F0FE;\n",
              "      border: none;\n",
              "      border-radius: 50%;\n",
              "      cursor: pointer;\n",
              "      display: none;\n",
              "      fill: #1967D2;\n",
              "      height: 32px;\n",
              "      padding: 0 0 0 0;\n",
              "      width: 32px;\n",
              "    }\n",
              "\n",
              "    .colab-df-convert:hover {\n",
              "      background-color: #E2EBFA;\n",
              "      box-shadow: 0px 1px 2px rgba(60, 64, 67, 0.3), 0px 1px 3px 1px rgba(60, 64, 67, 0.15);\n",
              "      fill: #174EA6;\n",
              "    }\n",
              "\n",
              "    .colab-df-buttons div {\n",
              "      margin-bottom: 4px;\n",
              "    }\n",
              "\n",
              "    [theme=dark] .colab-df-convert {\n",
              "      background-color: #3B4455;\n",
              "      fill: #D2E3FC;\n",
              "    }\n",
              "\n",
              "    [theme=dark] .colab-df-convert:hover {\n",
              "      background-color: #434B5C;\n",
              "      box-shadow: 0px 1px 3px 1px rgba(0, 0, 0, 0.15);\n",
              "      filter: drop-shadow(0px 1px 2px rgba(0, 0, 0, 0.3));\n",
              "      fill: #FFFFFF;\n",
              "    }\n",
              "  </style>\n",
              "\n",
              "    <script>\n",
              "      const buttonEl =\n",
              "        document.querySelector('#df-0423bb95-5f3b-4b7e-9f0a-31076e44143a button.colab-df-convert');\n",
              "      buttonEl.style.display =\n",
              "        google.colab.kernel.accessAllowed ? 'block' : 'none';\n",
              "\n",
              "      async function convertToInteractive(key) {\n",
              "        const element = document.querySelector('#df-0423bb95-5f3b-4b7e-9f0a-31076e44143a');\n",
              "        const dataTable =\n",
              "          await google.colab.kernel.invokeFunction('convertToInteractive',\n",
              "                                                    [key], {});\n",
              "        if (!dataTable) return;\n",
              "\n",
              "        const docLinkHtml = 'Like what you see? Visit the ' +\n",
              "          '<a target=\"_blank\" href=https://colab.research.google.com/notebooks/data_table.ipynb>data table notebook</a>'\n",
              "          + ' to learn more about interactive tables.';\n",
              "        element.innerHTML = '';\n",
              "        dataTable['output_type'] = 'display_data';\n",
              "        await google.colab.output.renderOutput(dataTable, element);\n",
              "        const docLink = document.createElement('div');\n",
              "        docLink.innerHTML = docLinkHtml;\n",
              "        element.appendChild(docLink);\n",
              "      }\n",
              "    </script>\n",
              "  </div>\n",
              "\n",
              "\n",
              "<div id=\"df-59679dde-c7af-4969-af39-b2da29c6f974\">\n",
              "  <button class=\"colab-df-quickchart\" onclick=\"quickchart('df-59679dde-c7af-4969-af39-b2da29c6f974')\"\n",
              "            title=\"Suggest charts\"\n",
              "            style=\"display:none;\">\n",
              "\n",
              "<svg xmlns=\"http://www.w3.org/2000/svg\" height=\"24px\"viewBox=\"0 0 24 24\"\n",
              "     width=\"24px\">\n",
              "    <g>\n",
              "        <path d=\"M19 3H5c-1.1 0-2 .9-2 2v14c0 1.1.9 2 2 2h14c1.1 0 2-.9 2-2V5c0-1.1-.9-2-2-2zM9 17H7v-7h2v7zm4 0h-2V7h2v10zm4 0h-2v-4h2v4z\"/>\n",
              "    </g>\n",
              "</svg>\n",
              "  </button>\n",
              "\n",
              "<style>\n",
              "  .colab-df-quickchart {\n",
              "      --bg-color: #E8F0FE;\n",
              "      --fill-color: #1967D2;\n",
              "      --hover-bg-color: #E2EBFA;\n",
              "      --hover-fill-color: #174EA6;\n",
              "      --disabled-fill-color: #AAA;\n",
              "      --disabled-bg-color: #DDD;\n",
              "  }\n",
              "\n",
              "  [theme=dark] .colab-df-quickchart {\n",
              "      --bg-color: #3B4455;\n",
              "      --fill-color: #D2E3FC;\n",
              "      --hover-bg-color: #434B5C;\n",
              "      --hover-fill-color: #FFFFFF;\n",
              "      --disabled-bg-color: #3B4455;\n",
              "      --disabled-fill-color: #666;\n",
              "  }\n",
              "\n",
              "  .colab-df-quickchart {\n",
              "    background-color: var(--bg-color);\n",
              "    border: none;\n",
              "    border-radius: 50%;\n",
              "    cursor: pointer;\n",
              "    display: none;\n",
              "    fill: var(--fill-color);\n",
              "    height: 32px;\n",
              "    padding: 0;\n",
              "    width: 32px;\n",
              "  }\n",
              "\n",
              "  .colab-df-quickchart:hover {\n",
              "    background-color: var(--hover-bg-color);\n",
              "    box-shadow: 0 1px 2px rgba(60, 64, 67, 0.3), 0 1px 3px 1px rgba(60, 64, 67, 0.15);\n",
              "    fill: var(--button-hover-fill-color);\n",
              "  }\n",
              "\n",
              "  .colab-df-quickchart-complete:disabled,\n",
              "  .colab-df-quickchart-complete:disabled:hover {\n",
              "    background-color: var(--disabled-bg-color);\n",
              "    fill: var(--disabled-fill-color);\n",
              "    box-shadow: none;\n",
              "  }\n",
              "\n",
              "  .colab-df-spinner {\n",
              "    border: 2px solid var(--fill-color);\n",
              "    border-color: transparent;\n",
              "    border-bottom-color: var(--fill-color);\n",
              "    animation:\n",
              "      spin 1s steps(1) infinite;\n",
              "  }\n",
              "\n",
              "  @keyframes spin {\n",
              "    0% {\n",
              "      border-color: transparent;\n",
              "      border-bottom-color: var(--fill-color);\n",
              "      border-left-color: var(--fill-color);\n",
              "    }\n",
              "    20% {\n",
              "      border-color: transparent;\n",
              "      border-left-color: var(--fill-color);\n",
              "      border-top-color: var(--fill-color);\n",
              "    }\n",
              "    30% {\n",
              "      border-color: transparent;\n",
              "      border-left-color: var(--fill-color);\n",
              "      border-top-color: var(--fill-color);\n",
              "      border-right-color: var(--fill-color);\n",
              "    }\n",
              "    40% {\n",
              "      border-color: transparent;\n",
              "      border-right-color: var(--fill-color);\n",
              "      border-top-color: var(--fill-color);\n",
              "    }\n",
              "    60% {\n",
              "      border-color: transparent;\n",
              "      border-right-color: var(--fill-color);\n",
              "    }\n",
              "    80% {\n",
              "      border-color: transparent;\n",
              "      border-right-color: var(--fill-color);\n",
              "      border-bottom-color: var(--fill-color);\n",
              "    }\n",
              "    90% {\n",
              "      border-color: transparent;\n",
              "      border-bottom-color: var(--fill-color);\n",
              "    }\n",
              "  }\n",
              "</style>\n",
              "\n",
              "  <script>\n",
              "    async function quickchart(key) {\n",
              "      const quickchartButtonEl =\n",
              "        document.querySelector('#' + key + ' button');\n",
              "      quickchartButtonEl.disabled = true;  // To prevent multiple clicks.\n",
              "      quickchartButtonEl.classList.add('colab-df-spinner');\n",
              "      try {\n",
              "        const charts = await google.colab.kernel.invokeFunction(\n",
              "            'suggestCharts', [key], {});\n",
              "      } catch (error) {\n",
              "        console.error('Error during call to suggestCharts:', error);\n",
              "      }\n",
              "      quickchartButtonEl.classList.remove('colab-df-spinner');\n",
              "      quickchartButtonEl.classList.add('colab-df-quickchart-complete');\n",
              "    }\n",
              "    (() => {\n",
              "      let quickchartButtonEl =\n",
              "        document.querySelector('#df-59679dde-c7af-4969-af39-b2da29c6f974 button');\n",
              "      quickchartButtonEl.style.display =\n",
              "        google.colab.kernel.accessAllowed ? 'block' : 'none';\n",
              "    })();\n",
              "  </script>\n",
              "</div>\n",
              "\n",
              "    </div>\n",
              "  </div>\n"
            ],
            "application/vnd.google.colaboratory.intrinsic+json": {
              "type": "dataframe",
              "variable_name": "df",
              "summary": "{\n  \"name\": \"df\",\n  \"rows\": 200,\n  \"fields\": [\n    {\n      \"column\": \"TV\",\n      \"properties\": {\n        \"dtype\": \"number\",\n        \"std\": 85.8542363149081,\n        \"min\": 0.7,\n        \"max\": 296.4,\n        \"num_unique_values\": 190,\n        \"samples\": [\n          287.6,\n          286.0,\n          78.2\n        ],\n        \"semantic_type\": \"\",\n        \"description\": \"\"\n      }\n    },\n    {\n      \"column\": \"Radio\",\n      \"properties\": {\n        \"dtype\": \"number\",\n        \"std\": 14.846809176168723,\n        \"min\": 0.0,\n        \"max\": 49.6,\n        \"num_unique_values\": 167,\n        \"samples\": [\n          8.2,\n          36.9,\n          44.5\n        ],\n        \"semantic_type\": \"\",\n        \"description\": \"\"\n      }\n    },\n    {\n      \"column\": \"Newspaper\",\n      \"properties\": {\n        \"dtype\": \"number\",\n        \"std\": 21.778620838522833,\n        \"min\": 0.3,\n        \"max\": 114.0,\n        \"num_unique_values\": 172,\n        \"samples\": [\n          22.3,\n          5.7,\n          17.0\n        ],\n        \"semantic_type\": \"\",\n        \"description\": \"\"\n      }\n    },\n    {\n      \"column\": \"Sales\",\n      \"properties\": {\n        \"dtype\": \"number\",\n        \"std\": 5.283892252561874,\n        \"min\": 1.6,\n        \"max\": 27.0,\n        \"num_unique_values\": 121,\n        \"samples\": [\n          19.8,\n          22.6,\n          17.9\n        ],\n        \"semantic_type\": \"\",\n        \"description\": \"\"\n      }\n    }\n  ]\n}"
            }
          },
          "metadata": {},
          "execution_count": 2
        }
      ]
    },
    {
      "cell_type": "markdown",
      "source": [
        "## Task 1: Finishing load_data_from_file() function"
      ],
      "metadata": {
        "id": "zXMZM5Qtsfxu"
      }
    },
    {
      "cell_type": "code",
      "source": [
        "from ast import increment_lineno\n",
        "import numpy as np\n",
        "import matplotlib.pyplot as plt\n",
        "import random\n",
        "\n",
        "random.seed(0)\n",
        "%matplotlib inline\n",
        "\n",
        "def load_data_from_file(fileName = 'advertising.csv'):\n",
        "  data = np.genfromtxt(fileName, dtype=None, delimiter=',', skip_header=1)\n",
        "  features_X = data[:, :3]\n",
        "  sales_Y = data[:, 3]\n",
        "  features_X = np.c_[np.ones(len(features_X)), features_X]\n",
        "\n",
        "  return features_X, sales_Y"
      ],
      "metadata": {
        "id": "OEGeR01qsBz3"
      },
      "execution_count": 3,
      "outputs": []
    },
    {
      "cell_type": "code",
      "source": [
        "features_X, _ = load_data_from_file()\n",
        "print(features_X[:5 ,:])"
      ],
      "metadata": {
        "colab": {
          "base_uri": "https://localhost:8080/"
        },
        "id": "JRiayFQAtnvr",
        "outputId": "28976a4c-a515-4a0f-f8a0-dab1622c9b93"
      },
      "execution_count": 4,
      "outputs": [
        {
          "output_type": "stream",
          "name": "stdout",
          "text": [
            "[[  1.  230.1  37.8  69.2]\n",
            " [  1.   44.5  39.3  45.1]\n",
            " [  1.   17.2  45.9  69.3]\n",
            " [  1.  151.5  41.3  58.5]\n",
            " [  1.  180.8  10.8  58.4]]\n"
          ]
        }
      ]
    },
    {
      "cell_type": "code",
      "source": [
        "_, sales_Y = load_data_from_file()\n",
        "print(sales_Y.shape)"
      ],
      "metadata": {
        "colab": {
          "base_uri": "https://localhost:8080/"
        },
        "id": "mo2UzzeuvFyT",
        "outputId": "d8eabb50-907d-44c9-876b-a913233ce0a7"
      },
      "execution_count": 5,
      "outputs": [
        {
          "output_type": "stream",
          "name": "stdout",
          "text": [
            "(200,)\n"
          ]
        }
      ]
    },
    {
      "cell_type": "markdown",
      "source": [
        "## Task 2: initializing value for each gene in chromosome (individual)"
      ],
      "metadata": {
        "id": "G6sJkPO_vb8b"
      }
    },
    {
      "cell_type": "code",
      "source": [
        "def generate_random_value(bound = 10):\n",
        "    return (random.random() - 0.5)*bound"
      ],
      "metadata": {
        "id": "vN7ZKKNs7e1q"
      },
      "execution_count": 6,
      "outputs": []
    },
    {
      "cell_type": "code",
      "source": [
        "def create_individual(n=4, bound=10):\n",
        "  individual = []\n",
        "  for _ in range(n):\n",
        "    individual.append(generate_random_value(bound))\n",
        "  return individual\n",
        "\n",
        "individual = create_individual()\n",
        "print(individual)"
      ],
      "metadata": {
        "colab": {
          "base_uri": "https://localhost:8080/"
        },
        "id": "xw8gl3a8vSPi",
        "outputId": "97f9b491-bd5d-4894-f6a0-fc51a7a2752e"
      },
      "execution_count": 7,
      "outputs": [
        {
          "output_type": "stream",
          "name": "stdout",
          "text": [
            "[3.444218515250481, 2.5795440294030247, -0.79428419169155, -2.4108324970703663]\n"
          ]
        }
      ]
    },
    {
      "cell_type": "markdown",
      "source": [
        "## Task 3: Bulding fitness function to evaluate fitness score for each chromosome"
      ],
      "metadata": {
        "id": "dJc2sr3ZwjCw"
      }
    },
    {
      "cell_type": "code",
      "source": [
        "features_X, sales_Y = load_data_from_file()\n",
        "\n",
        "def compute_loss(individual):\n",
        "  theta = np.array(individual).reshape(-1)\n",
        "  y_hat = features_X.dot(theta)\n",
        "  loss = np.multiply((y_hat - sales_Y), (y_hat - sales_Y)).mean()\n",
        "\n",
        "  return loss\n",
        "\n",
        "def compute_fitness(individual):\n",
        "  loss = compute_loss(individual)\n",
        "  fitness_value = 1 / (1 + loss)\n",
        "\n",
        "  return fitness_value"
      ],
      "metadata": {
        "id": "D4b1xcVHwiDI"
      },
      "execution_count": 8,
      "outputs": []
    },
    {
      "cell_type": "code",
      "source": [
        "features_X, sales_Y = load_data_from_file()\n",
        "individual = [4.09, 4.82, 3.10, 4.02]\n",
        "fitness_score = compute_fitness(individual)\n",
        "print(fitness_score)"
      ],
      "metadata": {
        "colab": {
          "base_uri": "https://localhost:8080/"
        },
        "id": "whhPFA7GxwWk",
        "outputId": "aa1c3189-ec51-440f-edf6-068ece514805"
      },
      "execution_count": 9,
      "outputs": [
        {
          "output_type": "stream",
          "name": "stdout",
          "text": [
            "1.0185991537088997e-06\n"
          ]
        }
      ]
    },
    {
      "cell_type": "markdown",
      "source": [
        "## Task 4: Crossover between 2 chromosomes"
      ],
      "metadata": {
        "id": "Rxv01SuMyF8i"
      }
    },
    {
      "cell_type": "code",
      "source": [
        "def crossover(individual1, individual2, crossover_rate=0.9):\n",
        "  individual1_new = individual1.copy()\n",
        "  individual2_new = individual2.copy()\n",
        "\n",
        "  if random.random() < crossover_rate:\n",
        "      point = random.randint(1, len(individual1) - 1)\n",
        "      individual1_new = individual1[:point] + individual2[point:]\n",
        "      individual2_new = individual2[:point] + individual1[point:]\n",
        "  else:\n",
        "      individual1_new, individual2_new = individual1, individual2\n",
        "  return individual1_new, individual2_new"
      ],
      "metadata": {
        "id": "D23MkOy3yaaE"
      },
      "execution_count": 10,
      "outputs": []
    },
    {
      "cell_type": "code",
      "source": [
        "individual1 = [4.09, 4.82, 3.10, 4.02]\n",
        "individual2 = [3.44, 2.57, -0.79, -2.41]\n",
        "\n",
        "individual1, individual2 = crossover(individual1, individual2, 2.0)\n",
        "print(f\"Individual 1: \", individual1)\n",
        "print(f\"Individual 2: \", individual2)"
      ],
      "metadata": {
        "colab": {
          "base_uri": "https://localhost:8080/"
        },
        "id": "TANNU-NYzMmy",
        "outputId": "29e7111a-9ceb-4c59-dbfa-23ce34d25aa3"
      },
      "execution_count": 11,
      "outputs": [
        {
          "output_type": "stream",
          "name": "stdout",
          "text": [
            "Individual 1:  [4.09, 4.82, -0.79, -2.41]\n",
            "Individual 2:  [3.44, 2.57, 3.1, 4.02]\n"
          ]
        }
      ]
    },
    {
      "cell_type": "markdown",
      "source": [
        "## Task 5: Mutation on chromosome"
      ],
      "metadata": {
        "id": "XCc2XrIS0jGN"
      }
    },
    {
      "cell_type": "code",
      "source": [
        "def mutate(indivitual, mutation_rate=0.05):\n",
        "  individual_m = individual.copy()\n",
        "  for i in range(len(individual)):\n",
        "    if random.random() < mutation_rate:\n",
        "      individual_m[i] += generate_random_value()\n",
        "\n",
        "  return individual_m"
      ],
      "metadata": {
        "id": "9l1R0xZV0gk0"
      },
      "execution_count": 12,
      "outputs": []
    },
    {
      "cell_type": "code",
      "source": [
        "before_individual = [4.09, 4.82, 3.10, 4.02]\n",
        "after_individual = mutate(individual, mutation_rate=2.0)\n",
        "print(before_individual == after_individual)"
      ],
      "metadata": {
        "colab": {
          "base_uri": "https://localhost:8080/"
        },
        "id": "3xGCJXzp0w2g",
        "outputId": "c04bbdff-40ac-4c4a-be4d-1db364810e62"
      },
      "execution_count": 13,
      "outputs": [
        {
          "output_type": "stream",
          "name": "stdout",
          "text": [
            "False\n"
          ]
        }
      ]
    },
    {
      "cell_type": "code",
      "source": [
        "def initializePopulation(m):\n",
        "  population = [create_individual() for _ in range(m)]\n",
        "  return population"
      ],
      "metadata": {
        "id": "Z4Pt78b44ho0"
      },
      "execution_count": 14,
      "outputs": []
    },
    {
      "cell_type": "code",
      "source": [
        "population = initializePopulation(100)\n",
        "print(len(population))"
      ],
      "metadata": {
        "colab": {
          "base_uri": "https://localhost:8080/"
        },
        "id": "CF00BJoK8zw9",
        "outputId": "7b96acc2-85f0-48ab-9dd6-966febc03a2b"
      },
      "execution_count": 15,
      "outputs": [
        {
          "output_type": "stream",
          "name": "stdout",
          "text": [
            "100\n"
          ]
        }
      ]
    },
    {
      "cell_type": "code",
      "source": [
        "def selection(sorted_old_population, m):\n",
        "    index1 = random.randint(0, m-1)\n",
        "    while True:\n",
        "        index2 = random.randint(0, m-1)\n",
        "        if (index2 != index1):\n",
        "            break\n",
        "\n",
        "    individual_s = sorted_old_population[index1]\n",
        "    if index2 > index1:\n",
        "        individual_s = sorted_old_population[index2]\n",
        "\n",
        "    return individual_s"
      ],
      "metadata": {
        "id": "TI0FhrCO1RC2"
      },
      "execution_count": 16,
      "outputs": []
    },
    {
      "cell_type": "code",
      "source": [
        "population = initializePopulation(m=100)\n",
        "individual_s = selection(population, m = 100)\n",
        "print(individual_s)"
      ],
      "metadata": {
        "colab": {
          "base_uri": "https://localhost:8080/"
        },
        "id": "50By5cbt8Qw0",
        "outputId": "10d46218-3521-4e13-83b4-8d8f4c323d81"
      },
      "execution_count": 17,
      "outputs": [
        {
          "output_type": "stream",
          "name": "stdout",
          "text": [
            "[-0.6180140340724194, 4.171481192782721, -0.8787980691423014, -0.06418023552658636]\n"
          ]
        }
      ]
    },
    {
      "cell_type": "code",
      "source": [
        "def create_new_population(old_population, elitism=2, gen=1):\n",
        "  m = len(old_population)\n",
        "  sorted_population = sorted(old_population, key=compute_fitness)\n",
        "\n",
        "  if gen%1 == 0:\n",
        "    print(f'Best loss: {compute_loss(sorted_population[m-1])}, with chromosome: {sorted_population[m-1]}')\n",
        "\n",
        "    new_population = []\n",
        "  while len(new_population) < m - elitism:\n",
        "      # Selection\n",
        "      individual1 = selection(sorted_population, m)\n",
        "      individual2 = selection(sorted_population, m)\n",
        "\n",
        "      # Crossover\n",
        "      individual1, individual2 = crossover(individual1, individual2)\n",
        "\n",
        "      # Mutation\n",
        "      individual1 = mutate(individual1)\n",
        "      individual2 = mutate(individual2)\n",
        "\n",
        "      new_population.append(individual1)\n",
        "      new_population.append(individual2)\n",
        "\n",
        "  # copy elitism chromosomes that have best fitness score to the next generation:\n",
        "  for ind in sorted_population[m - elitism:]:\n",
        "      new_population.append(ind)\n",
        "\n",
        "  return new_population, compute_loss(sorted_population[m-1])"
      ],
      "metadata": {
        "id": "He4hlyuG2Hun"
      },
      "execution_count": 18,
      "outputs": []
    },
    {
      "cell_type": "code",
      "source": [
        "individual1 = [4.09, 4.82, 3.10, 4.02]\n",
        "individual2 = [3.44, 2.57, -0.79, -2.41]\n",
        "old_population = [individual1, individual2]\n",
        "new_population, _ = create_new_population(old_population, elitism=2, gen=1)"
      ],
      "metadata": {
        "colab": {
          "base_uri": "https://localhost:8080/"
        },
        "id": "FItsM4M_3nM1",
        "outputId": "3e7e98ef-c5d7-4b67-dd29-061c0d714c1b"
      },
      "execution_count": 19,
      "outputs": [
        {
          "output_type": "stream",
          "name": "stdout",
          "text": [
            "Best loss: 123415.051528805, with chromosome: [3.44, 2.57, -0.79, -2.41]\n"
          ]
        }
      ]
    },
    {
      "cell_type": "code",
      "source": [
        "def run_GA():\n",
        "  n_generations = 100\n",
        "  m = 600\n",
        "  features_X, sales_Y = load_data_from_file()\n",
        "  population = initializePopulation(m)\n",
        "  losses_list = []\n",
        "  for i in range(n_generations):\n",
        "    population, loss = create_new_population(population, elitism=2, gen=i)\n",
        "    losses_list.append(loss)\n",
        "\n",
        "  return losses_list"
      ],
      "metadata": {
        "id": "X1PmQjcN33c-"
      },
      "execution_count": 22,
      "outputs": []
    },
    {
      "cell_type": "code",
      "source": [
        "losses_list = run_GA()"
      ],
      "metadata": {
        "colab": {
          "base_uri": "https://localhost:8080/"
        },
        "id": "zIfjNVq2ApzS",
        "outputId": "32b7b211-d036-4553-a434-7677978517bd"
      },
      "execution_count": 23,
      "outputs": [
        {
          "output_type": "stream",
          "name": "stdout",
          "text": [
            "Best loss: 960.9082730533232, with chromosome: [3.6372786412906652, 0.07383449275513265, 1.7298568974307782, -0.6230891111498904]\n",
            "Best loss: 960.9082730533232, with chromosome: [3.6372786412906652, 0.07383449275513265, 1.7298568974307782, -0.6230891111498904]\n",
            "Best loss: 960.9082730533232, with chromosome: [3.6372786412906652, 0.07383449275513265, 1.7298568974307782, -0.6230891111498904]\n",
            "Best loss: 960.9082730533232, with chromosome: [3.6372786412906652, 0.07383449275513265, 1.7298568974307782, -0.6230891111498904]\n",
            "Best loss: 960.9082730533232, with chromosome: [3.6372786412906652, 0.07383449275513265, 1.7298568974307782, -0.6230891111498904]\n",
            "Best loss: 960.9082730533232, with chromosome: [3.6372786412906652, 0.07383449275513265, 1.7298568974307782, -0.6230891111498904]\n",
            "Best loss: 960.9082730533232, with chromosome: [3.6372786412906652, 0.07383449275513265, 1.7298568974307782, -0.6230891111498904]\n",
            "Best loss: 960.9082730533232, with chromosome: [3.6372786412906652, 0.07383449275513265, 1.7298568974307782, -0.6230891111498904]\n",
            "Best loss: 960.9082730533232, with chromosome: [3.6372786412906652, 0.07383449275513265, 1.7298568974307782, -0.6230891111498904]\n",
            "Best loss: 960.9082730533232, with chromosome: [3.6372786412906652, 0.07383449275513265, 1.7298568974307782, -0.6230891111498904]\n",
            "Best loss: 960.9082730533232, with chromosome: [3.6372786412906652, 0.07383449275513265, 1.7298568974307782, -0.6230891111498904]\n",
            "Best loss: 960.9082730533232, with chromosome: [3.6372786412906652, 0.07383449275513265, 1.7298568974307782, -0.6230891111498904]\n",
            "Best loss: 960.9082730533232, with chromosome: [3.6372786412906652, 0.07383449275513265, 1.7298568974307782, -0.6230891111498904]\n",
            "Best loss: 960.9082730533232, with chromosome: [3.6372786412906652, 0.07383449275513265, 1.7298568974307782, -0.6230891111498904]\n",
            "Best loss: 960.9082730533232, with chromosome: [3.6372786412906652, 0.07383449275513265, 1.7298568974307782, -0.6230891111498904]\n",
            "Best loss: 960.9082730533232, with chromosome: [3.6372786412906652, 0.07383449275513265, 1.7298568974307782, -0.6230891111498904]\n",
            "Best loss: 960.9082730533232, with chromosome: [3.6372786412906652, 0.07383449275513265, 1.7298568974307782, -0.6230891111498904]\n",
            "Best loss: 960.9082730533232, with chromosome: [3.6372786412906652, 0.07383449275513265, 1.7298568974307782, -0.6230891111498904]\n",
            "Best loss: 960.9082730533232, with chromosome: [3.6372786412906652, 0.07383449275513265, 1.7298568974307782, -0.6230891111498904]\n",
            "Best loss: 960.9082730533232, with chromosome: [3.6372786412906652, 0.07383449275513265, 1.7298568974307782, -0.6230891111498904]\n",
            "Best loss: 960.9082730533232, with chromosome: [3.6372786412906652, 0.07383449275513265, 1.7298568974307782, -0.6230891111498904]\n",
            "Best loss: 960.9082730533232, with chromosome: [3.6372786412906652, 0.07383449275513265, 1.7298568974307782, -0.6230891111498904]\n",
            "Best loss: 960.9082730533232, with chromosome: [3.6372786412906652, 0.07383449275513265, 1.7298568974307782, -0.6230891111498904]\n",
            "Best loss: 960.9082730533232, with chromosome: [3.6372786412906652, 0.07383449275513265, 1.7298568974307782, -0.6230891111498904]\n",
            "Best loss: 960.9082730533232, with chromosome: [3.6372786412906652, 0.07383449275513265, 1.7298568974307782, -0.6230891111498904]\n",
            "Best loss: 960.9082730533232, with chromosome: [3.6372786412906652, 0.07383449275513265, 1.7298568974307782, -0.6230891111498904]\n",
            "Best loss: 960.9082730533232, with chromosome: [3.6372786412906652, 0.07383449275513265, 1.7298568974307782, -0.6230891111498904]\n",
            "Best loss: 960.9082730533232, with chromosome: [3.6372786412906652, 0.07383449275513265, 1.7298568974307782, -0.6230891111498904]\n",
            "Best loss: 960.9082730533232, with chromosome: [3.6372786412906652, 0.07383449275513265, 1.7298568974307782, -0.6230891111498904]\n",
            "Best loss: 960.9082730533232, with chromosome: [3.6372786412906652, 0.07383449275513265, 1.7298568974307782, -0.6230891111498904]\n",
            "Best loss: 960.9082730533232, with chromosome: [3.6372786412906652, 0.07383449275513265, 1.7298568974307782, -0.6230891111498904]\n",
            "Best loss: 960.9082730533232, with chromosome: [3.6372786412906652, 0.07383449275513265, 1.7298568974307782, -0.6230891111498904]\n",
            "Best loss: 960.9082730533232, with chromosome: [3.6372786412906652, 0.07383449275513265, 1.7298568974307782, -0.6230891111498904]\n",
            "Best loss: 960.9082730533232, with chromosome: [3.6372786412906652, 0.07383449275513265, 1.7298568974307782, -0.6230891111498904]\n",
            "Best loss: 960.9082730533232, with chromosome: [3.6372786412906652, 0.07383449275513265, 1.7298568974307782, -0.6230891111498904]\n",
            "Best loss: 960.9082730533232, with chromosome: [3.6372786412906652, 0.07383449275513265, 1.7298568974307782, -0.6230891111498904]\n",
            "Best loss: 960.9082730533232, with chromosome: [3.6372786412906652, 0.07383449275513265, 1.7298568974307782, -0.6230891111498904]\n",
            "Best loss: 960.9082730533232, with chromosome: [3.6372786412906652, 0.07383449275513265, 1.7298568974307782, -0.6230891111498904]\n",
            "Best loss: 960.9082730533232, with chromosome: [3.6372786412906652, 0.07383449275513265, 1.7298568974307782, -0.6230891111498904]\n",
            "Best loss: 960.9082730533232, with chromosome: [3.6372786412906652, 0.07383449275513265, 1.7298568974307782, -0.6230891111498904]\n",
            "Best loss: 960.9082730533232, with chromosome: [3.6372786412906652, 0.07383449275513265, 1.7298568974307782, -0.6230891111498904]\n",
            "Best loss: 960.9082730533232, with chromosome: [3.6372786412906652, 0.07383449275513265, 1.7298568974307782, -0.6230891111498904]\n",
            "Best loss: 960.9082730533232, with chromosome: [3.6372786412906652, 0.07383449275513265, 1.7298568974307782, -0.6230891111498904]\n",
            "Best loss: 960.9082730533232, with chromosome: [3.6372786412906652, 0.07383449275513265, 1.7298568974307782, -0.6230891111498904]\n",
            "Best loss: 960.9082730533232, with chromosome: [3.6372786412906652, 0.07383449275513265, 1.7298568974307782, -0.6230891111498904]\n",
            "Best loss: 960.9082730533232, with chromosome: [3.6372786412906652, 0.07383449275513265, 1.7298568974307782, -0.6230891111498904]\n",
            "Best loss: 960.9082730533232, with chromosome: [3.6372786412906652, 0.07383449275513265, 1.7298568974307782, -0.6230891111498904]\n",
            "Best loss: 960.9082730533232, with chromosome: [3.6372786412906652, 0.07383449275513265, 1.7298568974307782, -0.6230891111498904]\n",
            "Best loss: 960.9082730533232, with chromosome: [3.6372786412906652, 0.07383449275513265, 1.7298568974307782, -0.6230891111498904]\n",
            "Best loss: 960.9082730533232, with chromosome: [3.6372786412906652, 0.07383449275513265, 1.7298568974307782, -0.6230891111498904]\n",
            "Best loss: 960.9082730533232, with chromosome: [3.6372786412906652, 0.07383449275513265, 1.7298568974307782, -0.6230891111498904]\n",
            "Best loss: 960.9082730533232, with chromosome: [3.6372786412906652, 0.07383449275513265, 1.7298568974307782, -0.6230891111498904]\n",
            "Best loss: 960.9082730533232, with chromosome: [3.6372786412906652, 0.07383449275513265, 1.7298568974307782, -0.6230891111498904]\n",
            "Best loss: 960.9082730533232, with chromosome: [3.6372786412906652, 0.07383449275513265, 1.7298568974307782, -0.6230891111498904]\n",
            "Best loss: 960.9082730533232, with chromosome: [3.6372786412906652, 0.07383449275513265, 1.7298568974307782, -0.6230891111498904]\n",
            "Best loss: 960.9082730533232, with chromosome: [3.6372786412906652, 0.07383449275513265, 1.7298568974307782, -0.6230891111498904]\n",
            "Best loss: 960.9082730533232, with chromosome: [3.6372786412906652, 0.07383449275513265, 1.7298568974307782, -0.6230891111498904]\n",
            "Best loss: 960.9082730533232, with chromosome: [3.6372786412906652, 0.07383449275513265, 1.7298568974307782, -0.6230891111498904]\n",
            "Best loss: 960.9082730533232, with chromosome: [3.6372786412906652, 0.07383449275513265, 1.7298568974307782, -0.6230891111498904]\n",
            "Best loss: 960.9082730533232, with chromosome: [3.6372786412906652, 0.07383449275513265, 1.7298568974307782, -0.6230891111498904]\n",
            "Best loss: 960.9082730533232, with chromosome: [3.6372786412906652, 0.07383449275513265, 1.7298568974307782, -0.6230891111498904]\n",
            "Best loss: 960.9082730533232, with chromosome: [3.6372786412906652, 0.07383449275513265, 1.7298568974307782, -0.6230891111498904]\n",
            "Best loss: 960.9082730533232, with chromosome: [3.6372786412906652, 0.07383449275513265, 1.7298568974307782, -0.6230891111498904]\n",
            "Best loss: 960.9082730533232, with chromosome: [3.6372786412906652, 0.07383449275513265, 1.7298568974307782, -0.6230891111498904]\n",
            "Best loss: 960.9082730533232, with chromosome: [3.6372786412906652, 0.07383449275513265, 1.7298568974307782, -0.6230891111498904]\n",
            "Best loss: 960.9082730533232, with chromosome: [3.6372786412906652, 0.07383449275513265, 1.7298568974307782, -0.6230891111498904]\n",
            "Best loss: 960.9082730533232, with chromosome: [3.6372786412906652, 0.07383449275513265, 1.7298568974307782, -0.6230891111498904]\n",
            "Best loss: 960.9082730533232, with chromosome: [3.6372786412906652, 0.07383449275513265, 1.7298568974307782, -0.6230891111498904]\n",
            "Best loss: 960.9082730533232, with chromosome: [3.6372786412906652, 0.07383449275513265, 1.7298568974307782, -0.6230891111498904]\n",
            "Best loss: 960.9082730533232, with chromosome: [3.6372786412906652, 0.07383449275513265, 1.7298568974307782, -0.6230891111498904]\n",
            "Best loss: 960.9082730533232, with chromosome: [3.6372786412906652, 0.07383449275513265, 1.7298568974307782, -0.6230891111498904]\n",
            "Best loss: 960.9082730533232, with chromosome: [3.6372786412906652, 0.07383449275513265, 1.7298568974307782, -0.6230891111498904]\n",
            "Best loss: 960.9082730533232, with chromosome: [3.6372786412906652, 0.07383449275513265, 1.7298568974307782, -0.6230891111498904]\n",
            "Best loss: 960.9082730533232, with chromosome: [3.6372786412906652, 0.07383449275513265, 1.7298568974307782, -0.6230891111498904]\n",
            "Best loss: 960.9082730533232, with chromosome: [3.6372786412906652, 0.07383449275513265, 1.7298568974307782, -0.6230891111498904]\n",
            "Best loss: 960.9082730533232, with chromosome: [3.6372786412906652, 0.07383449275513265, 1.7298568974307782, -0.6230891111498904]\n",
            "Best loss: 960.9082730533232, with chromosome: [3.6372786412906652, 0.07383449275513265, 1.7298568974307782, -0.6230891111498904]\n",
            "Best loss: 960.9082730533232, with chromosome: [3.6372786412906652, 0.07383449275513265, 1.7298568974307782, -0.6230891111498904]\n",
            "Best loss: 960.9082730533232, with chromosome: [3.6372786412906652, 0.07383449275513265, 1.7298568974307782, -0.6230891111498904]\n",
            "Best loss: 960.9082730533232, with chromosome: [3.6372786412906652, 0.07383449275513265, 1.7298568974307782, -0.6230891111498904]\n",
            "Best loss: 960.9082730533232, with chromosome: [3.6372786412906652, 0.07383449275513265, 1.7298568974307782, -0.6230891111498904]\n",
            "Best loss: 960.9082730533232, with chromosome: [3.6372786412906652, 0.07383449275513265, 1.7298568974307782, -0.6230891111498904]\n",
            "Best loss: 960.9082730533232, with chromosome: [3.6372786412906652, 0.07383449275513265, 1.7298568974307782, -0.6230891111498904]\n",
            "Best loss: 960.9082730533232, with chromosome: [3.6372786412906652, 0.07383449275513265, 1.7298568974307782, -0.6230891111498904]\n",
            "Best loss: 960.9082730533232, with chromosome: [3.6372786412906652, 0.07383449275513265, 1.7298568974307782, -0.6230891111498904]\n",
            "Best loss: 960.9082730533232, with chromosome: [3.6372786412906652, 0.07383449275513265, 1.7298568974307782, -0.6230891111498904]\n",
            "Best loss: 960.9082730533232, with chromosome: [3.6372786412906652, 0.07383449275513265, 1.7298568974307782, -0.6230891111498904]\n",
            "Best loss: 960.9082730533232, with chromosome: [3.6372786412906652, 0.07383449275513265, 1.7298568974307782, -0.6230891111498904]\n",
            "Best loss: 960.9082730533232, with chromosome: [3.6372786412906652, 0.07383449275513265, 1.7298568974307782, -0.6230891111498904]\n",
            "Best loss: 960.9082730533232, with chromosome: [3.6372786412906652, 0.07383449275513265, 1.7298568974307782, -0.6230891111498904]\n",
            "Best loss: 960.9082730533232, with chromosome: [3.6372786412906652, 0.07383449275513265, 1.7298568974307782, -0.6230891111498904]\n",
            "Best loss: 960.9082730533232, with chromosome: [3.6372786412906652, 0.07383449275513265, 1.7298568974307782, -0.6230891111498904]\n",
            "Best loss: 960.9082730533232, with chromosome: [3.6372786412906652, 0.07383449275513265, 1.7298568974307782, -0.6230891111498904]\n",
            "Best loss: 960.9082730533232, with chromosome: [3.6372786412906652, 0.07383449275513265, 1.7298568974307782, -0.6230891111498904]\n",
            "Best loss: 960.9082730533232, with chromosome: [3.6372786412906652, 0.07383449275513265, 1.7298568974307782, -0.6230891111498904]\n",
            "Best loss: 960.9082730533232, with chromosome: [3.6372786412906652, 0.07383449275513265, 1.7298568974307782, -0.6230891111498904]\n",
            "Best loss: 960.9082730533232, with chromosome: [3.6372786412906652, 0.07383449275513265, 1.7298568974307782, -0.6230891111498904]\n",
            "Best loss: 960.9082730533232, with chromosome: [3.6372786412906652, 0.07383449275513265, 1.7298568974307782, -0.6230891111498904]\n",
            "Best loss: 960.9082730533232, with chromosome: [3.6372786412906652, 0.07383449275513265, 1.7298568974307782, -0.6230891111498904]\n",
            "Best loss: 960.9082730533232, with chromosome: [3.6372786412906652, 0.07383449275513265, 1.7298568974307782, -0.6230891111498904]\n"
          ]
        }
      ]
    },
    {
      "cell_type": "code",
      "source": [
        "import matplotlib.pyplot as plt\n",
        "\n",
        "def visualize_loss(losses_list):\n",
        "  plt.figure(figsize=(10, 6))\n",
        "  plt.plot(losses_list, label='Loss over generations')\n",
        "  plt.xlabel('Generation')\n",
        "  plt.ylabel('Loss')\n",
        "  plt.title('Loss vs. Generation')\n",
        "  plt.legend()\n",
        "  plt.grid(True)\n",
        "  plt.show()\n",
        "\n",
        "visualize_loss(losses_list)"
      ],
      "metadata": {
        "colab": {
          "base_uri": "https://localhost:8080/",
          "height": 564
        },
        "id": "O02kqhmC49tZ",
        "outputId": "e11f2ad5-6f15-41f7-e44b-fed84712cb0c"
      },
      "execution_count": 24,
      "outputs": [
        {
          "output_type": "display_data",
          "data": {
            "text/plain": [
              "<Figure size 1000x600 with 1 Axes>"
            ],
            "image/png": "[encoded data removed]"
          },
          "metadata": {}
        }
      ]
    },
    {
      "cell_type": "code",
      "source": [
        "def visualize_predict_gt():\n",
        "\n",
        "  sorted_population = sorted(population, key=compute_fitness)\n",
        "  print(sorted_population[-1])\n",
        "  theta = np.array(sorted_population[-1])\n",
        "\n",
        "  estimated_prices = []\n",
        "  for feature in features_X:\n",
        "    estimated_prices.append(feature.dot(theta))\n",
        "\n",
        "  fig, ax = plt.subplots(figsize=(10, 6))\n",
        "  plt.xlabel('Samples')\n",
        "  plt.ylabel('Price')\n",
        "  plt.plot(sales_Y, c='green', label='Real Prices')\n",
        "  plt.plot(estimated_prices, c='blue', label='Estimated Prices')\n",
        "  plt.legend()\n",
        "  plt.show()\n",
        "\n",
        "visualize_predict_gt()"
      ],
      "metadata": {
        "colab": {
          "base_uri": "https://localhost:8080/",
          "height": 559
        },
        "id": "SBDhbg1J9MqG",
        "outputId": "f4b6f425-3537-4825-cefe-1b5ceaf65fde"
      },
      "execution_count": 25,
      "outputs": [
        {
          "output_type": "stream",
          "name": "stdout",
          "text": [
            "[2.7746435583966687, 0.14035467838271698, -0.37922557173930005, 1.343562920465169]\n"
          ]
        },
        {
          "output_type": "display_data",
          "data": {
            "text/plain": [
              "<Figure size 1000x600 with 1 Axes>"
            ],
            "image/png": "[encoded data removed]"
          },
          "metadata": {}
        }
      ]
    }
  ]
}
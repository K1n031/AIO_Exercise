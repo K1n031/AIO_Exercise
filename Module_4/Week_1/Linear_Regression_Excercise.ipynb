{
  "nbformat": 4,
  "nbformat_minor": 0,
  "metadata": {
    "colab": {
      "provenance": []
    },
    "kernelspec": {
      "name": "python3",
      "display_name": "Python 3"
    },
    "language_info": {
      "name": "python"
    }
  },
  "cells": [
    {
      "cell_type": "code",
      "execution_count": 101,
      "metadata": {
        "colab": {
          "base_uri": "https://localhost:8080/"
        },
        "id": "xx462s1ll-EI",
        "outputId": "cc40d1b2-aad3-462e-eb17-215abb44c004"
      },
      "outputs": [
        {
          "output_type": "stream",
          "name": "stdout",
          "text": [
            "Downloading...\n",
            "From: https://drive.google.com/uc?id=1FdydikIZfRaENz3CLaZT24Deyc4KvZO3\n",
            "To: /content/advertising.csv\n",
            "\r  0% 0.00/4.06k [00:00<?, ?B/s]\r100% 4.06k/4.06k [00:00<00:00, 12.6MB/s]\n"
          ]
        }
      ],
      "source": [
        "!gdown 1FdydikIZfRaENz3CLaZT24Deyc4KvZO3"
      ]
    },
    {
      "cell_type": "markdown",
      "source": [
        "## Bài tập 1 (kỹ thuật đọc và xử lý dữ liệu từ file .csv): Cho trước file dữ liệu advertising.csv, hãy hoàn thành function prepare_data(file_name_dataset) trả về dữ liệu đã được tổ chức (X cho input và y cho output)."
      ],
      "metadata": {
        "id": "W8ckjLZzmJVj"
      }
    },
    {
      "cell_type": "code",
      "source": [
        "import numpy as np\n",
        "import matplotlib.pyplot as plt\n",
        "import random\n",
        "\n",
        "def get_column(data, index):\n",
        "  result = []\n",
        "  for row in data:\n",
        "    result.append(row[index])\n",
        "  return result\n",
        "\n",
        "def prepare_data(file_name_dataset):\n",
        "  data = np.genfromtxt(file_name_dataset, delimiter=',', skip_header=1).tolist()\n",
        "  N = len(data)\n",
        "\n",
        "  # Get tv (index=0)\n",
        "  tv_data = get_column(data, 0)\n",
        "\n",
        "  # Get radio (index=1)\n",
        "  radio_data = get_column(data, 1)\n",
        "\n",
        "  # Get newspaper (index=2)\n",
        "  newspaper_data = get_column(data, 2)\n",
        "\n",
        "  # Get sales (index=3)\n",
        "  sales_data = get_column(data, 3)\n",
        "\n",
        "  # Building X input and y output for training\n",
        "  X, y = [tv_data, radio_data, newspaper_data], sales_data\n",
        "\n",
        "  return X, y"
      ],
      "metadata": {
        "id": "zzJ-P3FvmD48"
      },
      "execution_count": 102,
      "outputs": []
    },
    {
      "cell_type": "code",
      "source": [
        "# Question 1\n",
        "X, y = prepare_data('advertising.csv')\n",
        "list = [sum(X[0][:5]), sum(X[1][:5]), sum(X[2][:5]), sum(y[:5])]\n",
        "print(list)"
      ],
      "metadata": {
        "colab": {
          "base_uri": "https://localhost:8080/"
        },
        "id": "NwkxsjtQpgil",
        "outputId": "6e63fed2-c6b8-4d01-fb78-18924fa3d83f"
      },
      "execution_count": 103,
      "outputs": [
        {
          "output_type": "stream",
          "name": "stdout",
          "text": [
            "[624.1, 175.10000000000002, 300.5, 78.9]\n"
          ]
        }
      ]
    },
    {
      "cell_type": "markdown",
      "source": [
        "## Bài tập 2 (kỹ thuật huấn luyện data dùng one sample - linear regression):\n",
        "Sử dụng kết quả dữ liệu đầu vào X, và dữ liệu đầu ra y từ bài 1, để phát triển chương trình dự đoán thông tin sales (y) từ X bằng cách dùng giải thuật linear regression with one sample-training với loss được tính bằng công thức Mean Squared Error $L = (\\hat{y} - y)^2$. Nhiệm vụ của bạn là hoàn thành function implement_linear_regression(X_data, y_data,epoch_max, lr) và trả về 4 tham số w1, w2, w3, b và lịch sử tính loss như bên dưới."
      ],
      "metadata": {
        "id": "VZfGK3uCE3jw"
      }
    },
    {
      "cell_type": "markdown",
      "source": [
        "### 2.1 Hoàn thành function initialize_params() để khởi tạo ngẫu nhiên giá trị ban đầu cho w1, w2, w3 theo gaussian random.gauss(mu=0.0, sigma=0.01) và b = 0. Ở bước này các bạn có thể dùng hàm sau để khởi tạo bốn tham số trên."
      ],
      "metadata": {
        "id": "Q_2W7oJHOYEr"
      }
    },
    {
      "cell_type": "code",
      "source": [
        "def initialize_params():\n",
        "  w1 = random.gauss(mu=0.0, sigma=0.01)\n",
        "  w2 = random.gauss(mu=0.0, sigma=0.01)\n",
        "  w3 = random.gauss(mu=0.0, sigma=0.01)\n",
        "  b = 0\n",
        "\n",
        "  return w1, w2, w3, b"
      ],
      "metadata": {
        "id": "cZOzsI04NmC8"
      },
      "execution_count": 104,
      "outputs": []
    },
    {
      "cell_type": "code",
      "source": [
        "def initialize_params():\n",
        "  w1, w2, w3, b = (0.016992259082509283, 0.0070783670518262355, -0.002307860847821344, 0)\n",
        "  return w1, w2, w3, b"
      ],
      "metadata": {
        "id": "mi5zL5peN11T"
      },
      "execution_count": 105,
      "outputs": []
    },
    {
      "cell_type": "markdown",
      "source": [
        "### 2.2 Hoàn thành function predict(x1, x2, x3, w1, w2, w3, b) để trả về kết quả dự đoán y tương ứng"
      ],
      "metadata": {
        "id": "DTgVympXOizF"
      }
    },
    {
      "cell_type": "code",
      "source": [
        "def predict(x1, x2, x3, w1, w2, w3, b):\n",
        "  result = w1 * x1 + w2 * x2 + w3 * x3 + b\n",
        "  return result"
      ],
      "metadata": {
        "id": "mSGObAWxOlmx"
      },
      "execution_count": 106,
      "outputs": []
    },
    {
      "cell_type": "code",
      "source": [
        "# Question 2\n",
        "y = predict(x1=1, x2=1, x3=1, w1=0, w2=0.5, w3=0, b=0.5)\n",
        "print(y)"
      ],
      "metadata": {
        "colab": {
          "base_uri": "https://localhost:8080/"
        },
        "id": "9jsLwShYO7X_",
        "outputId": "26b6ffd3-060f-48ca-d8ed-26e6e5e38743"
      },
      "execution_count": 107,
      "outputs": [
        {
          "output_type": "stream",
          "name": "stdout",
          "text": [
            "1.0\n"
          ]
        }
      ]
    },
    {
      "cell_type": "code",
      "source": [
        "X, y = prepare_data('advertising.csv')"
      ],
      "metadata": {
        "id": "DiiiXW509wzC"
      },
      "execution_count": 108,
      "outputs": []
    },
    {
      "cell_type": "markdown",
      "source": [
        "### 2.3 Hoàn thành function compute_loss(y_hat, y) để tính loss giữa kết quả dự đoán y_hat và giá trị thực y, sử dụng Mean Squared Error"
      ],
      "metadata": {
        "id": "-G6K462SQAZ6"
      }
    },
    {
      "cell_type": "code",
      "source": [
        "def compute_loss(y_hat, y):\n",
        "  loss = (y_hat - y)**2\n",
        "  return loss"
      ],
      "metadata": {
        "id": "-J_Ph5bJQEdh"
      },
      "execution_count": 109,
      "outputs": []
    },
    {
      "cell_type": "code",
      "source": [
        "# Question 3\n",
        "l = compute_loss(y_hat=1, y=0.5)\n",
        "print(l)"
      ],
      "metadata": {
        "colab": {
          "base_uri": "https://localhost:8080/"
        },
        "id": "u_GbmyWvQjkZ",
        "outputId": "84fe4124-fa48-4e23-ae0f-c6a087b0e0ca"
      },
      "execution_count": 110,
      "outputs": [
        {
          "output_type": "stream",
          "name": "stdout",
          "text": [
            "0.25\n"
          ]
        }
      ]
    },
    {
      "cell_type": "markdown",
      "source": [
        "### 2.4 Hoàn thành function compute_gradient_wi(xi, y, y_hat) để tính đạo hàm của hàm loss $L = (\\hat{y} - y)^2$ theo wi và function compute_gradient_b(y, y_hat) để tính đạo hàm của hàm loss $L = (\\hat{y} - y)^2$ theo b."
      ],
      "metadata": {
        "id": "g6NIffRQQ3Q0"
      }
    },
    {
      "cell_type": "code",
      "source": [
        "def compute_gradient_wi(xi, y, y_hat):\n",
        "  dl_dwi = 2 * xi * (y_hat - y)\n",
        "  return dl_dwi\n",
        "\n",
        "def compute_gradient_b(y, y_hat):\n",
        "  dl_db = 2 * (y_hat - y)\n",
        "  return dl_db"
      ],
      "metadata": {
        "id": "pWhQb4c3RFYu"
      },
      "execution_count": 111,
      "outputs": []
    },
    {
      "cell_type": "code",
      "source": [
        "# Question 4\n",
        "g_wi = compute_gradient_wi(xi=1.0, y=1.0, y_hat=0.5)\n",
        "print(g_wi)"
      ],
      "metadata": {
        "colab": {
          "base_uri": "https://localhost:8080/"
        },
        "id": "rXN4kqoFpoFJ",
        "outputId": "77d52de2-8a8f-48d0-cf3b-a0b569d3808b"
      },
      "execution_count": 112,
      "outputs": [
        {
          "output_type": "stream",
          "name": "stdout",
          "text": [
            "-1.0\n"
          ]
        }
      ]
    },
    {
      "cell_type": "code",
      "source": [
        "# Question 5\n",
        "g_b = compute_gradient_b(y=2.0, y_hat=0.5)\n",
        "print(g_b)"
      ],
      "metadata": {
        "colab": {
          "base_uri": "https://localhost:8080/"
        },
        "id": "zvdSVM4wqT8a",
        "outputId": "06897606-9142-47ad-ad41-bf6ae40467d3"
      },
      "execution_count": 113,
      "outputs": [
        {
          "output_type": "stream",
          "name": "stdout",
          "text": [
            "-3.0\n"
          ]
        }
      ]
    },
    {
      "cell_type": "markdown",
      "source": [
        "### 2.5 Hoàn thành function update_weight_wi(wi, dl_dwi, lr) để cập nhật wi sau khi tính đạo làm hàm loss L theo wi, và function update_weight_b(b, dl_db, lr) để update bias (b) sau khi tính đạo làm hàm loss L theo b."
      ],
      "metadata": {
        "id": "6N6JIuJXqbRL"
      }
    },
    {
      "cell_type": "code",
      "source": [
        "# Update weights\n",
        "def update_weight_wi(wi, dl_dwi, lr):\n",
        "  wi = wi - lr * dl_dwi\n",
        "  return wi\n",
        "\n",
        "def update_weight_b(b, dl_db, lr):\n",
        "  b = b - lr * dl_db\n",
        "  return b"
      ],
      "metadata": {
        "id": "h_CvGrj-qfot"
      },
      "execution_count": 114,
      "outputs": []
    },
    {
      "cell_type": "code",
      "source": [
        "# Question 6\n",
        "after_wi = update_weight_wi(wi=1.0, dl_dwi=-0.5, lr=1e-5)\n",
        "print(after_wi)"
      ],
      "metadata": {
        "colab": {
          "base_uri": "https://localhost:8080/"
        },
        "id": "lic1Dz3trLYe",
        "outputId": "9535c078-f553-4f1e-b84b-ae6590fbe73e"
      },
      "execution_count": 115,
      "outputs": [
        {
          "output_type": "stream",
          "name": "stdout",
          "text": [
            "1.000005\n"
          ]
        }
      ]
    },
    {
      "cell_type": "code",
      "source": [
        "# Question 7\n",
        "after_b = update_weight_b(b=0.5, dl_db=-1.0, lr=1e-5)\n",
        "print(after_b)"
      ],
      "metadata": {
        "colab": {
          "base_uri": "https://localhost:8080/"
        },
        "id": "e5wllrhcrh7Z",
        "outputId": "6ed5fc82-a851-4527-bbe5-32a83837ad76"
      },
      "execution_count": 116,
      "outputs": [
        {
          "output_type": "stream",
          "name": "stdout",
          "text": [
            "0.50001\n"
          ]
        }
      ]
    },
    {
      "cell_type": "code",
      "source": [
        "def implement_linear_regression(X_data, y_data, epoch_max=50, lr=1e-5):\n",
        "  losses = []\n",
        "\n",
        "  w1, w2, w3, b = initialize_params()\n",
        "\n",
        "  N = len(y_data)\n",
        "  for epoch in range(epoch_max):\n",
        "    for i in range(N):\n",
        "      # Get a sample\n",
        "      x1 = X_data[0][i]\n",
        "      x2 = X_data[1][i]\n",
        "      x3 = X_data[2][i]\n",
        "\n",
        "      y = y_data[i]\n",
        "\n",
        "      # Compute output\n",
        "      y_hat = predict(x1, x2, x3, w1, w2, w3, b)\n",
        "\n",
        "      # Compute loss\n",
        "      loss = compute_loss(y, y_hat)\n",
        "\n",
        "      # Compute gradient w1, w2, w3, b\n",
        "      dl_dw1 = compute_gradient_wi(x1, y, y_hat)\n",
        "      dl_dw2 = compute_gradient_wi(x2, y, y_hat)\n",
        "      dl_dw3 = compute_gradient_wi(x3, y, y_hat)\n",
        "      dl_db = compute_gradient_b(y, y_hat)\n",
        "\n",
        "      # Update parameters\n",
        "      w1 = update_weight_wi(w1, dl_dw1, lr)\n",
        "      w2 = update_weight_wi(w2, dl_dw2, lr)\n",
        "      w3 = update_weight_wi(w3, dl_dw3, lr)\n",
        "      b = update_weight_b(b, dl_db, lr)\n",
        "\n",
        "      # Logging\n",
        "      losses.append(loss)\n",
        "\n",
        "  return (w1, w2, w3, b, losses)"
      ],
      "metadata": {
        "id": "7wwPijYyrZVY"
      },
      "execution_count": 117,
      "outputs": []
    },
    {
      "cell_type": "markdown",
      "source": [
        "### 2.6 Thực hiện huấn luyện data bằng cách gọi hàm implement_linear_regression(X, y) và vẽ đồ thị kết quả cho 100 giá trị loss đầu tiên (loss cho 100 lần cập nhật đầu tiên) như bên hình 3."
      ],
      "metadata": {
        "id": "HJy_af-BsCUY"
      }
    },
    {
      "cell_type": "code",
      "source": [
        "print(type(y))"
      ],
      "metadata": {
        "colab": {
          "base_uri": "https://localhost:8080/"
        },
        "id": "wT45Yplr7pTA",
        "outputId": "8b17cd46-5a6d-42e4-fd68-1c7a362b104e"
      },
      "execution_count": 118,
      "outputs": [
        {
          "output_type": "stream",
          "name": "stdout",
          "text": [
            "<class 'list'>\n"
          ]
        }
      ]
    },
    {
      "cell_type": "code",
      "source": [
        "(w1, w2, w3, b, losses) = implement_linear_regression(X, y)\n",
        "plt.plot(losses[:100])\n",
        "plt.xlabel('#iteration')\n",
        "plt.ylabel('Loss')\n",
        "plt.show()"
      ],
      "metadata": {
        "colab": {
          "base_uri": "https://localhost:8080/",
          "height": 449
        },
        "id": "lNv_LY9KsHsK",
        "outputId": "aff85283-96e7-45a2-88ba-df1213d4fcaf"
      },
      "execution_count": 119,
      "outputs": [
        {
          "output_type": "display_data",
          "data": {
            "text/plain": [
              "<Figure size 640x480 with 1 Axes>"
            ],
            "image/png": "[encoded data removed]"
          },
          "metadata": {}
        }
      ]
    },
    {
      "cell_type": "code",
      "source": [
        "# Question 8\n",
        "X, y = prepare_data('advertising.csv')\n",
        "(w1, w2, w3, b, losses) = implement_linear_regression(X, y)\n",
        "print(w1, w2, w3)"
      ],
      "metadata": {
        "id": "hO4CPayLJgan",
        "colab": {
          "base_uri": "https://localhost:8080/"
        },
        "outputId": "8ceb82a2-6508-4bb7-b3f4-374548ee1a3d"
      },
      "execution_count": 120,
      "outputs": [
        {
          "output_type": "stream",
          "name": "stdout",
          "text": [
            "0.07405984066396477 0.15917360263437663 0.017561197559948935\n"
          ]
        }
      ]
    },
    {
      "cell_type": "code",
      "source": [
        "# Question 9\n",
        "# Given new data\n",
        "tv = 19.2\n",
        "radio = 35.9\n",
        "newspaper = 51.3\n",
        "\n",
        "X, y = prepare_data('advertising.csv')\n",
        "(w1, w2, w3, b, losses) = implement_linear_regression(X, y, epoch_max=50, lr=1e-5)\n",
        "sales = predict(tv, radio, newspaper, w1, w2, w3, b)\n",
        "print(f'Predicted sales is {sales}')"
      ],
      "metadata": {
        "colab": {
          "base_uri": "https://localhost:8080/"
        },
        "id": "QeAxTTIP96TQ",
        "outputId": "1c647a64-4d9b-473a-a5bd-70a8ba9edb70"
      },
      "execution_count": 121,
      "outputs": [
        {
          "output_type": "stream",
          "name": "stdout",
          "text": [
            "Predicted sales is 8.176413319549823\n"
          ]
        }
      ]
    },
    {
      "cell_type": "markdown",
      "source": [
        "### 2.7 Thực hiện huấn luyện data bằng cách thay thế hàm loss $L = (\\hat{y} - y)^2$ bằng hàm loss MAE $L = |\\hat{y} - y|$ và vẽ đồ thị kết quả hàm loss trong 100 interation đầu tiên như bên hình 4."
      ],
      "metadata": {
        "id": "XwrNEfeMAliq"
      }
    },
    {
      "cell_type": "code",
      "source": [
        "# Question 10\n",
        "def compute_loss_mae(y_hat, y):\n",
        "  loss = abs(y_hat - y)\n",
        "  return loss\n",
        "\n",
        "l = compute_loss_mae(y_hat=1, y=0.5)\n",
        "print(l)"
      ],
      "metadata": {
        "colab": {
          "base_uri": "https://localhost:8080/"
        },
        "id": "eXFUQUYCBCcV",
        "outputId": "3558aad7-cc4b-44c7-fc02-428a5cf6f82b"
      },
      "execution_count": 122,
      "outputs": [
        {
          "output_type": "stream",
          "name": "stdout",
          "text": [
            "0.5\n"
          ]
        }
      ]
    },
    {
      "cell_type": "markdown",
      "source": [
        "## Bài tập 3: Kỹ thuật huấn luyện dữ liệu dùng batch N samples - Linear Regression\n",
        "\n",
        "Cải tiến giải thuật ở bài tập 2, bằng cách huấn luyện giải thuật linear regression sử dụng N samples-training. Công việc của bạn ở bài tập này là bạn cần implement lại function `implement_linear_regression_nsamples` sử dụng N sample-training với hàm mất mát MSE:\n",
        "\n",
        "$ L(\\hat{y}, y) = \\frac{1}{N} \\sum_{i=1}^{N} (\\hat{y} - y)^2 $\n",
        "\n",
        "và hàm mất mát MAE (tùy chọn):\n",
        "\n",
        "$ L(\\hat{y}, y) = \\frac{1}{N} \\sum_{i=1}^{N} |\\hat{y} - y| $"
      ],
      "metadata": {
        "id": "DhkmldqeBZEM"
      }
    },
    {
      "cell_type": "code",
      "source": [
        "def implement_linear_regression_nsamples(X_data, y_data, epoch_max=50, lr=1e-5):\n",
        "  losses = []\n",
        "\n",
        "  w1, w2, w3, b = initialize_params()\n",
        "  N = len(y_data)\n",
        "\n",
        "  for epoch in range(epoch_max):\n",
        "\n",
        "    loss_total = 0.0\n",
        "    dw1_total = 0.0\n",
        "    dw2_total = 0.0\n",
        "    dw3_total = 0.0\n",
        "    db_total = 0.0\n",
        "\n",
        "    for i in range(N):\n",
        "      # Get a sample\n",
        "      x1 = X_data[0][i]\n",
        "      x2 = X_data[1][i]\n",
        "      x3 = X_data[2][i]\n",
        "\n",
        "      y = y_data[i]\n",
        "\n",
        "      # Compute output\n",
        "      y_hat = predict(x1, x2, x3, w1, w2, w3, b)\n",
        "\n",
        "      # Compute loss\n",
        "      loss = compute_loss(y, y_hat)\n",
        "\n",
        "      # Accumulate loss\n",
        "      loss_total += loss\n",
        "\n",
        "      # Compute gradient w1, w2, w3, b\n",
        "      dl_dw1 = compute_gradient_wi(x1, y, y_hat)\n",
        "      dl_dw2 = compute_gradient_wi(x2, y, y_hat)\n",
        "      dl_dw3 = compute_gradient_wi(x3, y, y_hat)\n",
        "      dl_db = compute_gradient_b(y, y_hat)\n",
        "\n",
        "      # Accumulate gradient\n",
        "      dw1_total += dl_dw1\n",
        "      dw2_total += dl_dw2\n",
        "      dw3_total += dl_dw3\n",
        "      db_total += dl_db\n",
        "\n",
        "    # Update parameters\n",
        "    w1 = update_weight_wi(w1, dl_dw1 / N, lr)\n",
        "    w2 = update_weight_wi(w2, dl_dw2 / N, lr)\n",
        "    w3 = update_weight_wi(w3, dl_dw3 / N, lr)\n",
        "    b = update_weight_b(b, dl_db / N, lr)\n",
        "\n",
        "    # Logging\n",
        "    losses.append(loss_total/N)\n",
        "\n",
        "  return (w1, w2, w3, b, losses)"
      ],
      "metadata": {
        "id": "XFTlFz71BNjs"
      },
      "execution_count": 123,
      "outputs": []
    },
    {
      "cell_type": "code",
      "source": [
        "(w1, w2, w3, b, losses) = implement_linear_regression_nsamples(X, y,\n",
        "                                                               epoch_max=1000,\n",
        "                                                               lr=1e-5)\n",
        "print(losses)\n",
        "plt.plot(losses)\n",
        "plt.xlabel('#epoch')\n",
        "plt.ylabel('Loss')\n",
        "plt.show()"
      ],
      "metadata": {
        "colab": {
          "base_uri": "https://localhost:8080/",
          "height": 490
        },
        "id": "p-mL4u0FCr3l",
        "outputId": "8301acdb-bc5a-488f-f066-cdbe56066fc0"
      },
      "execution_count": 124,
      "outputs": [
        {
          "output_type": "stream",
          "name": "stdout",
          "text": [
            "[172.98395547828923, 171.54706415209617, 170.12450084883872, 168.71611742050771, 167.32176728169955, 165.94130539296336, 164.57458824432356, 163.22147383897914, 161.88182167717906, 160.55549274026941, 159.24234947491144, 157.94225577746883, 156.65507697856347, 155.38067982779344, 154.11893247861914, 152.8697044734079, 151.63286672863947, 150.40829152027138, 149.19585246926016, 147.99542452723693, 146.8068839623377, 145.6301083451848, 144.4649765350183, 143.3113686659766, 142.16916613352342, 141.03825158102035, 139.91850888644248, 138.80982314923807, 137.71208067732738, 136.62516897424092, 135.54897672639592, 134.48339379050856, 133.42831118114148, 132.38362105838428, 131.34921671566605, 130.32499256769785, 129.31084413854552, 128.30666804982857, 127.3123620090471, 126.32782479803176, 125.35295626151947, 124.3876572958493, 123.43182983778136, 122.48537685343346, 121.5482023273382, 120.6202112516147, 119.70130961525851, 118.79140439354532, 117.89040353754764, 116.99821596376337, 116.11475154385725, 115.23992109450961, 114.37363636737565, 113.51581003915102, 112.66635570174417, 111.82518785255364, 110.99222188484971, 110.1673740782583, 109.3505615893473, 108.54170244231346, 107.74071551976853, 106.94752055362403, 106.16203811607447, 105.3841896106751, 104.61389726351734, 103.8510841144965, 103.09567400867411, 102.34759158773284, 101.60676228152126, 100.87311229969106, 100.14656862342208, 99.42705899723597, 98.71451192089893, 98.00885664140883, 97.3100231450693, 96.61794214964848, 95.93254509662128, 95.25376414349434, 94.58153215621378, 93.91578270165333, 93.2564500401832, 92.6034691183182, 91.95677556144449, 91.31630566662383, 90.68199639547511, 90.05378536713155, 89.43161085127366, 88.8154117612358, 88.20512764718737, 87.60069868938612, 87.00206569150367, 86.40917007402288, 85.82195386770466, 85.24035970712598, 84.6643308242853, 84.09381104227774, 83.52874476903703, 82.96907699114408, 82.41475326770251, 81.86571972427888, 81.32192304690767, 80.78331047616085, 80.24982980127987, 79.72142935437091, 79.19805800466234, 78.67966515282257, 78.16620072533912, 77.65761516895826, 77.15385944518275, 76.65488502482901, 76.1606438826427, 75.67108849197112, 75.18617181949243, 74.70584732000196, 74.23006893125317, 73.75879106885428, 73.29196862121884, 72.82955694457105, 72.37151185800302, 71.91778963858602, 71.46834701653334, 71.02314117041452, 70.582129722421, 70.1452707336823, 69.7125226996316, 69.28384454542154, 68.85919562138822, 68.43853569856384, 68.02182496423731, 67.6090240175619, 67.20009386520988, 66.79499591707376, 66.39369198201263, 65.99614426364442, 65.602315356183, 65.21216824031947, 64.82566627914721, 64.44277321413053, 64.06345316111647, 63.6876706063889, 63.315390402764244, 62.94657776572979, 62.58119826962204, 62.21921784384667, 61.86060276913801, 61.505319673859255, 61.15333553034097, 60.80461765125946, 60.459133686053576, 60.11685161737914, 59.77773975760175, 59.4417667453267, 59.108901541965864, 58.779113428340644, 58.45237200132233, 58.12864717050651, 57.807909154924516, 57.49012847978881, 57.17527597327336, 56.86332276332825, 56.55424027452832, 56.24800022495496, 55.944574623111656, 55.643935764871614, 55.346056230458686, 55.05090888145978, 54.758466857869195, 54.46870357516454, 54.181592721413736, 53.897108254412615, 53.61522439885295, 53.335915643520984, 53.059156738525424, 52.784922692554574, 52.51318877016335, 52.24393048908877, 51.977123617593826, 51.71274417183996, 51.45076841328692, 51.19117284612099, 50.933934214709865, 50.67902950108496, 50.42643592245028, 50.176130928717924, 49.92809220006948, 49.68229764454386, 49.438725395649925, 49.197353810005545, 48.95816146500062, 48.72112715648559, 48.48622989648456, 48.25344891093212, 48.02276363743487, 47.79415372305608, 47.56759902212453, 47.34307959406592, 47.12057570125782, 46.90006780690704, 46.6815365729499, 46.4649628579743, 46.25032771516427, 46.03761239026605, 45.82679831957583, 45.61786712794885, 45.41080062682987, 45.20558081230362, 45.00218986316732, 44.80061013902238, 44.60082417838706, 44.40281469682877, 44.20656458511657, 44.0120569073927, 43.81927489936392, 43.62820196651198, 43.438821682322754, 43.25111778653467, 43.06507418340495, 42.88067493999497, 42.69790428447331, 42.51674660443694, 42.33718644525026, 42.15920850840146, 41.98279764987667, 41.807938878550985, 41.63461735459663, 41.462818387908165, 41.29252743654406, 41.12373010518496, 40.95641214360825, 40.79055944517855, 40.62615804535467, 40.46319412021182, 40.30165398497963, 40.14152409259596, 39.98279103227544, 39.82544152809366, 39.66946243758604, 39.51484075036163, 39.36156358673136, 39.20961819635127, 39.058991956879524, 38.909672372647975, 38.76164707334764, 38.61490381272819, 38.469430467310865, 38.32521503511537, 38.1822456344002, 38.040510502415756, 37.89999799417129, 37.76069658121455, 37.62259485042434, 37.48568150281565, 37.349945352357985, 37.21537532480536, 37.08196045653942, 36.949689893424065, 36.81855288967281, 36.68853880672759, 36.559637112149794, 36.43183737852253, 36.305129282365, 36.17950260305795, 36.0549472217807, 35.93145312045888, 35.80901038072421, 35.68760918288421, 35.56723980490349, 35.44789262139523, 35.329558102624034, 35.212226813518434, 35.09588941269433, 34.980536651488684, 34.866159373003235, 34.75274851115831, 34.64029508975675, 34.52879022155739, 34.41822510735867, 34.30859103509175, 34.19987937892299, 34.09208159836598, 33.98518923740315, 33.879193923616405, 33.774087367326715, 33.6698613607432, 33.56650777712087, 33.46401856992727, 33.36238577201789, 33.26160149482032, 33.16165792752688, 33.062547336295886, 32.96426206346112, 32.86679452674971, 32.77013721850821, 32.6742827049368, 32.57922362533173, 32.48495269133526, 32.39146268619395, 32.298746464024504, 32.20679694908731, 32.11560713506778, 32.02517008436499, 31.93547892738796, 31.84652686185932, 31.75830715212619, 31.670813128478297, 31.58403818647335, 31.497975786269407, 31.412619451964122, 31.327962770941305, 31.243999393223877, 31.160723030833914, 31.07812745715926, 30.996206506326786, 30.914954072582326, 30.83436410967696, 30.754430630259822, 30.675147705277233, 30.59650946337804, 30.5185100903255, 30.441143828414862, 30.364404975897333, 30.28828788641012, 30.212786968412207, 30.137896684626227, 30.063611551486055, 29.989926138590285, 29.91683506816129, 29.844333014510052, 29.772414703506573, 29.701074912055823, 29.63030846757897, 29.56011024750038, 29.490475178739675, 29.42139823720935, 29.35287444731732, 29.284898881475005, 29.217466659610267, 29.15057294868569, 29.084212962221564, 29.018381959824293, 28.953075246719177, 28.888288173288565, 28.82401613461452, 28.760254570026362, 28.696998962653, 28.634244838979743, 28.571987768409837, 28.510223362830676, 28.44894727618425, 28.388155204042445, 28.32784288318637, 28.268006091190514, 28.208640646010632, 28.14974240557662, 28.09130726738897, 28.03333116812005, 27.975810083218914, 27.918740026520677, 27.862117049859823, 27.805937242687428, 27.750196731692437, 27.694891680427034, 27.640018288935543, 27.585572793387552, 27.531551465714696, 27.477950613251117, 27.424766578377838, 27.371995738170714, 27.319634504052043, 27.267679321445986, 27.216126669437067, 27.164973060432917, 27.114215039829933, 27.063849185682578, 27.01387210837639, 26.964280450303914, 26.91507088554425, 26.866240119546063, 26.817784888813513, 26.76970196059572, 26.72198813257933, 26.674640232584405, 26.627655118263156, 26.58102967680213, 26.534760824627366, 26.488845507112423, 26.443280698289737, 26.398063400564688, 26.353190644432797, 26.30865948819984, 26.2644670177047, 26.22061034604525, 26.177086613307004, 26.1338929862946, 26.091026658266014, 26.04848484866938, 26.006264802883003, 25.96436379195747, 25.922779112360804, 25.881508085726047, 25.840548058601634, 25.79989640220418, 25.759550512173806, 25.719507808332146, 25.679765734442807, 25.640321757974064, 25.60117336986431, 25.562318084289718, 25.523753438434483, 25.485476992263205, 25.447486328295728, 25.409779051384316, 25.372352788493167, 25.335205188479936, 25.298333921879863, 25.261736680691925, 25.22541117816708, 25.189355148599006, 25.153566347116612, 25.118042549478943, 25.082781551872227, 25.047781170708685, 25.013039242427713, 24.97855362329903, 24.944322189227734, 24.910342835561597, 24.876613476899944, 24.843132046904934, 24.80989649811443, 24.776904801756988, 24.744154947568635, 24.711644943611656, 24.679372816095043, 24.647336609196795, 24.615534384888438, 24.58396422276062, 24.552624219851147, 24.521512490474606, 24.49062716605324, 24.45996639495041, 24.42952834230503, 24.39931118986812, 24.36931313584064, 24.33953239471355, 24.309967197108843, 24.28061578962277, 24.251476434670245, 24.222547410331032, 24.193827010197637, 24.165313543224332, 24.13700533357816, 24.10890072049121, 24.080998058114393, 24.05329571537292, 24.02579207582288, 23.99848553750972, 23.971374512827843, 23.944457428381565, 23.91773272484807, 23.891198856840834, 23.864854292775348, 23.838697514735472, 23.812727018341764, 23.78694131262065, 23.761338919875197, 23.735918375557045, 23.71067822813991, 23.685617038993932, 23.660733382261643, 23.63602584473514, 23.611493025734394, 23.587133536986766, 23.562946002508006, 23.53892905848414, 23.515081353154653, 23.49140154669698, 23.467888311112052, 23.44454033011089, 23.421356299002728, 23.398334924583686, 23.375474925027135, 23.35277502977479, 23.330233979429114, 23.307850525646696, 23.28562343103264, 23.263551469036337, 23.241633423847738, 23.219868090295364, 23.198254273744684, 23.176790789997952, 23.155476465194834, 23.134310135714223, 23.113290648076735, 23.092416858848583, 23.07168763454607, 23.05110185154123, 23.0306583959684, 23.01035616363161, 22.990194059913062, 22.970170999682463, 22.950285907207235, 22.930537716063586, 22.910925369048673, 22.8914478180934, 22.87210402417621, 22.852892957237795, 22.83381359609653, 22.81486492836479, 22.796045950366263, 22.777355667053783, 22.758793091928236, 22.740357246958254, 22.722047162500548, 22.703861877221215, 22.685800438017683, 22.667861899941656, 22.650045326122445, 22.632349787691563, 22.614774363707628, 22.597318141082166, 22.579980214506417, 22.56275968637832, 22.545655666730728, 22.528667273160163, 22.511793630756138, 22.49503387203132, 22.478387136852557, 22.461852572372177, 22.445429332960234, 22.429116580137517, 22.412913482508994, 22.396819215698006, 22.380832962281218, 22.36495391172399, 22.34918126031661, 22.33351421111101, 22.317951973858293, 22.302493764946504, 22.2871388073395, 22.27188633051607, 22.25673557040976, 22.24168576934941, 22.22673617600002, 22.211886045304468, 22.197134638425673, 22.182481222689233, 22.167925071526884, 22.153465464420314, 22.13910168684548, 22.1248330302178, 22.1106587918374, 22.096578274835398, 22.08259078812025, 22.068695646325132, 22.054892169755295, 22.041179684336285, 22.027557521562677, 22.01402501844708, 22.00058151746994, 21.987226366529516, 21.973958918892603, 21.960778533145632, 21.94768457314621, 21.934676407975285, 21.92175341188955, 21.90891496427454, 21.89616044959801, 21.883489257363905, 21.870900782066702, 21.858394423146155, 21.84596958494264, 21.83362567665275, 21.821362112285463, 21.809178310618577, 21.797073695155895, 21.78504769408436, 21.773099740231952, 21.76122927102595, 21.749435728451427, 21.73771855901037, 21.726077213681055, 21.714511147877758, 21.703019821411125, 21.691602698448634, 21.680259247475554, 21.668988941256334, 21.657791256796276, 21.646665675303687, 21.63561168215223, 21.624628766843806, 21.61371642297172, 21.602874148184178, 21.59210144414823, 21.58139781651388, 21.570762774878837, 21.560195832753205, 21.54969650752496, 21.539264320425392, 21.52889879649503, 21.518599464549972, 21.5083658571484, 21.49819751055743, 21.488093964720395, 21.478054763224346, 21.46807945326782, 21.458167585629134, 21.448318714634627, 21.438532398127613, 21.428808197437277, 21.41914567734806, 21.409544406069404, 21.400003955205523, 21.390523899725693, 21.38110381793475, 21.37174329144388, 21.362441905141637, 21.353199247165332, 21.344014908872577, 21.334888484813224, 21.325819572701437, 21.31680777338823, 21.30785269083402, 21.298953932081552, 21.2901111072292, 21.28132382940429, 21.2725917147369, 21.26391438233368, 21.255291454252173, 21.2467225554752, 21.238207313885436, 21.229745360240564, 21.22133632814814, 21.212979854041205, 21.204675577153797, 21.196423139496844, 21.18822218583414, 21.180072363658898, 21.17197332316994, 21.16392471724873, 21.15592620143616, 21.14797743390982, 21.140078075461357, 21.13222778947409, 21.124426241900892, 21.116673101242096, 21.1089680385238, 21.101310727276342, 21.093700843512824, 21.086138065708038, 21.07862207477754, 21.071152554056738, 21.063729189280462, 21.056351668562478, 21.04901968237536, 21.041732923530468, 21.034491087158145, 21.02729387068799, 21.02014097382961, 21.013032098553076, 21.00596694907008, 20.99894523181495, 20.991966655425728, 20.98503093072593, 20.978137770705874, 20.9712868905046, 20.96447800739179, 20.95771084074993, 20.950985112056387, 20.944300544866138, 20.937656864794153, 20.931053799498322, 20.924491078662218, 20.917968433978302, 20.911485599131126, 20.905042309780686, 20.89863830354599, 20.8922733199888, 20.885947100597445, 20.87965938877076, 20.873409929802307, 20.86719847086458, 20.86102476099354, 20.854888551073103, 20.84878959381986, 20.842727643767976, 20.83670245725412, 20.830713792402676, 20.824761409110888, 20.818845069034406, 20.812964535572664, 20.807119573854667, 20.80130995072471, 20.795535434728325, 20.78979579609833, 20.784090806741037, 20.77842024022248, 20.77278387175493, 20.76718147818333, 20.761612837972155, 20.756077731191944, 20.750575939506476, 20.745107246159602, 20.73967143596248, 20.734268295280835, 20.72889761202236, 20.723559175624054, 20.718252777040103, 20.712978208729314, 20.70773526464313, 20.702523740213465, 20.697343432340773, 20.692194139382238, 20.687075661140007, 20.681987798849487, 20.676930355167897, 20.671903134162832, 20.666905941300875, 20.661938583436434, 20.657000868800573, 20.652092606989985, 20.64721360895609, 20.642363686994187, 20.637542654732712, 20.632750327122604, 20.62798652042675, 20.62325105220956, 20.618543741326576, 20.613864407914235, 20.60921287337963, 20.604588960390497, 20.599992492865194, 20.59542329596278, 20.590881196073187, 20.586366020807468, 20.581877598988303, 20.577415760640108, 20.57298033697994, 20.568571160407792, 20.564188064497465, 20.559830883987274, 20.555499454770825, 20.55119361388809, 20.546913199516325, 20.542658050961176, 20.5384280086478, 20.53422291411221, 20.53004260999246, 20.525886940020197, 20.52175574901194, 20.517648882860858, 20.51356618852813, 20.509507514034908, 20.505472708453784, 20.50146162190091, 20.497474105527687, 20.493510011512868, 20.48956919305454, 20.485651504362277, 20.48175680064929, 20.477884938124703, 20.47403577398586, 20.470209166410676, 20.46640497455015, 20.462623058520848, 20.45886327939742, 20.455125499205405, 20.451409580913722, 20.447715388427675, 20.444042786581516, 20.44039164113156, 20.43676181874904, 20.433153187013158, 20.42956561440408, 20.425998970296206, 20.422453124951193, 20.418927949511342, 20.415423315992822, 20.411939097279102, 20.408475167114283, 20.405031400096657, 20.401607671672192, 20.39820385812815, 20.394819836586638, 20.391455484998463, 20.388110682136748, 20.38478530759078, 20.381479241759802, 20.378192365847074, 20.374924561853653, 20.371675712572518, 20.368445701582537, 20.365234413242714, 20.36204173268617, 20.35886754581445, 20.355711739291806, 20.352574200539433, 20.34945481772987, 20.34635347978135, 20.343270076352272, 20.340204497835725, 20.33715663535393, 20.33412638075298, 20.331113626597315, 20.328118266164456, 20.325140193439758, 20.32217930311108, 20.319235490563745, 20.316308651875197, 20.313398683810032, 20.310505483814897, 20.3076289500134, 20.304768981201285, 20.301925476841294, 20.299098337058375, 20.296287462634872, 20.293492755005573, 20.29071411625301, 20.287951449102692, 20.28520465691851, 20.282473643697838, 20.279758314067138, 20.277058573277273, 20.274374327198917, 20.27170548231819, 20.269051945732016, 20.266413625143734, 20.263790428858766, 20.26118226578018, 20.258589045404417, 20.25601067781688, 20.253447073687763, 20.250898144267875, 20.24836380138434, 20.245843957436467, 20.24333852539169, 20.24084741878138, 20.238370551696907, 20.235907838785444, 20.233459195246134, 20.231024536826077, 20.228603779816392, 20.22619684104831, 20.2238036378893, 20.221424088239324, 20.219058110526934, 20.216705623705476, 20.214366547249536, 20.212040801150962, 20.209728305915394, 20.2074289825585, 20.205142752602406, 20.20286953807205, 20.20060926149166, 20.19836184588123, 20.196127214752913, 20.193905292107658, 20.19169600243168, 20.189499270693094, 20.18731502233843, 20.185143183289334, 20.182983679939188, 20.180836439149807, 20.178701388248143, 20.17657845502298, 20.174467567721788, 20.172368655047357, 20.1702816461548, 20.168206470648165, 20.166143058577497, 20.164091340435597, 20.16205124715501, 20.160022710104837, 20.158005661087838, 20.156000032337325, 20.154005756514195, 20.152022766703954, 20.150050996413732, 20.14809037956943, 20.146140850512744, 20.144202343998323, 20.14227479519091, 20.14035813966248, 20.13845231338949, 20.136557252749984, 20.134672894520907, 20.132799175875327, 20.1309360343797, 20.129083407991146, 20.127241235054868, 20.12540945430133, 20.12358800484372, 20.121776826175285, 20.119975858166725, 20.11818504106364, 20.116404315483933, 20.114633622415287, 20.112872903212597, 20.11112209959555, 20.10938115364603, 20.107650007805752, 20.105928604873746, 20.104216888003933, 20.10251480070274, 20.1008222868267, 20.099139290580034, 20.09746575651239, 20.095801629516412, 20.09414685482544, 20.092501378011193, 20.09086514498159, 20.08923810197833, 20.087620195574733, 20.08601137267342, 20.084411580504238, 20.08282076662193, 20.081238878904, 20.07966586554851, 20.078101675072006, 20.07654625630731, 20.074999558401405, 20.07346153081337, 20.07193212331224, 20.070411285975013, 20.06889896918449, 20.067395123627303, 20.065899700291897, 20.06441265046647, 20.062933925736957, 20.06146347798516, 20.06000125938671, 20.058547222408993, 20.057101319809473, 20.055663504633618, 20.054233730212914, 20.052811950163118, 20.051398118382302, 20.049992189049046, 20.04859411662043, 20.047203855830425, 20.045821361687832, 20.04444658947469, 20.04307949474427, 20.04172003331947, 20.040368161290907, 20.0390238350152, 20.037687011113256, 20.036357646468517, 20.035035698225215, 20.03372112378666, 20.032413880813564, 20.03111392722242, 20.029821221183685, 20.028535721120246, 20.027257385705685, 20.0259861738627, 20.024722044761486, 20.023464957818064, 20.022214872692754, 20.020971749288503, 20.019735547749363, 20.018506228458968, 20.017283752038853, 20.016068079347004, 20.014859171476374, 20.01365698975318, 20.01246149573553, 20.011272651211954, 20.010090418199837, 20.00891475894392, 20.007745635914915, 20.00658301180798, 20.005426849541344, 20.004277112254755, 20.00313376330819, 20.00199676628032, 20.000866084967186, 19.999741683380783, 19.998623525747643, 19.9975115765075, 19.996405800311862, 19.995306162022768, 19.994212626711295, 19.993125159656348, 19.992043726343244, 19.990968292462455, 19.989898823908273, 19.98883528677749, 19.987777647368127, 19.986725872178155, 19.985679927904215, 19.984639781440386, 19.98360539987685, 19.982576750498737, 19.98155380078483, 19.9805365184064, 19.97952487122582, 19.978518827295613, 19.977518354857015, 19.97652342233894, 19.975533998356674]\n"
          ]
        },
        {
          "output_type": "display_data",
          "data": {
            "text/plain": [
              "<Figure size 640x480 with 1 Axes>"
            ],
            "image/png": "[encoded data removed]"
          },
          "metadata": {}
        }
      ]
    },
    {
      "cell_type": "code",
      "source": [
        "# Question 11:\n",
        "X, y = prepare_data('advertising.csv')\n",
        "\n",
        "# Using MSE loss\n",
        "(w1, w2, w3, b, losses) = implement_linear_regression_nsamples(X, y,\n",
        "                                                               epoch_max=1000,\n",
        "                                                               lr=1e-5)\n",
        "\n",
        "print(w1, w2, w3)"
      ],
      "metadata": {
        "colab": {
          "base_uri": "https://localhost:8080/"
        },
        "id": "BEoSnJRiC_Xb",
        "outputId": "246b4551-2c2f-4b49-e846-aae2c74fd6f6"
      },
      "execution_count": 125,
      "outputs": [
        {
          "output_type": "stream",
          "name": "stdout",
          "text": [
            "0.07865211655017688 0.009363049405216773 3.387579445815582e-06\n"
          ]
        }
      ]
    },
    {
      "cell_type": "markdown",
      "source": [
        "## Bài tập 4\n",
        "Như chúng ta đã biết, mục đích của linear regression là tìm hàm xấp xỉ y = ax1 + bx2 + cx3 + bx0. Trong đó x1 là TV, x2 là Radio, x3 là Newspapers, và x0 = 1. Đầu tiên, bạn cần tổ chức lại dữ liệu đầu vào ở bài tập 1 theo dạng danh sách các feature (x0, x1, x2, x3). Ví dụ theo hình 1, dữ liệu đầu vào dòng thứ 1 và 2 ta có thể tổ chức lại như sau:\n",
        "\n",
        "X[0] = [1, x1, x2, x3] = [1, 230.1, 37.8, 69.2]\n",
        "\n",
        "X[1] = [1, x1, x2, x3] = [1, 44.5, 39.3, 45.1]\n",
        "\n",
        "....\n",
        "\n",
        "X[199] = [1, x1, x2, x3] = [1, 232.1, 8.6, 8,7]"
      ],
      "metadata": {
        "id": "IbQSKcuZG9_h"
      }
    },
    {
      "cell_type": "code",
      "source": [
        "def prepare_data(file_name_dataset):\n",
        "  data = np.genfromtxt(file_name_dataset, delimiter=',', skip_header=1).tolist()\n",
        "\n",
        "  # Get TV (index=0)\n",
        "  tv_data = get_column(data, 0)\n",
        "\n",
        "  # Get radio (index=1)\n",
        "  radio_data = get_column(data, 1)\n",
        "\n",
        "  # Get newspaper(index=2)\n",
        "  newspaper_data = get_column(data, 2)\n",
        "\n",
        "  # Get sales (index=3)\n",
        "  sales_data = get_column(data, 3)\n",
        "\n",
        "  # Building X input and y output for training\n",
        "  # Create list of features for input\n",
        "  X = [[1, x1, x2, x3] for x1, x2, x3 in zip(tv_data, radio_data, newspaper_data)]\n",
        "  y = sales_data\n",
        "\n",
        "  return X, y"
      ],
      "metadata": {
        "id": "U64ZqUBRHOw_"
      },
      "execution_count": 134,
      "outputs": []
    },
    {
      "cell_type": "code",
      "source": [
        "def initialize_params():\n",
        "  bias = 0\n",
        "  w1 = random.gauss(mu=0.0, sigma=0.01)\n",
        "  w2 = random.gauss(mu=0.0, sigma=0.01)\n",
        "  w3 = random.gauss(mu=0.0, sigma=0.01)\n",
        "\n",
        "  # Cmt this line for real application\n",
        "  #return [0, -0.01268850433497871, 0.004752496982185252, 0.0073796171538643845]\n",
        "  return [bias, w1, w2, w3]"
      ],
      "metadata": {
        "id": "NT9COMDCIGpf"
      },
      "execution_count": 135,
      "outputs": []
    },
    {
      "cell_type": "code",
      "source": [
        "# Predict output by using y = x0*b + x1*w1 + x2*w2 + x3*w3\n",
        "def predict(X_features, weights):\n",
        "  result = sum([f*w for f, w in zip(X_features, weights)])\n",
        "  return result\n",
        "\n",
        "def compute_loss(y_hat, y):\n",
        "  loss = (y_hat - y)**2\n",
        "  return loss\n",
        "\n",
        "# compute_gradient\n",
        "def compute_gradient_wi(X_features, y, y_hat):\n",
        "  dl_dweights = []\n",
        "  for i in range(len(X_features)):\n",
        "    dl_dweights.append(2 * X_features[i] * (y_hat - y))\n",
        "  return dl_dweights\n",
        "\n",
        "# Update weights\n",
        "def update_weight(weights, dl_dweights, lr):\n",
        "  for i in range(len(weights)):\n",
        "    weights[i] = weights[i] - lr * dl_dweights[i]\n",
        "  return weights\n"
      ],
      "metadata": {
        "id": "sTb_LEjCIbDu"
      },
      "execution_count": 136,
      "outputs": []
    },
    {
      "cell_type": "code",
      "source": [
        "def implement_linear_regression(X_feature, y_output, epoch_max=50, lr=1e-5):\n",
        "  losses = []\n",
        "\n",
        "  weights = initialize_params()\n",
        "  N = len(y_output)\n",
        "\n",
        "  for epoch in range(epoch_max):\n",
        "    for i in range(N):\n",
        "      # get a sample - row i\n",
        "      features_i = X_feature[i]\n",
        "      y = y_output[i]\n",
        "\n",
        "      # Compute output\n",
        "      y_hat = predict(features_i, weights)\n",
        "\n",
        "      # Compute loss\n",
        "      loss = compute_loss(y, y_hat)\n",
        "\n",
        "      # Compute gradient w1, w2, w3, b\n",
        "      dl_weights = compute_gradient_wi(features_i, y, y_hat)\n",
        "\n",
        "      # Update parameters\n",
        "      weights = update_weight(weights, dl_weights, lr)\n",
        "\n",
        "      # Logging\n",
        "      losses.append(loss)\n",
        "\n",
        "  return weights, losses\n",
        "\n",
        "X, y = prepare_data('advertising.csv')\n",
        "W, L = implement_linear_regression(X, y)\n",
        "plt.plot(L[0:100])\n",
        "plt.xlabel('#iteration')\n",
        "plt.ylabel('Loss')\n",
        "plt.show()"
      ],
      "metadata": {
        "colab": {
          "base_uri": "https://localhost:8080/",
          "height": 449
        },
        "id": "D_JcipxEJeM-",
        "outputId": "fb645dd6-8407-45bd-eca0-e3f87cdcb0be"
      },
      "execution_count": 140,
      "outputs": [
        {
          "output_type": "display_data",
          "data": {
            "text/plain": [
              "<Figure size 640x480 with 1 Axes>"
            ],
            "image/png": "[encoded data removed]"
          },
          "metadata": {}
        }
      ]
    },
    {
      "cell_type": "code",
      "source": [
        "# Question 12\n",
        "X, y = prepare_data('advertising.csv')\n",
        "W, L = implement_linear_regression(X, y, epoch_max=50, lr=1e-5)\n",
        "print(L[9999])"
      ],
      "metadata": {
        "colab": {
          "base_uri": "https://localhost:8080/"
        },
        "id": "gkoeZTYJDVQH",
        "outputId": "a7637320-c23d-4763-f88c-300302632d00"
      },
      "execution_count": 142,
      "outputs": [
        {
          "output_type": "stream",
          "name": "stdout",
          "text": [
            "31.33923274153756\n"
          ]
        }
      ]
    },
    {
      "cell_type": "code",
      "source": [],
      "metadata": {
        "id": "m8IWb9r8DoOk"
      },
      "execution_count": null,
      "outputs": []
    }
  ]
}